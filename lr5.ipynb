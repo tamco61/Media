{
 "cells": [
  {
   "cell_type": "markdown",
   "metadata": {},
   "source": [
    "##### Лабораторная работа №5 (Проведение исследований с градиентным бустингом)"
   ]
  },
  {
   "cell_type": "markdown",
   "metadata": {},
   "source": [
    "## Создание бейзлайна и оценка качества"
   ]
  },
  {
   "cell_type": "markdown",
   "metadata": {},
   "source": [
    "### Обучение моделей из sklearn для выбранных наборов данных"
   ]
  },
  {
   "cell_type": "markdown",
   "metadata": {},
   "source": [
    "#### Импорт библиотек"
   ]
  },
  {
   "cell_type": "code",
   "execution_count": 1,
   "metadata": {
    "execution": {
     "iopub.execute_input": "2025-01-04T08:45:29.322469Z",
     "iopub.status.busy": "2025-01-04T08:45:29.322158Z",
     "iopub.status.idle": "2025-01-04T08:45:30.836902Z",
     "shell.execute_reply": "2025-01-04T08:45:30.835885Z",
     "shell.execute_reply.started": "2025-01-04T08:45:29.322424Z"
    },
    "trusted": true
   },
   "outputs": [],
   "source": [
    "import pandas as pd\n",
    "from sklearn.model_selection import train_test_split, GridSearchCV, RepeatedKFold\n",
    "from sklearn.preprocessing import StandardScaler, LabelEncoder, PolynomialFeatures\n",
    "from sklearn.ensemble import GradientBoostingClassifier, GradientBoostingRegressor\n",
    "from sklearn.metrics import accuracy_score, f1_score, mean_absolute_error, r2_score, log_loss\n",
    "from sklearn.impute import SimpleImputer\n",
    "from sklearn.tree import DecisionTreeClassifier, DecisionTreeRegressor\n",
    "from scipy.spatial import distance\n",
    "import numpy as np\n",
    "from collections import Counter"
   ]
  },
  {
   "cell_type": "markdown",
   "metadata": {},
   "source": [
    "#### Подготовка данных"
   ]
  },
  {
   "cell_type": "markdown",
   "metadata": {},
   "source": [
    "##### Классификация (Credit Card Fraud Detection Dataset 2023)"
   ]
  },
  {
   "cell_type": "markdown",
   "metadata": {},
   "source": [
    "**Загрузка данных:**"
   ]
  },
  {
   "cell_type": "code",
   "execution_count": 2,
   "metadata": {
    "execution": {
     "iopub.execute_input": "2025-01-04T08:45:30.838601Z",
     "iopub.status.busy": "2025-01-04T08:45:30.837970Z",
     "iopub.status.idle": "2025-01-04T08:45:42.017036Z",
     "shell.execute_reply": "2025-01-04T08:45:42.015304Z",
     "shell.execute_reply.started": "2025-01-04T08:45:30.838512Z"
    },
    "trusted": true
   },
   "outputs": [],
   "source": [
    "fraud_data = pd.read_csv('/kaggle/input/credit-card-fraud-detection-dataset-2023/creditcard_2023.csv')\n",
    "fraud_data = fraud_data.sample(frac=0.05)\n",
    "X_fraud = fraud_data.iloc[:, :-1]  # Признаки\n",
    "y_fraud = fraud_data.iloc[:, -1]   # Метки классов\n",
    "\n",
    "label_encoder = LabelEncoder()\n",
    "y_fraud_encoded = label_encoder.fit_transform(y_fraud)\n",
    "\n",
    "X_fraud, _, y_fraud_encoded, _ = train_test_split(X_fraud, y_fraud_encoded, stratify=y_fraud_encoded, test_size=0.5, random_state=42)  # уменьшаем датасет для ускорения обучения"
   ]
  },
  {
   "cell_type": "markdown",
   "metadata": {},
   "source": [
    "**Разделение на тренировочный и тестовый наборы:**"
   ]
  },
  {
   "cell_type": "code",
   "execution_count": 3,
   "metadata": {
    "execution": {
     "iopub.execute_input": "2025-01-04T08:45:42.018597Z",
     "iopub.status.busy": "2025-01-04T08:45:42.018122Z",
     "iopub.status.idle": "2025-01-04T08:45:42.029982Z",
     "shell.execute_reply": "2025-01-04T08:45:42.028553Z",
     "shell.execute_reply.started": "2025-01-04T08:45:42.018551Z"
    },
    "trusted": true
   },
   "outputs": [],
   "source": [
    "X_train_fraud, X_test_fraud, y_train_fraud, y_test_fraud = train_test_split(X_fraud, y_fraud_encoded, test_size=0.2, random_state=42)"
   ]
  },
  {
   "cell_type": "markdown",
   "metadata": {},
   "source": [
    "**Замена пропущенных значений**"
   ]
  },
  {
   "cell_type": "code",
   "execution_count": 4,
   "metadata": {
    "execution": {
     "iopub.execute_input": "2025-01-04T08:45:42.033006Z",
     "iopub.status.busy": "2025-01-04T08:45:42.032729Z",
     "iopub.status.idle": "2025-01-04T08:45:42.050084Z",
     "shell.execute_reply": "2025-01-04T08:45:42.048645Z",
     "shell.execute_reply.started": "2025-01-04T08:45:42.032982Z"
    },
    "trusted": true
   },
   "outputs": [],
   "source": [
    "def simple_imputer_df(x_train, x_test):\n",
    "    imputer = SimpleImputer(strategy='mean')\n",
    "    return pd.DataFrame(imputer.fit_transform(x_train)), pd.DataFrame(imputer.transform(x_test))"
   ]
  },
  {
   "cell_type": "code",
   "execution_count": 5,
   "metadata": {
    "execution": {
     "iopub.execute_input": "2025-01-04T08:45:42.052627Z",
     "iopub.status.busy": "2025-01-04T08:45:42.052176Z",
     "iopub.status.idle": "2025-01-04T08:45:42.091565Z",
     "shell.execute_reply": "2025-01-04T08:45:42.090589Z",
     "shell.execute_reply.started": "2025-01-04T08:45:42.052592Z"
    },
    "trusted": true
   },
   "outputs": [],
   "source": [
    "X_train_fraud, X_test_fraud = simple_imputer_df(X_train_fraud, X_test_fraud)"
   ]
  },
  {
   "cell_type": "markdown",
   "metadata": {},
   "source": [
    "**Масштабирование данных**"
   ]
  },
  {
   "cell_type": "code",
   "execution_count": 6,
   "metadata": {
    "execution": {
     "iopub.execute_input": "2025-01-04T08:45:42.093344Z",
     "iopub.status.busy": "2025-01-04T08:45:42.092961Z",
     "iopub.status.idle": "2025-01-04T08:45:42.098405Z",
     "shell.execute_reply": "2025-01-04T08:45:42.097215Z",
     "shell.execute_reply.started": "2025-01-04T08:45:42.093305Z"
    },
    "trusted": true
   },
   "outputs": [],
   "source": [
    "def scaling(x_train, x_test):\n",
    "    scaler = StandardScaler()\n",
    "    return scaler.fit_transform(x_train), scaler.transform(x_test)"
   ]
  },
  {
   "cell_type": "code",
   "execution_count": 7,
   "metadata": {
    "execution": {
     "iopub.execute_input": "2025-01-04T08:45:42.099806Z",
     "iopub.status.busy": "2025-01-04T08:45:42.099512Z",
     "iopub.status.idle": "2025-01-04T08:45:42.127761Z",
     "shell.execute_reply": "2025-01-04T08:45:42.126329Z",
     "shell.execute_reply.started": "2025-01-04T08:45:42.099749Z"
    },
    "trusted": true
   },
   "outputs": [],
   "source": [
    "X_train_fraud, X_test_fraud = scaling(X_train_fraud, X_test_fraud)"
   ]
  },
  {
   "cell_type": "markdown",
   "metadata": {},
   "source": [
    "##### Регрессия (Gold Price Regression)"
   ]
  },
  {
   "cell_type": "markdown",
   "metadata": {},
   "source": [
    "**Загрузка данных:**"
   ]
  },
  {
   "cell_type": "code",
   "execution_count": 8,
   "metadata": {
    "execution": {
     "iopub.execute_input": "2025-01-04T08:45:42.129248Z",
     "iopub.status.busy": "2025-01-04T08:45:42.128886Z",
     "iopub.status.idle": "2025-01-04T08:45:42.202089Z",
     "shell.execute_reply": "2025-01-04T08:45:42.200786Z",
     "shell.execute_reply.started": "2025-01-04T08:45:42.129216Z"
    },
    "trusted": true
   },
   "outputs": [],
   "source": [
    "gold_data = pd.read_csv('/kaggle/input/financial-data/financial_regression.csv')\n",
    "\n",
    "X_gold = gold_data.iloc[:, 1:-1]  # Признаки\n",
    "y_gold = gold_data.iloc[:, -1]   # Целевая переменная"
   ]
  },
  {
   "cell_type": "markdown",
   "metadata": {},
   "source": [
    "**Разделение на тренировочный и тестовый наборы:**"
   ]
  },
  {
   "cell_type": "code",
   "execution_count": 9,
   "metadata": {
    "execution": {
     "iopub.execute_input": "2025-01-04T08:45:42.203669Z",
     "iopub.status.busy": "2025-01-04T08:45:42.203276Z",
     "iopub.status.idle": "2025-01-04T08:45:42.211871Z",
     "shell.execute_reply": "2025-01-04T08:45:42.210898Z",
     "shell.execute_reply.started": "2025-01-04T08:45:42.203630Z"
    },
    "trusted": true
   },
   "outputs": [],
   "source": [
    "X_train_gold, X_test_gold, y_train_gold, y_test_gold = train_test_split(X_gold, y_gold, test_size=0.2, random_state=42)"
   ]
  },
  {
   "cell_type": "markdown",
   "metadata": {},
   "source": [
    "**Замена пропущенных значений:**"
   ]
  },
  {
   "cell_type": "code",
   "execution_count": 10,
   "metadata": {
    "execution": {
     "iopub.execute_input": "2025-01-04T08:45:42.212970Z",
     "iopub.status.busy": "2025-01-04T08:45:42.212651Z",
     "iopub.status.idle": "2025-01-04T08:45:42.234030Z",
     "shell.execute_reply": "2025-01-04T08:45:42.232625Z",
     "shell.execute_reply.started": "2025-01-04T08:45:42.212938Z"
    },
    "trusted": true
   },
   "outputs": [],
   "source": [
    "def simple_imputer(x_train, x_test):\n",
    "    imputer = SimpleImputer(strategy='mean')\n",
    "    return imputer.fit_transform(x_train), imputer.transform(x_test)"
   ]
  },
  {
   "cell_type": "code",
   "execution_count": 11,
   "metadata": {
    "execution": {
     "iopub.execute_input": "2025-01-04T08:45:42.235924Z",
     "iopub.status.busy": "2025-01-04T08:45:42.235483Z",
     "iopub.status.idle": "2025-01-04T08:45:42.266382Z",
     "shell.execute_reply": "2025-01-04T08:45:42.265328Z",
     "shell.execute_reply.started": "2025-01-04T08:45:42.235882Z"
    },
    "trusted": true
   },
   "outputs": [],
   "source": [
    "X_train_gold, X_test_gold = simple_imputer(X_train_gold, X_test_gold)"
   ]
  },
  {
   "cell_type": "markdown",
   "metadata": {},
   "source": [
    "**Удаление строк с пропущенными значениями:**"
   ]
  },
  {
   "cell_type": "code",
   "execution_count": 12,
   "metadata": {
    "execution": {
     "iopub.execute_input": "2025-01-04T08:45:42.267971Z",
     "iopub.status.busy": "2025-01-04T08:45:42.267624Z",
     "iopub.status.idle": "2025-01-04T08:45:42.274648Z",
     "shell.execute_reply": "2025-01-04T08:45:42.273304Z",
     "shell.execute_reply.started": "2025-01-04T08:45:42.267938Z"
    },
    "trusted": true
   },
   "outputs": [],
   "source": [
    "def delete_none(x_train, y_train, x_test, y_test):\n",
    "    mask = ~np.isnan(y_train)\n",
    "    mask_test = ~np.isnan(y_test)\n",
    "    return x_train[mask], y_train[mask], x_test[mask_test], y_test[mask_test]"
   ]
  },
  {
   "cell_type": "code",
   "execution_count": 13,
   "metadata": {
    "execution": {
     "iopub.execute_input": "2025-01-04T08:45:42.280047Z",
     "iopub.status.busy": "2025-01-04T08:45:42.279680Z",
     "iopub.status.idle": "2025-01-04T08:45:42.298015Z",
     "shell.execute_reply": "2025-01-04T08:45:42.296692Z",
     "shell.execute_reply.started": "2025-01-04T08:45:42.280015Z"
    },
    "trusted": true
   },
   "outputs": [],
   "source": [
    "X_train_gold, y_train_gold, X_test_gold, y_test_gold = delete_none(X_train_gold, y_train_gold, X_test_gold, y_test_gold)"
   ]
  },
  {
   "cell_type": "markdown",
   "metadata": {},
   "source": [
    "#### Обучение моделей"
   ]
  },
  {
   "cell_type": "markdown",
   "metadata": {},
   "source": [
    "##### Классификация"
   ]
  },
  {
   "cell_type": "code",
   "execution_count": 14,
   "metadata": {
    "execution": {
     "iopub.execute_input": "2025-01-04T08:45:42.301704Z",
     "iopub.status.busy": "2025-01-04T08:45:42.301265Z",
     "iopub.status.idle": "2025-01-04T08:45:52.004091Z",
     "shell.execute_reply": "2025-01-04T08:45:52.002830Z",
     "shell.execute_reply.started": "2025-01-04T08:45:42.301665Z"
    },
    "trusted": true
   },
   "outputs": [
    {
     "data": {
      "text/html": [
       "<style>#sk-container-id-1 {color: black;background-color: white;}#sk-container-id-1 pre{padding: 0;}#sk-container-id-1 div.sk-toggleable {background-color: white;}#sk-container-id-1 label.sk-toggleable__label {cursor: pointer;display: block;width: 100%;margin-bottom: 0;padding: 0.3em;box-sizing: border-box;text-align: center;}#sk-container-id-1 label.sk-toggleable__label-arrow:before {content: \"▸\";float: left;margin-right: 0.25em;color: #696969;}#sk-container-id-1 label.sk-toggleable__label-arrow:hover:before {color: black;}#sk-container-id-1 div.sk-estimator:hover label.sk-toggleable__label-arrow:before {color: black;}#sk-container-id-1 div.sk-toggleable__content {max-height: 0;max-width: 0;overflow: hidden;text-align: left;background-color: #f0f8ff;}#sk-container-id-1 div.sk-toggleable__content pre {margin: 0.2em;color: black;border-radius: 0.25em;background-color: #f0f8ff;}#sk-container-id-1 input.sk-toggleable__control:checked~div.sk-toggleable__content {max-height: 200px;max-width: 100%;overflow: auto;}#sk-container-id-1 input.sk-toggleable__control:checked~label.sk-toggleable__label-arrow:before {content: \"▾\";}#sk-container-id-1 div.sk-estimator input.sk-toggleable__control:checked~label.sk-toggleable__label {background-color: #d4ebff;}#sk-container-id-1 div.sk-label input.sk-toggleable__control:checked~label.sk-toggleable__label {background-color: #d4ebff;}#sk-container-id-1 input.sk-hidden--visually {border: 0;clip: rect(1px 1px 1px 1px);clip: rect(1px, 1px, 1px, 1px);height: 1px;margin: -1px;overflow: hidden;padding: 0;position: absolute;width: 1px;}#sk-container-id-1 div.sk-estimator {font-family: monospace;background-color: #f0f8ff;border: 1px dotted black;border-radius: 0.25em;box-sizing: border-box;margin-bottom: 0.5em;}#sk-container-id-1 div.sk-estimator:hover {background-color: #d4ebff;}#sk-container-id-1 div.sk-parallel-item::after {content: \"\";width: 100%;border-bottom: 1px solid gray;flex-grow: 1;}#sk-container-id-1 div.sk-label:hover label.sk-toggleable__label {background-color: #d4ebff;}#sk-container-id-1 div.sk-serial::before {content: \"\";position: absolute;border-left: 1px solid gray;box-sizing: border-box;top: 0;bottom: 0;left: 50%;z-index: 0;}#sk-container-id-1 div.sk-serial {display: flex;flex-direction: column;align-items: center;background-color: white;padding-right: 0.2em;padding-left: 0.2em;position: relative;}#sk-container-id-1 div.sk-item {position: relative;z-index: 1;}#sk-container-id-1 div.sk-parallel {display: flex;align-items: stretch;justify-content: center;background-color: white;position: relative;}#sk-container-id-1 div.sk-item::before, #sk-container-id-1 div.sk-parallel-item::before {content: \"\";position: absolute;border-left: 1px solid gray;box-sizing: border-box;top: 0;bottom: 0;left: 50%;z-index: -1;}#sk-container-id-1 div.sk-parallel-item {display: flex;flex-direction: column;z-index: 1;position: relative;background-color: white;}#sk-container-id-1 div.sk-parallel-item:first-child::after {align-self: flex-end;width: 50%;}#sk-container-id-1 div.sk-parallel-item:last-child::after {align-self: flex-start;width: 50%;}#sk-container-id-1 div.sk-parallel-item:only-child::after {width: 0;}#sk-container-id-1 div.sk-dashed-wrapped {border: 1px dashed gray;margin: 0 0.4em 0.5em 0.4em;box-sizing: border-box;padding-bottom: 0.4em;background-color: white;}#sk-container-id-1 div.sk-label label {font-family: monospace;font-weight: bold;display: inline-block;line-height: 1.2em;}#sk-container-id-1 div.sk-label-container {text-align: center;}#sk-container-id-1 div.sk-container {/* jupyter's `normalize.less` sets `[hidden] { display: none; }` but bootstrap.min.css set `[hidden] { display: none !important; }` so we also need the `!important` here to be able to override the default hidden behavior on the sphinx rendered scikit-learn.org. See: https://github.com/scikit-learn/scikit-learn/issues/21755 */display: inline-block !important;position: relative;}#sk-container-id-1 div.sk-text-repr-fallback {display: none;}</style><div id=\"sk-container-id-1\" class=\"sk-top-container\"><div class=\"sk-text-repr-fallback\"><pre>GradientBoostingClassifier(random_state=42)</pre><b>In a Jupyter environment, please rerun this cell to show the HTML representation or trust the notebook. <br />On GitHub, the HTML representation is unable to render, please try loading this page with nbviewer.org.</b></div><div class=\"sk-container\" hidden><div class=\"sk-item\"><div class=\"sk-estimator sk-toggleable\"><input class=\"sk-toggleable__control sk-hidden--visually\" id=\"sk-estimator-id-1\" type=\"checkbox\" checked><label for=\"sk-estimator-id-1\" class=\"sk-toggleable__label sk-toggleable__label-arrow\">GradientBoostingClassifier</label><div class=\"sk-toggleable__content\"><pre>GradientBoostingClassifier(random_state=42)</pre></div></div></div></div></div>"
      ],
      "text/plain": [
       "GradientBoostingClassifier(random_state=42)"
      ]
     },
     "execution_count": 14,
     "metadata": {},
     "output_type": "execute_result"
    }
   ],
   "source": [
    "classifier = GradientBoostingClassifier(random_state=42)\n",
    "classifier.fit(X_train_fraud, y_train_fraud)"
   ]
  },
  {
   "cell_type": "markdown",
   "metadata": {},
   "source": [
    "##### Регрессия"
   ]
  },
  {
   "cell_type": "code",
   "execution_count": 15,
   "metadata": {
    "execution": {
     "iopub.execute_input": "2025-01-04T08:45:52.005593Z",
     "iopub.status.busy": "2025-01-04T08:45:52.005253Z",
     "iopub.status.idle": "2025-01-04T08:45:56.257510Z",
     "shell.execute_reply": "2025-01-04T08:45:56.256308Z",
     "shell.execute_reply.started": "2025-01-04T08:45:52.005560Z"
    },
    "trusted": true
   },
   "outputs": [
    {
     "data": {
      "text/html": [
       "<style>#sk-container-id-2 {color: black;background-color: white;}#sk-container-id-2 pre{padding: 0;}#sk-container-id-2 div.sk-toggleable {background-color: white;}#sk-container-id-2 label.sk-toggleable__label {cursor: pointer;display: block;width: 100%;margin-bottom: 0;padding: 0.3em;box-sizing: border-box;text-align: center;}#sk-container-id-2 label.sk-toggleable__label-arrow:before {content: \"▸\";float: left;margin-right: 0.25em;color: #696969;}#sk-container-id-2 label.sk-toggleable__label-arrow:hover:before {color: black;}#sk-container-id-2 div.sk-estimator:hover label.sk-toggleable__label-arrow:before {color: black;}#sk-container-id-2 div.sk-toggleable__content {max-height: 0;max-width: 0;overflow: hidden;text-align: left;background-color: #f0f8ff;}#sk-container-id-2 div.sk-toggleable__content pre {margin: 0.2em;color: black;border-radius: 0.25em;background-color: #f0f8ff;}#sk-container-id-2 input.sk-toggleable__control:checked~div.sk-toggleable__content {max-height: 200px;max-width: 100%;overflow: auto;}#sk-container-id-2 input.sk-toggleable__control:checked~label.sk-toggleable__label-arrow:before {content: \"▾\";}#sk-container-id-2 div.sk-estimator input.sk-toggleable__control:checked~label.sk-toggleable__label {background-color: #d4ebff;}#sk-container-id-2 div.sk-label input.sk-toggleable__control:checked~label.sk-toggleable__label {background-color: #d4ebff;}#sk-container-id-2 input.sk-hidden--visually {border: 0;clip: rect(1px 1px 1px 1px);clip: rect(1px, 1px, 1px, 1px);height: 1px;margin: -1px;overflow: hidden;padding: 0;position: absolute;width: 1px;}#sk-container-id-2 div.sk-estimator {font-family: monospace;background-color: #f0f8ff;border: 1px dotted black;border-radius: 0.25em;box-sizing: border-box;margin-bottom: 0.5em;}#sk-container-id-2 div.sk-estimator:hover {background-color: #d4ebff;}#sk-container-id-2 div.sk-parallel-item::after {content: \"\";width: 100%;border-bottom: 1px solid gray;flex-grow: 1;}#sk-container-id-2 div.sk-label:hover label.sk-toggleable__label {background-color: #d4ebff;}#sk-container-id-2 div.sk-serial::before {content: \"\";position: absolute;border-left: 1px solid gray;box-sizing: border-box;top: 0;bottom: 0;left: 50%;z-index: 0;}#sk-container-id-2 div.sk-serial {display: flex;flex-direction: column;align-items: center;background-color: white;padding-right: 0.2em;padding-left: 0.2em;position: relative;}#sk-container-id-2 div.sk-item {position: relative;z-index: 1;}#sk-container-id-2 div.sk-parallel {display: flex;align-items: stretch;justify-content: center;background-color: white;position: relative;}#sk-container-id-2 div.sk-item::before, #sk-container-id-2 div.sk-parallel-item::before {content: \"\";position: absolute;border-left: 1px solid gray;box-sizing: border-box;top: 0;bottom: 0;left: 50%;z-index: -1;}#sk-container-id-2 div.sk-parallel-item {display: flex;flex-direction: column;z-index: 1;position: relative;background-color: white;}#sk-container-id-2 div.sk-parallel-item:first-child::after {align-self: flex-end;width: 50%;}#sk-container-id-2 div.sk-parallel-item:last-child::after {align-self: flex-start;width: 50%;}#sk-container-id-2 div.sk-parallel-item:only-child::after {width: 0;}#sk-container-id-2 div.sk-dashed-wrapped {border: 1px dashed gray;margin: 0 0.4em 0.5em 0.4em;box-sizing: border-box;padding-bottom: 0.4em;background-color: white;}#sk-container-id-2 div.sk-label label {font-family: monospace;font-weight: bold;display: inline-block;line-height: 1.2em;}#sk-container-id-2 div.sk-label-container {text-align: center;}#sk-container-id-2 div.sk-container {/* jupyter's `normalize.less` sets `[hidden] { display: none; }` but bootstrap.min.css set `[hidden] { display: none !important; }` so we also need the `!important` here to be able to override the default hidden behavior on the sphinx rendered scikit-learn.org. See: https://github.com/scikit-learn/scikit-learn/issues/21755 */display: inline-block !important;position: relative;}#sk-container-id-2 div.sk-text-repr-fallback {display: none;}</style><div id=\"sk-container-id-2\" class=\"sk-top-container\"><div class=\"sk-text-repr-fallback\"><pre>GradientBoostingRegressor(random_state=42)</pre><b>In a Jupyter environment, please rerun this cell to show the HTML representation or trust the notebook. <br />On GitHub, the HTML representation is unable to render, please try loading this page with nbviewer.org.</b></div><div class=\"sk-container\" hidden><div class=\"sk-item\"><div class=\"sk-estimator sk-toggleable\"><input class=\"sk-toggleable__control sk-hidden--visually\" id=\"sk-estimator-id-2\" type=\"checkbox\" checked><label for=\"sk-estimator-id-2\" class=\"sk-toggleable__label sk-toggleable__label-arrow\">GradientBoostingRegressor</label><div class=\"sk-toggleable__content\"><pre>GradientBoostingRegressor(random_state=42)</pre></div></div></div></div></div>"
      ],
      "text/plain": [
       "GradientBoostingRegressor(random_state=42)"
      ]
     },
     "execution_count": 15,
     "metadata": {},
     "output_type": "execute_result"
    }
   ],
   "source": [
    "regressor = GradientBoostingRegressor(random_state=42)\n",
    "regressor.fit(X_train_gold, y_train_gold)"
   ]
  },
  {
   "cell_type": "markdown",
   "metadata": {},
   "source": [
    "### Оценка качества моделей по выбранным метрикам"
   ]
  },
  {
   "cell_type": "markdown",
   "metadata": {},
   "source": [
    "##### Классификация"
   ]
  },
  {
   "cell_type": "code",
   "execution_count": 16,
   "metadata": {
    "execution": {
     "iopub.execute_input": "2025-01-04T08:45:56.259053Z",
     "iopub.status.busy": "2025-01-04T08:45:56.258654Z",
     "iopub.status.idle": "2025-01-04T08:45:56.265106Z",
     "shell.execute_reply": "2025-01-04T08:45:56.263884Z",
     "shell.execute_reply.started": "2025-01-04T08:45:56.259013Z"
    },
    "trusted": true
   },
   "outputs": [],
   "source": [
    "def quality_eval_classification(X_test, y_test, model):\n",
    "    y_pred = model.predict(X_test)\n",
    "    accuracy = accuracy_score(y_test, y_pred)\n",
    "    f1 = f1_score(y_test, y_pred, average='weighted')\n",
    "    print(f\"Accuracy: {accuracy}\")\n",
    "    print(f\"F1 Score: {f1}\")\n",
    "    return accuracy, f1"
   ]
  },
  {
   "cell_type": "code",
   "execution_count": 17,
   "metadata": {
    "execution": {
     "iopub.execute_input": "2025-01-04T08:45:56.266788Z",
     "iopub.status.busy": "2025-01-04T08:45:56.266354Z",
     "iopub.status.idle": "2025-01-04T08:45:56.296760Z",
     "shell.execute_reply": "2025-01-04T08:45:56.295571Z",
     "shell.execute_reply.started": "2025-01-04T08:45:56.266748Z"
    },
    "trusted": true
   },
   "outputs": [
    {
     "name": "stdout",
     "output_type": "stream",
     "text": [
      "Accuracy: 0.9992967651195499\n",
      "F1 Score: 0.9992967546815856\n"
     ]
    }
   ],
   "source": [
    "accuracy_origin, f1_origin = quality_eval_classification(X_test_fraud, y_test_fraud, classifier)"
   ]
  },
  {
   "cell_type": "markdown",
   "metadata": {},
   "source": [
    "##### Регрессия"
   ]
  },
  {
   "cell_type": "code",
   "execution_count": 18,
   "metadata": {
    "execution": {
     "iopub.execute_input": "2025-01-04T08:45:56.298082Z",
     "iopub.status.busy": "2025-01-04T08:45:56.297788Z",
     "iopub.status.idle": "2025-01-04T08:45:56.304081Z",
     "shell.execute_reply": "2025-01-04T08:45:56.302520Z",
     "shell.execute_reply.started": "2025-01-04T08:45:56.298056Z"
    },
    "trusted": true
   },
   "outputs": [],
   "source": [
    "def quality_eval_regression(X_test, y_test, model):\n",
    "    y_pred = model.predict(X_test)\n",
    "    mae = mean_absolute_error(y_test, y_pred)\n",
    "    r2 = r2_score(y_test, y_pred)\n",
    "    print(f\"Mean Absolute Error: {mae}\")\n",
    "    print(f\"R-squared: {r2}\")\n",
    "    return mae, r2"
   ]
  },
  {
   "cell_type": "code",
   "execution_count": 19,
   "metadata": {
    "execution": {
     "iopub.execute_input": "2025-01-04T08:45:56.305816Z",
     "iopub.status.busy": "2025-01-04T08:45:56.305375Z",
     "iopub.status.idle": "2025-01-04T08:45:56.329549Z",
     "shell.execute_reply": "2025-01-04T08:45:56.328327Z",
     "shell.execute_reply.started": "2025-01-04T08:45:56.305772Z"
    },
    "trusted": true
   },
   "outputs": [
    {
     "name": "stdout",
     "output_type": "stream",
     "text": [
      "Mean Absolute Error: 2387828.61317904\n",
      "R-squared: 0.6366372151733224\n"
     ]
    }
   ],
   "source": [
    "mae_origin, r2_origin = quality_eval_regression(X_test_gold, y_test_gold, regressor)"
   ]
  },
  {
   "cell_type": "markdown",
   "metadata": {},
   "source": [
    "## Улучшение бейзлайна"
   ]
  },
  {
   "cell_type": "markdown",
   "metadata": {},
   "source": [
    "### Гипотезы\n",
    "\n",
    "1. Подбор гиперпараметров:\n",
    "   - Использование Grid Search с кросс-валидацией для оптимизации модели."
   ]
  },
  {
   "cell_type": "markdown",
   "metadata": {},
   "source": [
    "### Проверка гипотез"
   ]
  },
  {
   "cell_type": "markdown",
   "metadata": {},
   "source": [
    "#### 1. Подбор гиперпараметров"
   ]
  },
  {
   "cell_type": "markdown",
   "metadata": {},
   "source": [
    "##### Классификация"
   ]
  },
  {
   "cell_type": "markdown",
   "metadata": {},
   "source": [
    "Подготовка данных:"
   ]
  },
  {
   "cell_type": "code",
   "execution_count": 20,
   "metadata": {
    "execution": {
     "iopub.execute_input": "2025-01-04T08:45:56.331224Z",
     "iopub.status.busy": "2025-01-04T08:45:56.330800Z",
     "iopub.status.idle": "2025-01-04T08:45:56.367524Z",
     "shell.execute_reply": "2025-01-04T08:45:56.366522Z",
     "shell.execute_reply.started": "2025-01-04T08:45:56.331190Z"
    },
    "trusted": true
   },
   "outputs": [],
   "source": [
    "X_train_fraud, X_test_fraud, y_train_fraud, y_test_fraud = train_test_split(X_fraud, y_fraud_encoded, test_size=0.2, random_state=42)\n",
    "X_train_fraud, X_test_fraud = simple_imputer_df(X_train_fraud, X_test_fraud)\n",
    "X_train_fraud, X_test_fraud = scaling(X_train_fraud, X_test_fraud)"
   ]
  },
  {
   "cell_type": "code",
   "execution_count": 21,
   "metadata": {
    "execution": {
     "iopub.execute_input": "2025-01-04T08:45:56.368916Z",
     "iopub.status.busy": "2025-01-04T08:45:56.368514Z",
     "iopub.status.idle": "2025-01-04T08:45:56.373709Z",
     "shell.execute_reply": "2025-01-04T08:45:56.372502Z",
     "shell.execute_reply.started": "2025-01-04T08:45:56.368873Z"
    },
    "trusted": true
   },
   "outputs": [],
   "source": [
    "param_grid = {\n",
    "    'n_estimators': [100, 150],\n",
    "    'learning_rate': [0.01, 0.1],\n",
    "}"
   ]
  },
  {
   "cell_type": "markdown",
   "metadata": {},
   "source": [
    "Настройка и обучение GridSearchCV:"
   ]
  },
  {
   "cell_type": "code",
   "execution_count": 22,
   "metadata": {
    "execution": {
     "iopub.execute_input": "2025-01-04T08:45:56.375172Z",
     "iopub.status.busy": "2025-01-04T08:45:56.374862Z",
     "iopub.status.idle": "2025-01-04T08:47:32.657161Z",
     "shell.execute_reply": "2025-01-04T08:47:32.655886Z",
     "shell.execute_reply.started": "2025-01-04T08:45:56.375131Z"
    },
    "trusted": true
   },
   "outputs": [
    {
     "data": {
      "text/html": [
       "<style>#sk-container-id-3 {color: black;background-color: white;}#sk-container-id-3 pre{padding: 0;}#sk-container-id-3 div.sk-toggleable {background-color: white;}#sk-container-id-3 label.sk-toggleable__label {cursor: pointer;display: block;width: 100%;margin-bottom: 0;padding: 0.3em;box-sizing: border-box;text-align: center;}#sk-container-id-3 label.sk-toggleable__label-arrow:before {content: \"▸\";float: left;margin-right: 0.25em;color: #696969;}#sk-container-id-3 label.sk-toggleable__label-arrow:hover:before {color: black;}#sk-container-id-3 div.sk-estimator:hover label.sk-toggleable__label-arrow:before {color: black;}#sk-container-id-3 div.sk-toggleable__content {max-height: 0;max-width: 0;overflow: hidden;text-align: left;background-color: #f0f8ff;}#sk-container-id-3 div.sk-toggleable__content pre {margin: 0.2em;color: black;border-radius: 0.25em;background-color: #f0f8ff;}#sk-container-id-3 input.sk-toggleable__control:checked~div.sk-toggleable__content {max-height: 200px;max-width: 100%;overflow: auto;}#sk-container-id-3 input.sk-toggleable__control:checked~label.sk-toggleable__label-arrow:before {content: \"▾\";}#sk-container-id-3 div.sk-estimator input.sk-toggleable__control:checked~label.sk-toggleable__label {background-color: #d4ebff;}#sk-container-id-3 div.sk-label input.sk-toggleable__control:checked~label.sk-toggleable__label {background-color: #d4ebff;}#sk-container-id-3 input.sk-hidden--visually {border: 0;clip: rect(1px 1px 1px 1px);clip: rect(1px, 1px, 1px, 1px);height: 1px;margin: -1px;overflow: hidden;padding: 0;position: absolute;width: 1px;}#sk-container-id-3 div.sk-estimator {font-family: monospace;background-color: #f0f8ff;border: 1px dotted black;border-radius: 0.25em;box-sizing: border-box;margin-bottom: 0.5em;}#sk-container-id-3 div.sk-estimator:hover {background-color: #d4ebff;}#sk-container-id-3 div.sk-parallel-item::after {content: \"\";width: 100%;border-bottom: 1px solid gray;flex-grow: 1;}#sk-container-id-3 div.sk-label:hover label.sk-toggleable__label {background-color: #d4ebff;}#sk-container-id-3 div.sk-serial::before {content: \"\";position: absolute;border-left: 1px solid gray;box-sizing: border-box;top: 0;bottom: 0;left: 50%;z-index: 0;}#sk-container-id-3 div.sk-serial {display: flex;flex-direction: column;align-items: center;background-color: white;padding-right: 0.2em;padding-left: 0.2em;position: relative;}#sk-container-id-3 div.sk-item {position: relative;z-index: 1;}#sk-container-id-3 div.sk-parallel {display: flex;align-items: stretch;justify-content: center;background-color: white;position: relative;}#sk-container-id-3 div.sk-item::before, #sk-container-id-3 div.sk-parallel-item::before {content: \"\";position: absolute;border-left: 1px solid gray;box-sizing: border-box;top: 0;bottom: 0;left: 50%;z-index: -1;}#sk-container-id-3 div.sk-parallel-item {display: flex;flex-direction: column;z-index: 1;position: relative;background-color: white;}#sk-container-id-3 div.sk-parallel-item:first-child::after {align-self: flex-end;width: 50%;}#sk-container-id-3 div.sk-parallel-item:last-child::after {align-self: flex-start;width: 50%;}#sk-container-id-3 div.sk-parallel-item:only-child::after {width: 0;}#sk-container-id-3 div.sk-dashed-wrapped {border: 1px dashed gray;margin: 0 0.4em 0.5em 0.4em;box-sizing: border-box;padding-bottom: 0.4em;background-color: white;}#sk-container-id-3 div.sk-label label {font-family: monospace;font-weight: bold;display: inline-block;line-height: 1.2em;}#sk-container-id-3 div.sk-label-container {text-align: center;}#sk-container-id-3 div.sk-container {/* jupyter's `normalize.less` sets `[hidden] { display: none; }` but bootstrap.min.css set `[hidden] { display: none !important; }` so we also need the `!important` here to be able to override the default hidden behavior on the sphinx rendered scikit-learn.org. See: https://github.com/scikit-learn/scikit-learn/issues/21755 */display: inline-block !important;position: relative;}#sk-container-id-3 div.sk-text-repr-fallback {display: none;}</style><div id=\"sk-container-id-3\" class=\"sk-top-container\"><div class=\"sk-text-repr-fallback\"><pre>GridSearchCV(estimator=GradientBoostingClassifier(random_state=42), n_jobs=-1,\n",
       "             param_grid={&#x27;learning_rate&#x27;: [0.01, 0.1],\n",
       "                         &#x27;n_estimators&#x27;: [100, 150]},\n",
       "             scoring=&#x27;accuracy&#x27;)</pre><b>In a Jupyter environment, please rerun this cell to show the HTML representation or trust the notebook. <br />On GitHub, the HTML representation is unable to render, please try loading this page with nbviewer.org.</b></div><div class=\"sk-container\" hidden><div class=\"sk-item sk-dashed-wrapped\"><div class=\"sk-label-container\"><div class=\"sk-label sk-toggleable\"><input class=\"sk-toggleable__control sk-hidden--visually\" id=\"sk-estimator-id-3\" type=\"checkbox\" ><label for=\"sk-estimator-id-3\" class=\"sk-toggleable__label sk-toggleable__label-arrow\">GridSearchCV</label><div class=\"sk-toggleable__content\"><pre>GridSearchCV(estimator=GradientBoostingClassifier(random_state=42), n_jobs=-1,\n",
       "             param_grid={&#x27;learning_rate&#x27;: [0.01, 0.1],\n",
       "                         &#x27;n_estimators&#x27;: [100, 150]},\n",
       "             scoring=&#x27;accuracy&#x27;)</pre></div></div></div><div class=\"sk-parallel\"><div class=\"sk-parallel-item\"><div class=\"sk-item\"><div class=\"sk-label-container\"><div class=\"sk-label sk-toggleable\"><input class=\"sk-toggleable__control sk-hidden--visually\" id=\"sk-estimator-id-4\" type=\"checkbox\" ><label for=\"sk-estimator-id-4\" class=\"sk-toggleable__label sk-toggleable__label-arrow\">estimator: GradientBoostingClassifier</label><div class=\"sk-toggleable__content\"><pre>GradientBoostingClassifier(random_state=42)</pre></div></div></div><div class=\"sk-serial\"><div class=\"sk-item\"><div class=\"sk-estimator sk-toggleable\"><input class=\"sk-toggleable__control sk-hidden--visually\" id=\"sk-estimator-id-5\" type=\"checkbox\" ><label for=\"sk-estimator-id-5\" class=\"sk-toggleable__label sk-toggleable__label-arrow\">GradientBoostingClassifier</label><div class=\"sk-toggleable__content\"><pre>GradientBoostingClassifier(random_state=42)</pre></div></div></div></div></div></div></div></div></div></div>"
      ],
      "text/plain": [
       "GridSearchCV(estimator=GradientBoostingClassifier(random_state=42), n_jobs=-1,\n",
       "             param_grid={'learning_rate': [0.01, 0.1],\n",
       "                         'n_estimators': [100, 150]},\n",
       "             scoring='accuracy')"
      ]
     },
     "execution_count": 22,
     "metadata": {},
     "output_type": "execute_result"
    }
   ],
   "source": [
    "grid_search = GridSearchCV(GradientBoostingClassifier(random_state=42), param_grid, scoring='accuracy', n_jobs=-1)\n",
    "grid_search.fit(X_train_fraud, y_train_fraud)"
   ]
  },
  {
   "cell_type": "markdown",
   "metadata": {},
   "source": [
    "Вывод лучших параметров и результата:"
   ]
  },
  {
   "cell_type": "code",
   "execution_count": 23,
   "metadata": {
    "execution": {
     "iopub.execute_input": "2025-01-04T08:47:32.659134Z",
     "iopub.status.busy": "2025-01-04T08:47:32.658704Z",
     "iopub.status.idle": "2025-01-04T08:47:32.665836Z",
     "shell.execute_reply": "2025-01-04T08:47:32.664664Z",
     "shell.execute_reply.started": "2025-01-04T08:47:32.659095Z"
    },
    "trusted": true
   },
   "outputs": [
    {
     "name": "stdout",
     "output_type": "stream",
     "text": [
      "Best parameters found:  {'learning_rate': 0.1, 'n_estimators': 100}\n",
      "Best cross-validation accuracy:  0.9993844607459383\n"
     ]
    }
   ],
   "source": [
    "print(\"Best parameters found: \", grid_search.best_params_)\n",
    "print(\"Best cross-validation accuracy: \", grid_search.best_score_)"
   ]
  },
  {
   "cell_type": "markdown",
   "metadata": {},
   "source": [
    "Оценка качества модели:"
   ]
  },
  {
   "cell_type": "code",
   "execution_count": 24,
   "metadata": {
    "execution": {
     "iopub.execute_input": "2025-01-04T08:47:32.667565Z",
     "iopub.status.busy": "2025-01-04T08:47:32.667130Z",
     "iopub.status.idle": "2025-01-04T08:47:32.697337Z",
     "shell.execute_reply": "2025-01-04T08:47:32.696291Z",
     "shell.execute_reply.started": "2025-01-04T08:47:32.667514Z"
    },
    "trusted": true
   },
   "outputs": [
    {
     "name": "stdout",
     "output_type": "stream",
     "text": [
      "Accuracy: 0.9992967651195499\n",
      "F1 Score: 0.9992967546815856\n"
     ]
    },
    {
     "data": {
      "text/plain": [
       "(0.9992967651195499, 0.9992967546815856)"
      ]
     },
     "execution_count": 24,
     "metadata": {},
     "output_type": "execute_result"
    }
   ],
   "source": [
    "quality_eval_classification(X_test_fraud, y_test_fraud, grid_search.best_estimator_)"
   ]
  },
  {
   "cell_type": "markdown",
   "metadata": {},
   "source": [
    "##### Регрессия"
   ]
  },
  {
   "cell_type": "markdown",
   "metadata": {},
   "source": [
    "Подготовка данных:"
   ]
  },
  {
   "cell_type": "code",
   "execution_count": 25,
   "metadata": {
    "execution": {
     "iopub.execute_input": "2025-01-04T08:47:32.698553Z",
     "iopub.status.busy": "2025-01-04T08:47:32.698256Z",
     "iopub.status.idle": "2025-01-04T08:47:32.724435Z",
     "shell.execute_reply": "2025-01-04T08:47:32.723145Z",
     "shell.execute_reply.started": "2025-01-04T08:47:32.698523Z"
    },
    "trusted": true
   },
   "outputs": [],
   "source": [
    "X_train_gold, X_test_gold, y_train_gold, y_test_gold = train_test_split(X_gold, y_gold, test_size=0.2, random_state=42)\n",
    "X_train_gold, X_test_gold = simple_imputer(X_train_gold, X_test_gold)\n",
    "X_train_gold, X_test_gold = scaling(X_train_gold, X_test_gold)\n",
    "X_train_gold, y_train_gold, X_test_gold, y_test_gold = delete_none(X_train_gold, y_train_gold, X_test_gold, y_test_gold)"
   ]
  },
  {
   "cell_type": "markdown",
   "metadata": {},
   "source": [
    "Определение параметров для перебора:"
   ]
  },
  {
   "cell_type": "code",
   "execution_count": 26,
   "metadata": {
    "execution": {
     "iopub.execute_input": "2025-01-04T08:47:32.725886Z",
     "iopub.status.busy": "2025-01-04T08:47:32.725602Z",
     "iopub.status.idle": "2025-01-04T08:47:32.731305Z",
     "shell.execute_reply": "2025-01-04T08:47:32.729928Z",
     "shell.execute_reply.started": "2025-01-04T08:47:32.725854Z"
    },
    "trusted": true
   },
   "outputs": [],
   "source": [
    "param_grid = {\n",
    "    'n_estimators': [100, 150],\n",
    "    'learning_rate': [0.01, 0.1],\n",
    "}"
   ]
  },
  {
   "cell_type": "markdown",
   "metadata": {},
   "source": [
    "Настройка и обучение GridSearchCV:"
   ]
  },
  {
   "cell_type": "code",
   "execution_count": 27,
   "metadata": {
    "execution": {
     "iopub.execute_input": "2025-01-04T08:47:32.733131Z",
     "iopub.status.busy": "2025-01-04T08:47:32.732682Z",
     "iopub.status.idle": "2025-01-04T08:47:55.625812Z",
     "shell.execute_reply": "2025-01-04T08:47:55.624070Z",
     "shell.execute_reply.started": "2025-01-04T08:47:32.733086Z"
    },
    "trusted": true
   },
   "outputs": [
    {
     "data": {
      "text/html": [
       "<style>#sk-container-id-4 {color: black;background-color: white;}#sk-container-id-4 pre{padding: 0;}#sk-container-id-4 div.sk-toggleable {background-color: white;}#sk-container-id-4 label.sk-toggleable__label {cursor: pointer;display: block;width: 100%;margin-bottom: 0;padding: 0.3em;box-sizing: border-box;text-align: center;}#sk-container-id-4 label.sk-toggleable__label-arrow:before {content: \"▸\";float: left;margin-right: 0.25em;color: #696969;}#sk-container-id-4 label.sk-toggleable__label-arrow:hover:before {color: black;}#sk-container-id-4 div.sk-estimator:hover label.sk-toggleable__label-arrow:before {color: black;}#sk-container-id-4 div.sk-toggleable__content {max-height: 0;max-width: 0;overflow: hidden;text-align: left;background-color: #f0f8ff;}#sk-container-id-4 div.sk-toggleable__content pre {margin: 0.2em;color: black;border-radius: 0.25em;background-color: #f0f8ff;}#sk-container-id-4 input.sk-toggleable__control:checked~div.sk-toggleable__content {max-height: 200px;max-width: 100%;overflow: auto;}#sk-container-id-4 input.sk-toggleable__control:checked~label.sk-toggleable__label-arrow:before {content: \"▾\";}#sk-container-id-4 div.sk-estimator input.sk-toggleable__control:checked~label.sk-toggleable__label {background-color: #d4ebff;}#sk-container-id-4 div.sk-label input.sk-toggleable__control:checked~label.sk-toggleable__label {background-color: #d4ebff;}#sk-container-id-4 input.sk-hidden--visually {border: 0;clip: rect(1px 1px 1px 1px);clip: rect(1px, 1px, 1px, 1px);height: 1px;margin: -1px;overflow: hidden;padding: 0;position: absolute;width: 1px;}#sk-container-id-4 div.sk-estimator {font-family: monospace;background-color: #f0f8ff;border: 1px dotted black;border-radius: 0.25em;box-sizing: border-box;margin-bottom: 0.5em;}#sk-container-id-4 div.sk-estimator:hover {background-color: #d4ebff;}#sk-container-id-4 div.sk-parallel-item::after {content: \"\";width: 100%;border-bottom: 1px solid gray;flex-grow: 1;}#sk-container-id-4 div.sk-label:hover label.sk-toggleable__label {background-color: #d4ebff;}#sk-container-id-4 div.sk-serial::before {content: \"\";position: absolute;border-left: 1px solid gray;box-sizing: border-box;top: 0;bottom: 0;left: 50%;z-index: 0;}#sk-container-id-4 div.sk-serial {display: flex;flex-direction: column;align-items: center;background-color: white;padding-right: 0.2em;padding-left: 0.2em;position: relative;}#sk-container-id-4 div.sk-item {position: relative;z-index: 1;}#sk-container-id-4 div.sk-parallel {display: flex;align-items: stretch;justify-content: center;background-color: white;position: relative;}#sk-container-id-4 div.sk-item::before, #sk-container-id-4 div.sk-parallel-item::before {content: \"\";position: absolute;border-left: 1px solid gray;box-sizing: border-box;top: 0;bottom: 0;left: 50%;z-index: -1;}#sk-container-id-4 div.sk-parallel-item {display: flex;flex-direction: column;z-index: 1;position: relative;background-color: white;}#sk-container-id-4 div.sk-parallel-item:first-child::after {align-self: flex-end;width: 50%;}#sk-container-id-4 div.sk-parallel-item:last-child::after {align-self: flex-start;width: 50%;}#sk-container-id-4 div.sk-parallel-item:only-child::after {width: 0;}#sk-container-id-4 div.sk-dashed-wrapped {border: 1px dashed gray;margin: 0 0.4em 0.5em 0.4em;box-sizing: border-box;padding-bottom: 0.4em;background-color: white;}#sk-container-id-4 div.sk-label label {font-family: monospace;font-weight: bold;display: inline-block;line-height: 1.2em;}#sk-container-id-4 div.sk-label-container {text-align: center;}#sk-container-id-4 div.sk-container {/* jupyter's `normalize.less` sets `[hidden] { display: none; }` but bootstrap.min.css set `[hidden] { display: none !important; }` so we also need the `!important` here to be able to override the default hidden behavior on the sphinx rendered scikit-learn.org. See: https://github.com/scikit-learn/scikit-learn/issues/21755 */display: inline-block !important;position: relative;}#sk-container-id-4 div.sk-text-repr-fallback {display: none;}</style><div id=\"sk-container-id-4\" class=\"sk-top-container\"><div class=\"sk-text-repr-fallback\"><pre>GridSearchCV(cv=3, estimator=GradientBoostingRegressor(random_state=42),\n",
       "             n_jobs=-1,\n",
       "             param_grid={&#x27;learning_rate&#x27;: [0.01, 0.1],\n",
       "                         &#x27;n_estimators&#x27;: [100, 150]})</pre><b>In a Jupyter environment, please rerun this cell to show the HTML representation or trust the notebook. <br />On GitHub, the HTML representation is unable to render, please try loading this page with nbviewer.org.</b></div><div class=\"sk-container\" hidden><div class=\"sk-item sk-dashed-wrapped\"><div class=\"sk-label-container\"><div class=\"sk-label sk-toggleable\"><input class=\"sk-toggleable__control sk-hidden--visually\" id=\"sk-estimator-id-6\" type=\"checkbox\" ><label for=\"sk-estimator-id-6\" class=\"sk-toggleable__label sk-toggleable__label-arrow\">GridSearchCV</label><div class=\"sk-toggleable__content\"><pre>GridSearchCV(cv=3, estimator=GradientBoostingRegressor(random_state=42),\n",
       "             n_jobs=-1,\n",
       "             param_grid={&#x27;learning_rate&#x27;: [0.01, 0.1],\n",
       "                         &#x27;n_estimators&#x27;: [100, 150]})</pre></div></div></div><div class=\"sk-parallel\"><div class=\"sk-parallel-item\"><div class=\"sk-item\"><div class=\"sk-label-container\"><div class=\"sk-label sk-toggleable\"><input class=\"sk-toggleable__control sk-hidden--visually\" id=\"sk-estimator-id-7\" type=\"checkbox\" ><label for=\"sk-estimator-id-7\" class=\"sk-toggleable__label sk-toggleable__label-arrow\">estimator: GradientBoostingRegressor</label><div class=\"sk-toggleable__content\"><pre>GradientBoostingRegressor(random_state=42)</pre></div></div></div><div class=\"sk-serial\"><div class=\"sk-item\"><div class=\"sk-estimator sk-toggleable\"><input class=\"sk-toggleable__control sk-hidden--visually\" id=\"sk-estimator-id-8\" type=\"checkbox\" ><label for=\"sk-estimator-id-8\" class=\"sk-toggleable__label sk-toggleable__label-arrow\">GradientBoostingRegressor</label><div class=\"sk-toggleable__content\"><pre>GradientBoostingRegressor(random_state=42)</pre></div></div></div></div></div></div></div></div></div></div>"
      ],
      "text/plain": [
       "GridSearchCV(cv=3, estimator=GradientBoostingRegressor(random_state=42),\n",
       "             n_jobs=-1,\n",
       "             param_grid={'learning_rate': [0.01, 0.1],\n",
       "                         'n_estimators': [100, 150]})"
      ]
     },
     "execution_count": 27,
     "metadata": {},
     "output_type": "execute_result"
    }
   ],
   "source": [
    "grid_search = GridSearchCV(GradientBoostingRegressor(random_state=42), param_grid, cv=3, n_jobs=-1)\n",
    "grid_search.fit(X_train_gold, y_train_gold)"
   ]
  },
  {
   "cell_type": "markdown",
   "metadata": {},
   "source": [
    "Вывод лучших параметров и результата:"
   ]
  },
  {
   "cell_type": "code",
   "execution_count": 28,
   "metadata": {
    "execution": {
     "iopub.execute_input": "2025-01-04T08:47:55.627578Z",
     "iopub.status.busy": "2025-01-04T08:47:55.627100Z",
     "iopub.status.idle": "2025-01-04T08:47:55.633778Z",
     "shell.execute_reply": "2025-01-04T08:47:55.632830Z",
     "shell.execute_reply.started": "2025-01-04T08:47:55.627532Z"
    },
    "trusted": true
   },
   "outputs": [
    {
     "name": "stdout",
     "output_type": "stream",
     "text": [
      "Best parameters found:  {'learning_rate': 0.1, 'n_estimators': 150}\n",
      "Best cross-validation accuracy:  0.6684621308506745\n"
     ]
    }
   ],
   "source": [
    "print(\"Best parameters found: \", grid_search.best_params_)\n",
    "print(\"Best cross-validation accuracy: \", grid_search.best_score_)"
   ]
  },
  {
   "cell_type": "markdown",
   "metadata": {},
   "source": [
    "Оценка модели с лучшими параметрами на тестовом наборе:"
   ]
  },
  {
   "cell_type": "code",
   "execution_count": 29,
   "metadata": {
    "execution": {
     "iopub.execute_input": "2025-01-04T08:47:55.635381Z",
     "iopub.status.busy": "2025-01-04T08:47:55.635001Z",
     "iopub.status.idle": "2025-01-04T08:47:55.663471Z",
     "shell.execute_reply": "2025-01-04T08:47:55.662379Z",
     "shell.execute_reply.started": "2025-01-04T08:47:55.635340Z"
    },
    "trusted": true
   },
   "outputs": [
    {
     "name": "stdout",
     "output_type": "stream",
     "text": [
      "Mean Absolute Error: 2368586.5180117367\n",
      "R-squared: 0.6477319909538352\n"
     ]
    },
    {
     "data": {
      "text/plain": [
       "(2368586.5180117367, 0.6477319909538352)"
      ]
     },
     "execution_count": 29,
     "metadata": {},
     "output_type": "execute_result"
    }
   ],
   "source": [
    "quality_eval_regression(X_test_gold, y_test_gold, grid_search.best_estimator_)"
   ]
  },
  {
   "cell_type": "markdown",
   "metadata": {},
   "source": [
    "### Формирование улучшенного бейзлайна"
   ]
  },
  {
   "cell_type": "markdown",
   "metadata": {},
   "source": [
    "##### Классификация"
   ]
  },
  {
   "cell_type": "markdown",
   "metadata": {},
   "source": [
    "Формирование улучшенного бейзлайна:"
   ]
  },
  {
   "cell_type": "code",
   "execution_count": 30,
   "metadata": {
    "execution": {
     "iopub.execute_input": "2025-01-04T08:47:55.664827Z",
     "iopub.status.busy": "2025-01-04T08:47:55.664485Z",
     "iopub.status.idle": "2025-01-04T08:47:55.704586Z",
     "shell.execute_reply": "2025-01-04T08:47:55.703471Z",
     "shell.execute_reply.started": "2025-01-04T08:47:55.664792Z"
    },
    "trusted": true
   },
   "outputs": [],
   "source": [
    "X_train_fraud, X_test_fraud, y_train_fraud, y_test_fraud = train_test_split(X_fraud, y_fraud_encoded, test_size=0.2, random_state=42)\n",
    "X_train_fraud, X_test_fraud = simple_imputer_df(X_train_fraud, X_test_fraud)\n",
    "X_train_fraud, X_test_fraud = scaling(X_train_fraud, X_test_fraud)\n",
    "                                   \n",
    "classifier = GradientBoostingClassifier(random_state=42, learning_rate=0.1, n_estimators=150)"
   ]
  },
  {
   "cell_type": "markdown",
   "metadata": {},
   "source": [
    "##### Регрессия"
   ]
  },
  {
   "cell_type": "code",
   "execution_count": 31,
   "metadata": {
    "execution": {
     "iopub.execute_input": "2025-01-04T08:47:55.705952Z",
     "iopub.status.busy": "2025-01-04T08:47:55.705644Z",
     "iopub.status.idle": "2025-01-04T08:47:55.730238Z",
     "shell.execute_reply": "2025-01-04T08:47:55.729005Z",
     "shell.execute_reply.started": "2025-01-04T08:47:55.705911Z"
    },
    "trusted": true
   },
   "outputs": [],
   "source": [
    "X_train_gold, X_test_gold, y_train_gold, y_test_gold = train_test_split(X_gold, y_gold, test_size=0.2, random_state=42)\n",
    "X_train_gold, X_test_gold = simple_imputer(X_train_gold, X_test_gold)\n",
    "X_train_gold, X_test_gold = scaling(X_train_gold, X_test_gold)\n",
    "X_train_gold, y_train_gold, X_test_gold, y_test_gold = delete_none(X_train_gold, y_train_gold, X_test_gold, y_test_gold)\n",
    "\n",
    "regressor = GradientBoostingRegressor(random_state=42, learning_rate=0.1, n_estimators=150)"
   ]
  },
  {
   "cell_type": "markdown",
   "metadata": {},
   "source": [
    "### Обучение модели с улучшенным бейзлайном"
   ]
  },
  {
   "cell_type": "markdown",
   "metadata": {},
   "source": [
    "##### Классификация"
   ]
  },
  {
   "cell_type": "markdown",
   "metadata": {},
   "source": [
    "Обучение модели:"
   ]
  },
  {
   "cell_type": "code",
   "execution_count": 32,
   "metadata": {
    "execution": {
     "iopub.execute_input": "2025-01-04T08:47:55.732006Z",
     "iopub.status.busy": "2025-01-04T08:47:55.731574Z",
     "iopub.status.idle": "2025-01-04T08:48:09.869056Z",
     "shell.execute_reply": "2025-01-04T08:48:09.867802Z",
     "shell.execute_reply.started": "2025-01-04T08:47:55.731965Z"
    },
    "trusted": true
   },
   "outputs": [
    {
     "data": {
      "text/html": [
       "<style>#sk-container-id-5 {color: black;background-color: white;}#sk-container-id-5 pre{padding: 0;}#sk-container-id-5 div.sk-toggleable {background-color: white;}#sk-container-id-5 label.sk-toggleable__label {cursor: pointer;display: block;width: 100%;margin-bottom: 0;padding: 0.3em;box-sizing: border-box;text-align: center;}#sk-container-id-5 label.sk-toggleable__label-arrow:before {content: \"▸\";float: left;margin-right: 0.25em;color: #696969;}#sk-container-id-5 label.sk-toggleable__label-arrow:hover:before {color: black;}#sk-container-id-5 div.sk-estimator:hover label.sk-toggleable__label-arrow:before {color: black;}#sk-container-id-5 div.sk-toggleable__content {max-height: 0;max-width: 0;overflow: hidden;text-align: left;background-color: #f0f8ff;}#sk-container-id-5 div.sk-toggleable__content pre {margin: 0.2em;color: black;border-radius: 0.25em;background-color: #f0f8ff;}#sk-container-id-5 input.sk-toggleable__control:checked~div.sk-toggleable__content {max-height: 200px;max-width: 100%;overflow: auto;}#sk-container-id-5 input.sk-toggleable__control:checked~label.sk-toggleable__label-arrow:before {content: \"▾\";}#sk-container-id-5 div.sk-estimator input.sk-toggleable__control:checked~label.sk-toggleable__label {background-color: #d4ebff;}#sk-container-id-5 div.sk-label input.sk-toggleable__control:checked~label.sk-toggleable__label {background-color: #d4ebff;}#sk-container-id-5 input.sk-hidden--visually {border: 0;clip: rect(1px 1px 1px 1px);clip: rect(1px, 1px, 1px, 1px);height: 1px;margin: -1px;overflow: hidden;padding: 0;position: absolute;width: 1px;}#sk-container-id-5 div.sk-estimator {font-family: monospace;background-color: #f0f8ff;border: 1px dotted black;border-radius: 0.25em;box-sizing: border-box;margin-bottom: 0.5em;}#sk-container-id-5 div.sk-estimator:hover {background-color: #d4ebff;}#sk-container-id-5 div.sk-parallel-item::after {content: \"\";width: 100%;border-bottom: 1px solid gray;flex-grow: 1;}#sk-container-id-5 div.sk-label:hover label.sk-toggleable__label {background-color: #d4ebff;}#sk-container-id-5 div.sk-serial::before {content: \"\";position: absolute;border-left: 1px solid gray;box-sizing: border-box;top: 0;bottom: 0;left: 50%;z-index: 0;}#sk-container-id-5 div.sk-serial {display: flex;flex-direction: column;align-items: center;background-color: white;padding-right: 0.2em;padding-left: 0.2em;position: relative;}#sk-container-id-5 div.sk-item {position: relative;z-index: 1;}#sk-container-id-5 div.sk-parallel {display: flex;align-items: stretch;justify-content: center;background-color: white;position: relative;}#sk-container-id-5 div.sk-item::before, #sk-container-id-5 div.sk-parallel-item::before {content: \"\";position: absolute;border-left: 1px solid gray;box-sizing: border-box;top: 0;bottom: 0;left: 50%;z-index: -1;}#sk-container-id-5 div.sk-parallel-item {display: flex;flex-direction: column;z-index: 1;position: relative;background-color: white;}#sk-container-id-5 div.sk-parallel-item:first-child::after {align-self: flex-end;width: 50%;}#sk-container-id-5 div.sk-parallel-item:last-child::after {align-self: flex-start;width: 50%;}#sk-container-id-5 div.sk-parallel-item:only-child::after {width: 0;}#sk-container-id-5 div.sk-dashed-wrapped {border: 1px dashed gray;margin: 0 0.4em 0.5em 0.4em;box-sizing: border-box;padding-bottom: 0.4em;background-color: white;}#sk-container-id-5 div.sk-label label {font-family: monospace;font-weight: bold;display: inline-block;line-height: 1.2em;}#sk-container-id-5 div.sk-label-container {text-align: center;}#sk-container-id-5 div.sk-container {/* jupyter's `normalize.less` sets `[hidden] { display: none; }` but bootstrap.min.css set `[hidden] { display: none !important; }` so we also need the `!important` here to be able to override the default hidden behavior on the sphinx rendered scikit-learn.org. See: https://github.com/scikit-learn/scikit-learn/issues/21755 */display: inline-block !important;position: relative;}#sk-container-id-5 div.sk-text-repr-fallback {display: none;}</style><div id=\"sk-container-id-5\" class=\"sk-top-container\"><div class=\"sk-text-repr-fallback\"><pre>GradientBoostingClassifier(n_estimators=150, random_state=42)</pre><b>In a Jupyter environment, please rerun this cell to show the HTML representation or trust the notebook. <br />On GitHub, the HTML representation is unable to render, please try loading this page with nbviewer.org.</b></div><div class=\"sk-container\" hidden><div class=\"sk-item\"><div class=\"sk-estimator sk-toggleable\"><input class=\"sk-toggleable__control sk-hidden--visually\" id=\"sk-estimator-id-9\" type=\"checkbox\" checked><label for=\"sk-estimator-id-9\" class=\"sk-toggleable__label sk-toggleable__label-arrow\">GradientBoostingClassifier</label><div class=\"sk-toggleable__content\"><pre>GradientBoostingClassifier(n_estimators=150, random_state=42)</pre></div></div></div></div></div>"
      ],
      "text/plain": [
       "GradientBoostingClassifier(n_estimators=150, random_state=42)"
      ]
     },
     "execution_count": 32,
     "metadata": {},
     "output_type": "execute_result"
    }
   ],
   "source": [
    "classifier.fit(X_train_fraud, y_train_fraud)"
   ]
  },
  {
   "cell_type": "markdown",
   "metadata": {},
   "source": [
    "##### Регрессия"
   ]
  },
  {
   "cell_type": "markdown",
   "metadata": {},
   "source": [
    "Обучение модели:"
   ]
  },
  {
   "cell_type": "code",
   "execution_count": 33,
   "metadata": {
    "execution": {
     "iopub.execute_input": "2025-01-04T08:48:09.870560Z",
     "iopub.status.busy": "2025-01-04T08:48:09.870168Z",
     "iopub.status.idle": "2025-01-04T08:48:16.184824Z",
     "shell.execute_reply": "2025-01-04T08:48:16.183776Z",
     "shell.execute_reply.started": "2025-01-04T08:48:09.870529Z"
    },
    "trusted": true
   },
   "outputs": [
    {
     "data": {
      "text/html": [
       "<style>#sk-container-id-6 {color: black;background-color: white;}#sk-container-id-6 pre{padding: 0;}#sk-container-id-6 div.sk-toggleable {background-color: white;}#sk-container-id-6 label.sk-toggleable__label {cursor: pointer;display: block;width: 100%;margin-bottom: 0;padding: 0.3em;box-sizing: border-box;text-align: center;}#sk-container-id-6 label.sk-toggleable__label-arrow:before {content: \"▸\";float: left;margin-right: 0.25em;color: #696969;}#sk-container-id-6 label.sk-toggleable__label-arrow:hover:before {color: black;}#sk-container-id-6 div.sk-estimator:hover label.sk-toggleable__label-arrow:before {color: black;}#sk-container-id-6 div.sk-toggleable__content {max-height: 0;max-width: 0;overflow: hidden;text-align: left;background-color: #f0f8ff;}#sk-container-id-6 div.sk-toggleable__content pre {margin: 0.2em;color: black;border-radius: 0.25em;background-color: #f0f8ff;}#sk-container-id-6 input.sk-toggleable__control:checked~div.sk-toggleable__content {max-height: 200px;max-width: 100%;overflow: auto;}#sk-container-id-6 input.sk-toggleable__control:checked~label.sk-toggleable__label-arrow:before {content: \"▾\";}#sk-container-id-6 div.sk-estimator input.sk-toggleable__control:checked~label.sk-toggleable__label {background-color: #d4ebff;}#sk-container-id-6 div.sk-label input.sk-toggleable__control:checked~label.sk-toggleable__label {background-color: #d4ebff;}#sk-container-id-6 input.sk-hidden--visually {border: 0;clip: rect(1px 1px 1px 1px);clip: rect(1px, 1px, 1px, 1px);height: 1px;margin: -1px;overflow: hidden;padding: 0;position: absolute;width: 1px;}#sk-container-id-6 div.sk-estimator {font-family: monospace;background-color: #f0f8ff;border: 1px dotted black;border-radius: 0.25em;box-sizing: border-box;margin-bottom: 0.5em;}#sk-container-id-6 div.sk-estimator:hover {background-color: #d4ebff;}#sk-container-id-6 div.sk-parallel-item::after {content: \"\";width: 100%;border-bottom: 1px solid gray;flex-grow: 1;}#sk-container-id-6 div.sk-label:hover label.sk-toggleable__label {background-color: #d4ebff;}#sk-container-id-6 div.sk-serial::before {content: \"\";position: absolute;border-left: 1px solid gray;box-sizing: border-box;top: 0;bottom: 0;left: 50%;z-index: 0;}#sk-container-id-6 div.sk-serial {display: flex;flex-direction: column;align-items: center;background-color: white;padding-right: 0.2em;padding-left: 0.2em;position: relative;}#sk-container-id-6 div.sk-item {position: relative;z-index: 1;}#sk-container-id-6 div.sk-parallel {display: flex;align-items: stretch;justify-content: center;background-color: white;position: relative;}#sk-container-id-6 div.sk-item::before, #sk-container-id-6 div.sk-parallel-item::before {content: \"\";position: absolute;border-left: 1px solid gray;box-sizing: border-box;top: 0;bottom: 0;left: 50%;z-index: -1;}#sk-container-id-6 div.sk-parallel-item {display: flex;flex-direction: column;z-index: 1;position: relative;background-color: white;}#sk-container-id-6 div.sk-parallel-item:first-child::after {align-self: flex-end;width: 50%;}#sk-container-id-6 div.sk-parallel-item:last-child::after {align-self: flex-start;width: 50%;}#sk-container-id-6 div.sk-parallel-item:only-child::after {width: 0;}#sk-container-id-6 div.sk-dashed-wrapped {border: 1px dashed gray;margin: 0 0.4em 0.5em 0.4em;box-sizing: border-box;padding-bottom: 0.4em;background-color: white;}#sk-container-id-6 div.sk-label label {font-family: monospace;font-weight: bold;display: inline-block;line-height: 1.2em;}#sk-container-id-6 div.sk-label-container {text-align: center;}#sk-container-id-6 div.sk-container {/* jupyter's `normalize.less` sets `[hidden] { display: none; }` but bootstrap.min.css set `[hidden] { display: none !important; }` so we also need the `!important` here to be able to override the default hidden behavior on the sphinx rendered scikit-learn.org. See: https://github.com/scikit-learn/scikit-learn/issues/21755 */display: inline-block !important;position: relative;}#sk-container-id-6 div.sk-text-repr-fallback {display: none;}</style><div id=\"sk-container-id-6\" class=\"sk-top-container\"><div class=\"sk-text-repr-fallback\"><pre>GradientBoostingRegressor(n_estimators=150, random_state=42)</pre><b>In a Jupyter environment, please rerun this cell to show the HTML representation or trust the notebook. <br />On GitHub, the HTML representation is unable to render, please try loading this page with nbviewer.org.</b></div><div class=\"sk-container\" hidden><div class=\"sk-item\"><div class=\"sk-estimator sk-toggleable\"><input class=\"sk-toggleable__control sk-hidden--visually\" id=\"sk-estimator-id-10\" type=\"checkbox\" checked><label for=\"sk-estimator-id-10\" class=\"sk-toggleable__label sk-toggleable__label-arrow\">GradientBoostingRegressor</label><div class=\"sk-toggleable__content\"><pre>GradientBoostingRegressor(n_estimators=150, random_state=42)</pre></div></div></div></div></div>"
      ],
      "text/plain": [
       "GradientBoostingRegressor(n_estimators=150, random_state=42)"
      ]
     },
     "execution_count": 33,
     "metadata": {},
     "output_type": "execute_result"
    }
   ],
   "source": [
    "regressor.fit(X_train_gold, y_train_gold)"
   ]
  },
  {
   "cell_type": "markdown",
   "metadata": {},
   "source": [
    "### Оценка качества модели с улучшенным бейзлайном"
   ]
  },
  {
   "cell_type": "markdown",
   "metadata": {},
   "source": [
    "##### Классификация"
   ]
  },
  {
   "cell_type": "markdown",
   "metadata": {},
   "source": [
    "Оценка качества модели:"
   ]
  },
  {
   "cell_type": "code",
   "execution_count": 34,
   "metadata": {
    "execution": {
     "iopub.execute_input": "2025-01-04T08:48:16.186352Z",
     "iopub.status.busy": "2025-01-04T08:48:16.185982Z",
     "iopub.status.idle": "2025-01-04T08:48:16.201039Z",
     "shell.execute_reply": "2025-01-04T08:48:16.199753Z",
     "shell.execute_reply.started": "2025-01-04T08:48:16.186324Z"
    },
    "trusted": true
   },
   "outputs": [
    {
     "name": "stdout",
     "output_type": "stream",
     "text": [
      "Accuracy: 0.9992967651195499\n",
      "F1 Score: 0.9992967546815856\n"
     ]
    }
   ],
   "source": [
    "accuracy_improved, f1_improved = quality_eval_classification(X_test_fraud, y_test_fraud, classifier)"
   ]
  },
  {
   "cell_type": "markdown",
   "metadata": {},
   "source": [
    "##### Регрессия"
   ]
  },
  {
   "cell_type": "markdown",
   "metadata": {},
   "source": [
    "Оценка качества модели:"
   ]
  },
  {
   "cell_type": "code",
   "execution_count": 35,
   "metadata": {
    "execution": {
     "iopub.execute_input": "2025-01-04T08:48:16.202719Z",
     "iopub.status.busy": "2025-01-04T08:48:16.202269Z",
     "iopub.status.idle": "2025-01-04T08:48:16.215547Z",
     "shell.execute_reply": "2025-01-04T08:48:16.214524Z",
     "shell.execute_reply.started": "2025-01-04T08:48:16.202671Z"
    },
    "trusted": true
   },
   "outputs": [
    {
     "name": "stdout",
     "output_type": "stream",
     "text": [
      "Mean Absolute Error: 2368586.5180117367\n",
      "R-squared: 0.6477319909538352\n"
     ]
    }
   ],
   "source": [
    "mae_improved, r2_improved = quality_eval_regression(X_test_gold, y_test_gold, regressor)"
   ]
  },
  {
   "cell_type": "markdown",
   "metadata": {},
   "source": [
    "### Сравнение результатов первоначального бейзлайна с улучшенным бейзлайном"
   ]
  },
  {
   "cell_type": "markdown",
   "metadata": {},
   "source": [
    "##### Классификация"
   ]
  },
  {
   "cell_type": "markdown",
   "metadata": {},
   "source": [
    "Видим, что результаты идентичны:"
   ]
  },
  {
   "cell_type": "code",
   "execution_count": 36,
   "metadata": {
    "execution": {
     "iopub.execute_input": "2025-01-04T08:48:16.216728Z",
     "iopub.status.busy": "2025-01-04T08:48:16.216422Z",
     "iopub.status.idle": "2025-01-04T08:48:16.238103Z",
     "shell.execute_reply": "2025-01-04T08:48:16.237142Z",
     "shell.execute_reply.started": "2025-01-04T08:48:16.216700Z"
    },
    "trusted": true
   },
   "outputs": [
    {
     "name": "stdout",
     "output_type": "stream",
     "text": [
      "Accuracy difference: 0.0\n",
      "F1 Score difference: 0.0\n"
     ]
    }
   ],
   "source": [
    "print(f\"Accuracy difference: {accuracy_improved-accuracy_origin}\")\n",
    "print(f\"F1 Score difference: {f1_improved-f1_origin}\")"
   ]
  },
  {
   "cell_type": "markdown",
   "metadata": {},
   "source": [
    "##### Регрессия"
   ]
  },
  {
   "cell_type": "markdown",
   "metadata": {},
   "source": [
    "Видим, что результаты улучшились:"
   ]
  },
  {
   "cell_type": "code",
   "execution_count": 37,
   "metadata": {
    "execution": {
     "iopub.execute_input": "2025-01-04T08:48:16.239496Z",
     "iopub.status.busy": "2025-01-04T08:48:16.239128Z",
     "iopub.status.idle": "2025-01-04T08:48:16.258695Z",
     "shell.execute_reply": "2025-01-04T08:48:16.257493Z",
     "shell.execute_reply.started": "2025-01-04T08:48:16.239466Z"
    },
    "trusted": true
   },
   "outputs": [
    {
     "name": "stdout",
     "output_type": "stream",
     "text": [
      "Mean Absolute Error difference: 19242.095167303458\n",
      "R-squared difference: 0.011094775780512767\n"
     ]
    }
   ],
   "source": [
    "print(f\"Mean Absolute Error difference: {mae_origin-mae_improved}\")\n",
    "print(f\"R-squared difference: {r2_improved-r2_origin}\")"
   ]
  },
  {
   "cell_type": "markdown",
   "metadata": {},
   "source": [
    "### Выводы"
   ]
  },
  {
   "cell_type": "markdown",
   "metadata": {},
   "source": [
    "Улучшенный бейзлайн оказался немного лучше базового. Модель классификации вообще не стала лучше -- скорей всего, нужно было ещё поэкспериментировать с гиперпараметрами."
   ]
  },
  {
   "cell_type": "markdown",
   "metadata": {},
   "source": [
    "## Имплементация алгоритма машинного обучения"
   ]
  },
  {
   "cell_type": "markdown",
   "metadata": {},
   "source": [
    "### Самостоятельная имплементация"
   ]
  },
  {
   "cell_type": "markdown",
   "metadata": {},
   "source": [
    "Для начала разберем, как работает градиентный бустинг:\n",
    "\n",
    "1. Основная идея: Градиентный бустинг – это метод, который использует ансамбль деревьев решений, где каждое последующее дерево обучается на остатках предыдущих деревьев для исправления ошибок.\n",
    "\n",
    "2. Пошаговый процесс:\n",
    "   - Начнем с инициализации модели базовых прогнозов, например, среднего значения для регрессии.\n",
    "   - Для каждого последующего базового алгоритма мы будем использовать градиент функции потерь для коррекции.\n",
    "   - Добавляем новое дерево, обученное на этих «остатках», к ансамблю."
   ]
  },
  {
   "cell_type": "markdown",
   "metadata": {},
   "source": [
    "##### Классификация"
   ]
  },
  {
   "cell_type": "code",
   "execution_count": 38,
   "metadata": {
    "execution": {
     "iopub.execute_input": "2025-01-04T08:48:16.260553Z",
     "iopub.status.busy": "2025-01-04T08:48:16.260163Z",
     "iopub.status.idle": "2025-01-04T08:48:16.280207Z",
     "shell.execute_reply": "2025-01-04T08:48:16.278561Z",
     "shell.execute_reply.started": "2025-01-04T08:48:16.260521Z"
    },
    "trusted": true
   },
   "outputs": [],
   "source": [
    "class GradientBoostingMulticlassClassifier:\n",
    "    def __init__(self, n_estimators=100, learning_rate=0.1, max_depth=3):\n",
    "        self.n_estimators = n_estimators\n",
    "        self.learning_rate = learning_rate\n",
    "        self.max_depth = max_depth\n",
    "        self.models = None\n",
    "        self.classes_ = None\n",
    "\n",
    "    def fit(self, X, y):\n",
    "        n_classes = len(np.unique(y))\n",
    "        self.classes_ = np.unique(y)\n",
    "        self.models = {i: [] for i in range(n_classes)}\n",
    "\n",
    "        y_one_hot = np.zeros((X.shape[0], n_classes))\n",
    "        y_one_hot[np.arange(X.shape[0]), y] = 1\n",
    "\n",
    "        logits = np.zeros((X.shape[0], n_classes))\n",
    "\n",
    "        for _ in range(self.n_estimators):\n",
    "            probabilities = self._softmax(logits)\n",
    "            gradients = y_one_hot - probabilities\n",
    "\n",
    "            for k in range(n_classes):\n",
    "                # Используем DecisionTreeRegressor вместо DecisionTreeClassifier\n",
    "                tree = DecisionTreeRegressor(max_depth=self.max_depth)\n",
    "                tree.fit(X, gradients[:, k])\n",
    "                update = self.learning_rate * tree.predict(X)\n",
    "                logits[:, k] += update\n",
    "                self.models[k].append(tree)\n",
    "\n",
    "    def _softmax(self, logits):\n",
    "        exp_logits = np.exp(logits - np.max(logits, axis=1, keepdims=True))\n",
    "        probabilities = exp_logits / exp_logits.sum(axis=1, keepdims=True)\n",
    "        return probabilities\n",
    "\n",
    "    def predict(self, X):\n",
    "        logits = np.zeros((X.shape[0], len(self.classes_)))\n",
    "\n",
    "        for k, trees in self.models.items():\n",
    "            for tree in trees:\n",
    "                update = self.learning_rate * tree.predict(X)\n",
    "                logits[:, k] += update\n",
    "\n",
    "        return np.argmax(logits, axis=1)\n",
    "\n",
    "    def predict_proba(self, X):\n",
    "        logits = np.zeros((X.shape[0], len(self.classes_)))\n",
    "\n",
    "        for k, trees in self.models.items():\n",
    "            for tree in trees:\n",
    "                update = self.learning_rate * tree.predict(X)\n",
    "                logits[:, k] += update\n",
    "\n",
    "        return self._softmax(logits)"
   ]
  },
  {
   "cell_type": "markdown",
   "metadata": {},
   "source": [
    "##### Регрессия"
   ]
  },
  {
   "cell_type": "code",
   "execution_count": 39,
   "metadata": {
    "execution": {
     "iopub.execute_input": "2025-01-04T08:48:16.282151Z",
     "iopub.status.busy": "2025-01-04T08:48:16.281465Z",
     "iopub.status.idle": "2025-01-04T08:48:16.305478Z",
     "shell.execute_reply": "2025-01-04T08:48:16.304063Z",
     "shell.execute_reply.started": "2025-01-04T08:48:16.282097Z"
    },
    "trusted": true
   },
   "outputs": [],
   "source": [
    "class SimpleGradientBoostingRegressor:\n",
    "    def __init__(self, n_estimators=100, learning_rate=0.1, max_depth=3):\n",
    "        self.n_estimators = n_estimators\n",
    "        self.learning_rate = learning_rate\n",
    "        self.max_depth = max_depth\n",
    "        self.models = []\n",
    "\n",
    "    def fit(self, X, y):\n",
    "        # Инициализация начальных предсказаний (средним значением целевой переменной)\n",
    "        y_pred = np.full(y.shape, y.mean())\n",
    "\n",
    "        for _ in range(self.n_estimators):\n",
    "            # Вычисление остатков\n",
    "            residuals = y - y_pred\n",
    "\n",
    "            # Обучение на остатках\n",
    "            tree = DecisionTreeRegressor(max_depth=self.max_depth)\n",
    "            tree.fit(X, residuals)\n",
    "\n",
    "            # Обновление предсказаний\n",
    "            update = self.learning_rate * tree.predict(X)\n",
    "            y_pred += update\n",
    "\n",
    "            # Сохранение модели\n",
    "            self.models.append(tree)\n",
    "\n",
    "    def predict(self, X):\n",
    "        # Начальные предсказания (среднее значение целевой переменной)\n",
    "        y_pred = np.zeros(X.shape[0])\n",
    "\n",
    "        for tree in self.models:\n",
    "            # Пошаговое дополнение каждого дерева\n",
    "            y_pred += self.learning_rate * tree.predict(X)\n",
    "\n",
    "        return y_pred"
   ]
  },
  {
   "cell_type": "markdown",
   "metadata": {},
   "source": [
    "### Обучение имплементированной модели"
   ]
  },
  {
   "cell_type": "markdown",
   "metadata": {},
   "source": [
    "##### Классификация"
   ]
  },
  {
   "cell_type": "markdown",
   "metadata": {},
   "source": [
    "Подготовка данных:"
   ]
  },
  {
   "cell_type": "code",
   "execution_count": 40,
   "metadata": {
    "execution": {
     "iopub.execute_input": "2025-01-04T08:48:16.312667Z",
     "iopub.status.busy": "2025-01-04T08:48:16.312273Z",
     "iopub.status.idle": "2025-01-04T08:48:16.356671Z",
     "shell.execute_reply": "2025-01-04T08:48:16.355682Z",
     "shell.execute_reply.started": "2025-01-04T08:48:16.312635Z"
    },
    "trusted": true
   },
   "outputs": [],
   "source": [
    "X_train_fraud, X_test_fraud, y_train_fraud, y_test_fraud = train_test_split(X_fraud, y_fraud_encoded, test_size=0.2, random_state=42)\n",
    "X_train_fraud, X_test_fraud = simple_imputer_df(X_train_fraud, X_test_fraud)\n",
    "X_train_fraud, X_test_fraud = scaling(X_train_fraud, X_test_fraud)\n",
    "\n",
    "classifier = GradientBoostingMulticlassClassifier()"
   ]
  },
  {
   "cell_type": "markdown",
   "metadata": {},
   "source": [
    "Обучение модели:"
   ]
  },
  {
   "cell_type": "code",
   "execution_count": 41,
   "metadata": {
    "execution": {
     "iopub.execute_input": "2025-01-04T08:48:16.358412Z",
     "iopub.status.busy": "2025-01-04T08:48:16.358098Z",
     "iopub.status.idle": "2025-01-04T08:48:36.310066Z",
     "shell.execute_reply": "2025-01-04T08:48:36.308906Z",
     "shell.execute_reply.started": "2025-01-04T08:48:16.358361Z"
    },
    "trusted": true
   },
   "outputs": [],
   "source": [
    "classifier.fit(X_train_fraud, y_train_fraud)"
   ]
  },
  {
   "cell_type": "markdown",
   "metadata": {},
   "source": [
    "##### Регрессия"
   ]
  },
  {
   "cell_type": "markdown",
   "metadata": {},
   "source": [
    "Подготовка данных:"
   ]
  },
  {
   "cell_type": "code",
   "execution_count": 42,
   "metadata": {
    "execution": {
     "iopub.execute_input": "2025-01-04T08:48:36.311684Z",
     "iopub.status.busy": "2025-01-04T08:48:36.311245Z",
     "iopub.status.idle": "2025-01-04T08:48:36.335844Z",
     "shell.execute_reply": "2025-01-04T08:48:36.334347Z",
     "shell.execute_reply.started": "2025-01-04T08:48:36.311636Z"
    },
    "trusted": true
   },
   "outputs": [],
   "source": [
    "X_train_gold, X_test_gold, y_train_gold, y_test_gold = train_test_split(X_gold, y_gold, test_size=0.2, random_state=42)\n",
    "X_train_gold, X_test_gold = simple_imputer(X_train_gold, X_test_gold)\n",
    "X_train_gold, X_test_gold = scaling(X_train_gold, X_test_gold)\n",
    "X_train_gold, y_train_gold, X_test_gold, y_test_gold = delete_none(X_train_gold, y_train_gold, X_test_gold, y_test_gold)\n",
    "\n",
    "regressor = SimpleGradientBoostingRegressor(max_depth=5)"
   ]
  },
  {
   "cell_type": "markdown",
   "metadata": {},
   "source": [
    "Обучение модели:"
   ]
  },
  {
   "cell_type": "code",
   "execution_count": 43,
   "metadata": {
    "execution": {
     "iopub.execute_input": "2025-01-04T08:48:36.337421Z",
     "iopub.status.busy": "2025-01-04T08:48:36.337022Z",
     "iopub.status.idle": "2025-01-04T08:48:42.684374Z",
     "shell.execute_reply": "2025-01-04T08:48:42.683199Z",
     "shell.execute_reply.started": "2025-01-04T08:48:36.337358Z"
    },
    "trusted": true
   },
   "outputs": [],
   "source": [
    "regressor.fit(X_train_gold, y_train_gold)"
   ]
  },
  {
   "cell_type": "markdown",
   "metadata": {},
   "source": [
    "### Оценка качества имплементированных моделей"
   ]
  },
  {
   "cell_type": "markdown",
   "metadata": {},
   "source": [
    "##### Классификация"
   ]
  },
  {
   "cell_type": "markdown",
   "metadata": {},
   "source": [
    "Оценка качества модели:"
   ]
  },
  {
   "cell_type": "code",
   "execution_count": 44,
   "metadata": {
    "execution": {
     "iopub.execute_input": "2025-01-04T08:48:42.685720Z",
     "iopub.status.busy": "2025-01-04T08:48:42.685370Z",
     "iopub.status.idle": "2025-01-04T08:48:42.746693Z",
     "shell.execute_reply": "2025-01-04T08:48:42.745664Z",
     "shell.execute_reply.started": "2025-01-04T08:48:42.685692Z"
    },
    "trusted": true
   },
   "outputs": [
    {
     "name": "stdout",
     "output_type": "stream",
     "text": [
      "Accuracy: 0.9992967651195499\n",
      "F1 Score: 0.9992967546815856\n"
     ]
    }
   ],
   "source": [
    "accuracy_my, f1_my = quality_eval_classification(X_test_fraud, y_test_fraud, classifier)"
   ]
  },
  {
   "cell_type": "markdown",
   "metadata": {},
   "source": [
    "##### Регрессия"
   ]
  },
  {
   "cell_type": "markdown",
   "metadata": {},
   "source": [
    "Оценка качества модели:"
   ]
  },
  {
   "cell_type": "code",
   "execution_count": 45,
   "metadata": {
    "execution": {
     "iopub.execute_input": "2025-01-04T08:48:42.748089Z",
     "iopub.status.busy": "2025-01-04T08:48:42.747698Z",
     "iopub.status.idle": "2025-01-04T08:48:42.774656Z",
     "shell.execute_reply": "2025-01-04T08:48:42.773506Z",
     "shell.execute_reply.started": "2025-01-04T08:48:42.748049Z"
    },
    "trusted": true
   },
   "outputs": [
    {
     "name": "stdout",
     "output_type": "stream",
     "text": [
      "Mean Absolute Error: 9645059.57136048\n",
      "R-squared: -1.346840911260132\n"
     ]
    }
   ],
   "source": [
    "mae_my, r2_my = quality_eval_regression(X_test_gold, y_test_gold, regressor)"
   ]
  },
  {
   "cell_type": "markdown",
   "metadata": {},
   "source": [
    "### Сравнение результатов первоначального бейзлайна и имплементированных моделей"
   ]
  },
  {
   "cell_type": "markdown",
   "metadata": {},
   "source": [
    "##### Классификация"
   ]
  },
  {
   "cell_type": "markdown",
   "metadata": {},
   "source": [
    "Видим, что результаты имплементированной модели немного хуже:"
   ]
  },
  {
   "cell_type": "code",
   "execution_count": 46,
   "metadata": {
    "execution": {
     "iopub.execute_input": "2025-01-04T08:48:42.776261Z",
     "iopub.status.busy": "2025-01-04T08:48:42.775855Z",
     "iopub.status.idle": "2025-01-04T08:48:42.782703Z",
     "shell.execute_reply": "2025-01-04T08:48:42.781383Z",
     "shell.execute_reply.started": "2025-01-04T08:48:42.776219Z"
    },
    "trusted": true
   },
   "outputs": [
    {
     "name": "stdout",
     "output_type": "stream",
     "text": [
      "Accuracy difference: 0.0\n",
      "F1 Score difference: 0.0\n"
     ]
    }
   ],
   "source": [
    "print(f\"Accuracy difference: {accuracy_my-accuracy_origin}\")\n",
    "print(f\"F1 Score difference: {f1_my-f1_origin}\")"
   ]
  },
  {
   "cell_type": "markdown",
   "metadata": {},
   "source": [
    "##### Регрессия"
   ]
  },
  {
   "cell_type": "markdown",
   "metadata": {},
   "source": [
    "Видим, что результаты имплементированной модели гораздо хуже:"
   ]
  },
  {
   "cell_type": "code",
   "execution_count": 47,
   "metadata": {
    "execution": {
     "iopub.execute_input": "2025-01-04T08:48:42.784024Z",
     "iopub.status.busy": "2025-01-04T08:48:42.783744Z",
     "iopub.status.idle": "2025-01-04T08:48:42.803435Z",
     "shell.execute_reply": "2025-01-04T08:48:42.802025Z",
     "shell.execute_reply.started": "2025-01-04T08:48:42.784001Z"
    },
    "trusted": true
   },
   "outputs": [
    {
     "name": "stdout",
     "output_type": "stream",
     "text": [
      "Mean Absolute Error difference: 7257230.95818144\n",
      "R-squared difference: -1.9834781264334544\n"
     ]
    }
   ],
   "source": [
    "print(f\"Mean Absolute Error difference: {mae_my-mae_origin}\")\n",
    "print(f\"R-squared difference: {r2_my-r2_origin}\")"
   ]
  },
  {
   "cell_type": "markdown",
   "metadata": {},
   "source": [
    "### Выводы"
   ]
  },
  {
   "cell_type": "markdown",
   "metadata": {},
   "source": [
    "Оценка качества наших имплементированных моделей оказалась хуже.\n",
    "Можно сделать следующие выводы:\n",
    "1. Предобработка данных важна: Масштабирование и нормализация данных могут значительно повлиять на качество модели.\n",
    "2. Оптимизация гиперпараметров: Правильная настройка параметров, таких как темп обучения и количество итераций, необходима для достижения оптимальной производительности.\n",
    "3. Регуляризация: Помогает избежать переобучения и может улучшить обобщающую способность модели.\n",
    "4. Алгоритмическая точность: Правильная реализация алгоритма и внимание к численным ошибкам критичны для качества модели.\n",
    "5. Используйте проверенные решения: Изучение и сравнение с библиотечными реализациями может помочь выявить слабые места вашей модели.\n",
    "6. Тщательно изучайте данные: Соблюдение чистоты, отсутствие пропусков и ошибок в данных — важный аспект построения качественной модели."
   ]
  },
  {
   "cell_type": "markdown",
   "metadata": {},
   "source": [
    "### Добавление техник из улучшенного бейзлайна"
   ]
  },
  {
   "cell_type": "markdown",
   "metadata": {},
   "source": [
    "##### Классификация"
   ]
  },
  {
   "cell_type": "code",
   "execution_count": 48,
   "metadata": {
    "execution": {
     "iopub.execute_input": "2025-01-04T08:48:42.805272Z",
     "iopub.status.busy": "2025-01-04T08:48:42.804805Z",
     "iopub.status.idle": "2025-01-04T08:48:42.845417Z",
     "shell.execute_reply": "2025-01-04T08:48:42.844498Z",
     "shell.execute_reply.started": "2025-01-04T08:48:42.805211Z"
    },
    "trusted": true
   },
   "outputs": [],
   "source": [
    "X_train_fraud, X_test_fraud, y_train_fraud, y_test_fraud = train_test_split(X_fraud, y_fraud_encoded, test_size=0.2, random_state=42)\n",
    "X_train_fraud, X_test_fraud = simple_imputer_df(X_train_fraud, X_test_fraud)\n",
    "X_train_fraud, X_test_fraud = scaling(X_train_fraud, X_test_fraud)\n",
    "\n",
    "classifier = GradientBoostingMulticlassClassifier(learning_rate=0.1, n_estimators=150)"
   ]
  },
  {
   "cell_type": "markdown",
   "metadata": {},
   "source": [
    "##### Регрессия"
   ]
  },
  {
   "cell_type": "markdown",
   "metadata": {},
   "source": [
    "Формирование улучшенного бейзлайна:"
   ]
  },
  {
   "cell_type": "code",
   "execution_count": 49,
   "metadata": {
    "execution": {
     "iopub.execute_input": "2025-01-04T08:48:42.846829Z",
     "iopub.status.busy": "2025-01-04T08:48:42.846565Z",
     "iopub.status.idle": "2025-01-04T08:48:42.868353Z",
     "shell.execute_reply": "2025-01-04T08:48:42.867208Z",
     "shell.execute_reply.started": "2025-01-04T08:48:42.846806Z"
    },
    "trusted": true
   },
   "outputs": [],
   "source": [
    "X_train_gold, X_test_gold, y_train_gold, y_test_gold = train_test_split(X_gold, y_gold, test_size=0.2, random_state=42)\n",
    "X_train_gold, X_test_gold = simple_imputer(X_train_gold, X_test_gold)\n",
    "X_train_gold, X_test_gold = scaling(X_train_gold, X_test_gold)\n",
    "X_train_gold, y_train_gold, X_test_gold, y_test_gold = delete_none(X_train_gold, y_train_gold, X_test_gold, y_test_gold)\n",
    "\n",
    "regressor = SimpleGradientBoostingRegressor(learning_rate=0.1, n_estimators=150)"
   ]
  },
  {
   "cell_type": "markdown",
   "metadata": {},
   "source": [
    "### Обучение на улучшенном бейзлайне"
   ]
  },
  {
   "cell_type": "markdown",
   "metadata": {},
   "source": [
    "##### Классификация"
   ]
  },
  {
   "cell_type": "code",
   "execution_count": 50,
   "metadata": {
    "execution": {
     "iopub.execute_input": "2025-01-04T08:48:42.869826Z",
     "iopub.status.busy": "2025-01-04T08:48:42.869461Z",
     "iopub.status.idle": "2025-01-04T08:49:12.762745Z",
     "shell.execute_reply": "2025-01-04T08:49:12.761719Z",
     "shell.execute_reply.started": "2025-01-04T08:48:42.869792Z"
    },
    "trusted": true
   },
   "outputs": [],
   "source": [
    "classifier.fit(X_train_fraud, y_train_fraud)"
   ]
  },
  {
   "cell_type": "markdown",
   "metadata": {},
   "source": [
    "##### Регрессия"
   ]
  },
  {
   "cell_type": "code",
   "execution_count": 51,
   "metadata": {
    "execution": {
     "iopub.execute_input": "2025-01-04T08:49:12.763973Z",
     "iopub.status.busy": "2025-01-04T08:49:12.763718Z",
     "iopub.status.idle": "2025-01-04T08:49:18.772225Z",
     "shell.execute_reply": "2025-01-04T08:49:18.771053Z",
     "shell.execute_reply.started": "2025-01-04T08:49:12.763952Z"
    },
    "trusted": true
   },
   "outputs": [],
   "source": [
    "regressor.fit(X_train_gold, y_train_gold)"
   ]
  },
  {
   "cell_type": "markdown",
   "metadata": {},
   "source": [
    "### Оценка качества моделей на улучшенном бейзлайне"
   ]
  },
  {
   "cell_type": "markdown",
   "metadata": {},
   "source": [
    "##### Классификация"
   ]
  },
  {
   "cell_type": "code",
   "execution_count": 52,
   "metadata": {
    "execution": {
     "iopub.execute_input": "2025-01-04T08:49:18.773792Z",
     "iopub.status.busy": "2025-01-04T08:49:18.773466Z",
     "iopub.status.idle": "2025-01-04T08:49:18.858163Z",
     "shell.execute_reply": "2025-01-04T08:49:18.857178Z",
     "shell.execute_reply.started": "2025-01-04T08:49:18.773748Z"
    },
    "trusted": true
   },
   "outputs": [
    {
     "name": "stdout",
     "output_type": "stream",
     "text": [
      "Accuracy: 0.9992967651195499\n",
      "F1 Score: 0.9992967546815856\n"
     ]
    }
   ],
   "source": [
    "accuracy_my_improved, f1_my_improved = quality_eval_classification(X_test_fraud, y_test_fraud, classifier)"
   ]
  },
  {
   "cell_type": "markdown",
   "metadata": {},
   "source": [
    "##### Регрессия"
   ]
  },
  {
   "cell_type": "code",
   "execution_count": 53,
   "metadata": {
    "execution": {
     "iopub.execute_input": "2025-01-04T08:49:18.859833Z",
     "iopub.status.busy": "2025-01-04T08:49:18.859432Z",
     "iopub.status.idle": "2025-01-04T08:49:18.894131Z",
     "shell.execute_reply": "2025-01-04T08:49:18.892965Z",
     "shell.execute_reply.started": "2025-01-04T08:49:18.859787Z"
    },
    "trusted": true
   },
   "outputs": [
    {
     "name": "stdout",
     "output_type": "stream",
     "text": [
      "Mean Absolute Error: 9652205.217339033\n",
      "R-squared: -1.3351881818543534\n"
     ]
    }
   ],
   "source": [
    "mae_my_impoved, r2_my_impoved = quality_eval_regression(X_test_gold, y_test_gold, regressor)"
   ]
  },
  {
   "cell_type": "markdown",
   "metadata": {},
   "source": [
    "### Сравнение результатов"
   ]
  },
  {
   "cell_type": "markdown",
   "metadata": {},
   "source": [
    "##### Классификация"
   ]
  },
  {
   "cell_type": "code",
   "execution_count": 54,
   "metadata": {
    "execution": {
     "iopub.execute_input": "2025-01-04T08:49:18.895430Z",
     "iopub.status.busy": "2025-01-04T08:49:18.895033Z",
     "iopub.status.idle": "2025-01-04T08:49:18.901748Z",
     "shell.execute_reply": "2025-01-04T08:49:18.900639Z",
     "shell.execute_reply.started": "2025-01-04T08:49:18.895366Z"
    },
    "trusted": true
   },
   "outputs": [
    {
     "name": "stdout",
     "output_type": "stream",
     "text": [
      "Accuracy difference: 0.0\n",
      "F1 Score difference: 0.0\n"
     ]
    }
   ],
   "source": [
    "print(f\"Accuracy difference: {accuracy_my_improved-accuracy_improved}\")\n",
    "print(f\"F1 Score difference: {f1_my_improved-f1_improved}\")"
   ]
  },
  {
   "cell_type": "markdown",
   "metadata": {},
   "source": [
    "##### Регрессия"
   ]
  },
  {
   "cell_type": "code",
   "execution_count": 55,
   "metadata": {
    "execution": {
     "iopub.execute_input": "2025-01-04T08:49:18.903001Z",
     "iopub.status.busy": "2025-01-04T08:49:18.902730Z",
     "iopub.status.idle": "2025-01-04T08:49:18.928066Z",
     "shell.execute_reply": "2025-01-04T08:49:18.926905Z",
     "shell.execute_reply.started": "2025-01-04T08:49:18.902978Z"
    },
    "trusted": true
   },
   "outputs": [
    {
     "name": "stdout",
     "output_type": "stream",
     "text": [
      "Mean Absolute Error difference: 7283618.699327297\n",
      "R-squared difference: -1.9829201728081887\n"
     ]
    }
   ],
   "source": [
    "print(f\"Mean Absolute Error difference: {mae_my_impoved-mae_improved}\")\n",
    "print(f\"R-squared difference: {r2_my_impoved-r2_improved}\")"
   ]
  },
  {
   "cell_type": "markdown",
   "metadata": {},
   "source": [
    "### Выводы"
   ]
  },
  {
   "cell_type": "markdown",
   "metadata": {},
   "source": [
    "Результаты получились хуже. Наша имплементация для задачи регрессии вообще не сходится. Нужно лучше изучать, как работает градиентный бустинг, и дальше подбирать параметры."
   ]
  },
  {
   "cell_type": "markdown",
   "metadata": {},
   "source": [
    "## Подведение итогов / сравнение результатов"
   ]
  },
  {
   "cell_type": "markdown",
   "metadata": {},
   "source": [
    "Метрика для задачи классификации -- Accuracy\n",
    "\n",
    "Метрика для задачи регрессии -- R-squared"
   ]
  },
  {
   "cell_type": "markdown",
   "metadata": {},
   "source": [
    "| Алгоритм            | Задача        | Бейзлайн            | Улучшенный бейзлайн | Самостоятельная имплементация алгоритма |\n",
    "|---------------------|---------------|---------------------|---------------------|-----------------------------------------|\n",
    "| KNN                 | классификация | 0.9990767607491428  | 0.9980216301767344  | 0.998988833201442                       |\n",
    "|                     | регрессия     | 0.26023132479378674 | 0.5869693562024589  | 0.6048118747567031                      |\n",
    "| Линейные модели     | классификация | 0.9973623731891539  | 0.9982416036574644  | 0.9701072621768947                      |\n",
    "|                     | регрессия     | 0.6204675812871403  | 0.61988245332444    | 0.5196339914918888                      |\n",
    "| Решающее дерево     | классификация | 0.9994724810972393  | 0.9994724810972393  | 0.9992966414629858                      |\n",
    "|                     | регрессия     | 0.1661606200483663  | -1.4486458799625517 | 0.5192060277943523                      |\n",
    "| Случайный лес       | классификация | 0.9994724810972393  | 0.9994724810972393  | 0.9992966414629858                      |\n",
    "|                     | регрессия     | 0.610479164922296   | 0.6161405634184933  | 0.5796125932674412                      |\n",
    "| Градиентный бустинг | классификация | 0.9992967651195499  | 0.9992967651195499  | 0.9992967651195499                      |\n",
    "|                     | регрессия     | 0.6366372151733224  | 0.6477319909538352  | -1.347141455293214                      |"
   ]
  },
  {
   "cell_type": "markdown",
   "metadata": {},
   "source": [
    "Лучший алгоритм для задачи классификации -- Случайный лес с улучшенным бейзлайном.\n",
    "\n",
    "Лучший алгоритм для задачи регрессии -- Градиентный бустинг с улучшенным бейзлайном."
   ]
  }
 ],
 "metadata": {
  "kaggle": {
   "accelerator": "none",
   "dataSources": [
    {
     "datasetId": 3752264,
     "sourceId": 6492730,
     "sourceType": "datasetVersion"
    },
    {
     "datasetId": 5936111,
     "sourceId": 9705963,
     "sourceType": "datasetVersion"
    }
   ],
   "dockerImageVersionId": 30822,
   "isGpuEnabled": false,
   "isInternetEnabled": true,
   "language": "python",
   "sourceType": "notebook"
  },
  "kernelspec": {
   "display_name": "Python 3",
   "language": "python",
   "name": "python3"
  },
  "language_info": {
   "codemirror_mode": {
    "name": "ipython",
    "version": 3
   },
   "file_extension": ".py",
   "mimetype": "text/x-python",
   "name": "python",
   "nbconvert_exporter": "python",
   "pygments_lexer": "ipython3",
   "version": "3.10.12"
  }
 },
 "nbformat": 4,
 "nbformat_minor": 4
}
