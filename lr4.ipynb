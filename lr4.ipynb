{
 "cells": [
  {
   "cell_type": "markdown",
   "metadata": {},
   "source": [
    "# Лабораторная работа №4 (Проведение исследований со случайным лесом)"
   ]
  },
  {
   "cell_type": "markdown",
   "metadata": {},
   "source": [
    "## Создание бейзлайна и оценка качества"
   ]
  },
  {
   "cell_type": "markdown",
   "metadata": {},
   "source": [
    "### Обучение моделей из sklearn для выбранных наборов данных"
   ]
  },
  {
   "cell_type": "markdown",
   "metadata": {},
   "source": [
    "#### Импорт библиотек"
   ]
  },
  {
   "cell_type": "code",
   "execution_count": 17,
   "metadata": {
    "execution": {
     "iopub.execute_input": "2025-01-04T06:52:36.116553Z",
     "iopub.status.busy": "2025-01-04T06:52:36.115988Z",
     "iopub.status.idle": "2025-01-04T06:52:36.122706Z",
     "shell.execute_reply": "2025-01-04T06:52:36.121465Z",
     "shell.execute_reply.started": "2025-01-04T06:52:36.116478Z"
    },
    "trusted": true
   },
   "outputs": [],
   "source": [
    "import pandas as pd\n",
    "from sklearn.model_selection import train_test_split, GridSearchCV\n",
    "from sklearn.preprocessing import StandardScaler, LabelEncoder\n",
    "from sklearn.ensemble import RandomForestClassifier, RandomForestRegressor\n",
    "from sklearn.metrics import accuracy_score, f1_score, mean_absolute_error, r2_score\n",
    "from sklearn.impute import SimpleImputer\n",
    "from scipy.spatial import distance\n",
    "import numpy as np\n",
    "from collections import Counter"
   ]
  },
  {
   "cell_type": "markdown",
   "metadata": {},
   "source": [
    "#### Подготовка данных"
   ]
  },
  {
   "cell_type": "markdown",
   "metadata": {},
   "source": [
    "##### Классификация (Credit Card Fraud Detection Dataset 2023)"
   ]
  },
  {
   "cell_type": "markdown",
   "metadata": {},
   "source": [
    "**Загрузка данных:**"
   ]
  },
  {
   "cell_type": "code",
   "execution_count": 18,
   "metadata": {
    "execution": {
     "iopub.execute_input": "2025-01-04T06:52:36.124246Z",
     "iopub.status.busy": "2025-01-04T06:52:36.123931Z",
     "iopub.status.idle": "2025-01-04T06:52:42.679210Z",
     "shell.execute_reply": "2025-01-04T06:52:42.678211Z",
     "shell.execute_reply.started": "2025-01-04T06:52:36.124220Z"
    },
    "trusted": true
   },
   "outputs": [],
   "source": [
    "fraud_data = pd.read_csv('/kaggle/input/credit-card-fraud-detection-dataset-2023/creditcard_2023.csv')\n",
    "fraud_data = fraud_data.sample(frac=0.05)\n",
    "X_fraud = fraud_data.iloc[:, :-1]  # Признаки\n",
    "y_fraud = fraud_data.iloc[:, -1]   # Метки классов\n",
    "\n",
    "label_encoder = LabelEncoder()\n",
    "y_fraud_encoded = label_encoder.fit_transform(y_fraud)"
   ]
  },
  {
   "cell_type": "markdown",
   "metadata": {},
   "source": [
    "**Разделение на тренировочный и тестовый наборы:**"
   ]
  },
  {
   "cell_type": "code",
   "execution_count": 19,
   "metadata": {
    "execution": {
     "iopub.execute_input": "2025-01-04T06:52:42.681833Z",
     "iopub.status.busy": "2025-01-04T06:52:42.681385Z",
     "iopub.status.idle": "2025-01-04T06:52:42.694123Z",
     "shell.execute_reply": "2025-01-04T06:52:42.693092Z",
     "shell.execute_reply.started": "2025-01-04T06:52:42.681798Z"
    },
    "trusted": true
   },
   "outputs": [],
   "source": [
    "X_train_fraud, X_test_fraud, y_train_fraud, y_test_fraud = train_test_split(X_fraud, y_fraud_encoded, test_size=0.2, random_state=42)"
   ]
  },
  {
   "cell_type": "markdown",
   "metadata": {},
   "source": [
    "**Замена пропущенных значений**"
   ]
  },
  {
   "cell_type": "code",
   "execution_count": 20,
   "metadata": {
    "execution": {
     "iopub.execute_input": "2025-01-04T06:52:42.696560Z",
     "iopub.status.busy": "2025-01-04T06:52:42.696135Z",
     "iopub.status.idle": "2025-01-04T06:52:42.701097Z",
     "shell.execute_reply": "2025-01-04T06:52:42.700072Z",
     "shell.execute_reply.started": "2025-01-04T06:52:42.696489Z"
    },
    "trusted": true
   },
   "outputs": [],
   "source": [
    "def simple_imputer_df(x_train, x_test):\n",
    "    imputer = SimpleImputer(strategy='mean')\n",
    "    return pd.DataFrame(imputer.fit_transform(x_train)), pd.DataFrame(imputer.transform(x_test))"
   ]
  },
  {
   "cell_type": "code",
   "execution_count": 21,
   "metadata": {
    "execution": {
     "iopub.execute_input": "2025-01-04T06:52:42.702420Z",
     "iopub.status.busy": "2025-01-04T06:52:42.702094Z",
     "iopub.status.idle": "2025-01-04T06:52:42.731597Z",
     "shell.execute_reply": "2025-01-04T06:52:42.730747Z",
     "shell.execute_reply.started": "2025-01-04T06:52:42.702383Z"
    },
    "trusted": true
   },
   "outputs": [],
   "source": [
    "X_train_fraud, X_test_fraud = simple_imputer_df(X_train_fraud, X_test_fraud)"
   ]
  },
  {
   "cell_type": "markdown",
   "metadata": {},
   "source": [
    "**Масштабирование данных**"
   ]
  },
  {
   "cell_type": "code",
   "execution_count": 22,
   "metadata": {
    "execution": {
     "iopub.execute_input": "2025-01-04T06:52:42.732968Z",
     "iopub.status.busy": "2025-01-04T06:52:42.732603Z",
     "iopub.status.idle": "2025-01-04T06:52:42.737462Z",
     "shell.execute_reply": "2025-01-04T06:52:42.736361Z",
     "shell.execute_reply.started": "2025-01-04T06:52:42.732933Z"
    },
    "trusted": true
   },
   "outputs": [],
   "source": [
    "def scaling(x_train, x_test):\n",
    "    scaler = StandardScaler()\n",
    "    return scaler.fit_transform(x_train), scaler.transform(x_test)"
   ]
  },
  {
   "cell_type": "code",
   "execution_count": 23,
   "metadata": {
    "execution": {
     "iopub.execute_input": "2025-01-04T06:52:42.738804Z",
     "iopub.status.busy": "2025-01-04T06:52:42.738463Z",
     "iopub.status.idle": "2025-01-04T06:52:42.767771Z",
     "shell.execute_reply": "2025-01-04T06:52:42.766784Z",
     "shell.execute_reply.started": "2025-01-04T06:52:42.738776Z"
    },
    "trusted": true
   },
   "outputs": [],
   "source": [
    "X_train_fraud, X_test_fraud = scaling(X_train_fraud, X_test_fraud)"
   ]
  },
  {
   "cell_type": "markdown",
   "metadata": {},
   "source": [
    "##### Регрессия (Gold Price Regression)"
   ]
  },
  {
   "cell_type": "markdown",
   "metadata": {},
   "source": [
    "**Загрузка данных:**"
   ]
  },
  {
   "cell_type": "code",
   "execution_count": 24,
   "metadata": {
    "execution": {
     "iopub.execute_input": "2025-01-04T06:52:42.769077Z",
     "iopub.status.busy": "2025-01-04T06:52:42.768788Z",
     "iopub.status.idle": "2025-01-04T06:52:42.806884Z",
     "shell.execute_reply": "2025-01-04T06:52:42.805822Z",
     "shell.execute_reply.started": "2025-01-04T06:52:42.769052Z"
    },
    "trusted": true
   },
   "outputs": [],
   "source": [
    "gold_data = pd.read_csv('/kaggle/input/financial-data/financial_regression.csv')\n",
    "\n",
    "X_gold = gold_data.iloc[:, 1:-1]  # Признаки\n",
    "y_gold = gold_data.iloc[:, -1]   # Целевая переменная"
   ]
  },
  {
   "cell_type": "markdown",
   "metadata": {},
   "source": [
    "**Разделение на тренировочный и тестовый наборы:**"
   ]
  },
  {
   "cell_type": "code",
   "execution_count": 25,
   "metadata": {
    "execution": {
     "iopub.execute_input": "2025-01-04T06:52:42.810644Z",
     "iopub.status.busy": "2025-01-04T06:52:42.810317Z",
     "iopub.status.idle": "2025-01-04T06:52:42.818452Z",
     "shell.execute_reply": "2025-01-04T06:52:42.817599Z",
     "shell.execute_reply.started": "2025-01-04T06:52:42.810617Z"
    },
    "trusted": true
   },
   "outputs": [],
   "source": [
    "X_train_gold, X_test_gold, y_train_gold, y_test_gold = train_test_split(X_gold, y_gold, test_size=0.2, random_state=42)"
   ]
  },
  {
   "cell_type": "markdown",
   "metadata": {},
   "source": [
    "**Замена пропущенных значений:**"
   ]
  },
  {
   "cell_type": "code",
   "execution_count": 26,
   "metadata": {
    "execution": {
     "iopub.execute_input": "2025-01-04T06:52:42.821094Z",
     "iopub.status.busy": "2025-01-04T06:52:42.820740Z",
     "iopub.status.idle": "2025-01-04T06:52:42.832470Z",
     "shell.execute_reply": "2025-01-04T06:52:42.831475Z",
     "shell.execute_reply.started": "2025-01-04T06:52:42.821067Z"
    },
    "trusted": true
   },
   "outputs": [],
   "source": [
    "def simple_imputer(x_train, x_test):\n",
    "    imputer = SimpleImputer(strategy='mean')\n",
    "    return imputer.fit_transform(x_train), imputer.transform(x_test)"
   ]
  },
  {
   "cell_type": "code",
   "execution_count": 27,
   "metadata": {
    "execution": {
     "iopub.execute_input": "2025-01-04T06:52:42.833849Z",
     "iopub.status.busy": "2025-01-04T06:52:42.833438Z",
     "iopub.status.idle": "2025-01-04T06:52:42.857381Z",
     "shell.execute_reply": "2025-01-04T06:52:42.856334Z",
     "shell.execute_reply.started": "2025-01-04T06:52:42.833812Z"
    },
    "trusted": true
   },
   "outputs": [],
   "source": [
    "X_train_gold, X_test_gold = simple_imputer(X_train_gold, X_test_gold)"
   ]
  },
  {
   "cell_type": "markdown",
   "metadata": {},
   "source": [
    "**Удаление строк с пропущенными значениями:**"
   ]
  },
  {
   "cell_type": "code",
   "execution_count": 28,
   "metadata": {
    "execution": {
     "iopub.execute_input": "2025-01-04T06:52:42.858877Z",
     "iopub.status.busy": "2025-01-04T06:52:42.858473Z",
     "iopub.status.idle": "2025-01-04T06:52:42.864015Z",
     "shell.execute_reply": "2025-01-04T06:52:42.862906Z",
     "shell.execute_reply.started": "2025-01-04T06:52:42.858835Z"
    },
    "trusted": true
   },
   "outputs": [],
   "source": [
    "def delete_none(x_train, y_train, x_test, y_test):\n",
    "    mask = ~np.isnan(y_train)\n",
    "    mask_test = ~np.isnan(y_test)\n",
    "    return x_train[mask], y_train[mask], x_test[mask_test], y_test[mask_test]"
   ]
  },
  {
   "cell_type": "code",
   "execution_count": 29,
   "metadata": {
    "execution": {
     "iopub.execute_input": "2025-01-04T06:52:42.865324Z",
     "iopub.status.busy": "2025-01-04T06:52:42.865019Z",
     "iopub.status.idle": "2025-01-04T06:52:42.881855Z",
     "shell.execute_reply": "2025-01-04T06:52:42.880709Z",
     "shell.execute_reply.started": "2025-01-04T06:52:42.865296Z"
    },
    "trusted": true
   },
   "outputs": [],
   "source": [
    "X_train_gold, y_train_gold, X_test_gold, y_test_gold = delete_none(X_train_gold, y_train_gold, X_test_gold, y_test_gold)"
   ]
  },
  {
   "cell_type": "markdown",
   "metadata": {},
   "source": [
    "#### Обучение моделей"
   ]
  },
  {
   "cell_type": "markdown",
   "metadata": {},
   "source": [
    "##### Классификация"
   ]
  },
  {
   "cell_type": "code",
   "execution_count": 30,
   "metadata": {
    "execution": {
     "iopub.execute_input": "2025-01-04T06:52:42.883328Z",
     "iopub.status.busy": "2025-01-04T06:52:42.882978Z",
     "iopub.status.idle": "2025-01-04T06:52:49.105568Z",
     "shell.execute_reply": "2025-01-04T06:52:49.104703Z",
     "shell.execute_reply.started": "2025-01-04T06:52:42.883300Z"
    },
    "trusted": true
   },
   "outputs": [
    {
     "data": {
      "text/html": [
       "<style>#sk-container-id-3 {color: black;background-color: white;}#sk-container-id-3 pre{padding: 0;}#sk-container-id-3 div.sk-toggleable {background-color: white;}#sk-container-id-3 label.sk-toggleable__label {cursor: pointer;display: block;width: 100%;margin-bottom: 0;padding: 0.3em;box-sizing: border-box;text-align: center;}#sk-container-id-3 label.sk-toggleable__label-arrow:before {content: \"▸\";float: left;margin-right: 0.25em;color: #696969;}#sk-container-id-3 label.sk-toggleable__label-arrow:hover:before {color: black;}#sk-container-id-3 div.sk-estimator:hover label.sk-toggleable__label-arrow:before {color: black;}#sk-container-id-3 div.sk-toggleable__content {max-height: 0;max-width: 0;overflow: hidden;text-align: left;background-color: #f0f8ff;}#sk-container-id-3 div.sk-toggleable__content pre {margin: 0.2em;color: black;border-radius: 0.25em;background-color: #f0f8ff;}#sk-container-id-3 input.sk-toggleable__control:checked~div.sk-toggleable__content {max-height: 200px;max-width: 100%;overflow: auto;}#sk-container-id-3 input.sk-toggleable__control:checked~label.sk-toggleable__label-arrow:before {content: \"▾\";}#sk-container-id-3 div.sk-estimator input.sk-toggleable__control:checked~label.sk-toggleable__label {background-color: #d4ebff;}#sk-container-id-3 div.sk-label input.sk-toggleable__control:checked~label.sk-toggleable__label {background-color: #d4ebff;}#sk-container-id-3 input.sk-hidden--visually {border: 0;clip: rect(1px 1px 1px 1px);clip: rect(1px, 1px, 1px, 1px);height: 1px;margin: -1px;overflow: hidden;padding: 0;position: absolute;width: 1px;}#sk-container-id-3 div.sk-estimator {font-family: monospace;background-color: #f0f8ff;border: 1px dotted black;border-radius: 0.25em;box-sizing: border-box;margin-bottom: 0.5em;}#sk-container-id-3 div.sk-estimator:hover {background-color: #d4ebff;}#sk-container-id-3 div.sk-parallel-item::after {content: \"\";width: 100%;border-bottom: 1px solid gray;flex-grow: 1;}#sk-container-id-3 div.sk-label:hover label.sk-toggleable__label {background-color: #d4ebff;}#sk-container-id-3 div.sk-serial::before {content: \"\";position: absolute;border-left: 1px solid gray;box-sizing: border-box;top: 0;bottom: 0;left: 50%;z-index: 0;}#sk-container-id-3 div.sk-serial {display: flex;flex-direction: column;align-items: center;background-color: white;padding-right: 0.2em;padding-left: 0.2em;position: relative;}#sk-container-id-3 div.sk-item {position: relative;z-index: 1;}#sk-container-id-3 div.sk-parallel {display: flex;align-items: stretch;justify-content: center;background-color: white;position: relative;}#sk-container-id-3 div.sk-item::before, #sk-container-id-3 div.sk-parallel-item::before {content: \"\";position: absolute;border-left: 1px solid gray;box-sizing: border-box;top: 0;bottom: 0;left: 50%;z-index: -1;}#sk-container-id-3 div.sk-parallel-item {display: flex;flex-direction: column;z-index: 1;position: relative;background-color: white;}#sk-container-id-3 div.sk-parallel-item:first-child::after {align-self: flex-end;width: 50%;}#sk-container-id-3 div.sk-parallel-item:last-child::after {align-self: flex-start;width: 50%;}#sk-container-id-3 div.sk-parallel-item:only-child::after {width: 0;}#sk-container-id-3 div.sk-dashed-wrapped {border: 1px dashed gray;margin: 0 0.4em 0.5em 0.4em;box-sizing: border-box;padding-bottom: 0.4em;background-color: white;}#sk-container-id-3 div.sk-label label {font-family: monospace;font-weight: bold;display: inline-block;line-height: 1.2em;}#sk-container-id-3 div.sk-label-container {text-align: center;}#sk-container-id-3 div.sk-container {/* jupyter's `normalize.less` sets `[hidden] { display: none; }` but bootstrap.min.css set `[hidden] { display: none !important; }` so we also need the `!important` here to be able to override the default hidden behavior on the sphinx rendered scikit-learn.org. See: https://github.com/scikit-learn/scikit-learn/issues/21755 */display: inline-block !important;position: relative;}#sk-container-id-3 div.sk-text-repr-fallback {display: none;}</style><div id=\"sk-container-id-3\" class=\"sk-top-container\"><div class=\"sk-text-repr-fallback\"><pre>RandomForestClassifier(random_state=42)</pre><b>In a Jupyter environment, please rerun this cell to show the HTML representation or trust the notebook. <br />On GitHub, the HTML representation is unable to render, please try loading this page with nbviewer.org.</b></div><div class=\"sk-container\" hidden><div class=\"sk-item\"><div class=\"sk-estimator sk-toggleable\"><input class=\"sk-toggleable__control sk-hidden--visually\" id=\"sk-estimator-id-3\" type=\"checkbox\" checked><label for=\"sk-estimator-id-3\" class=\"sk-toggleable__label sk-toggleable__label-arrow\">RandomForestClassifier</label><div class=\"sk-toggleable__content\"><pre>RandomForestClassifier(random_state=42)</pre></div></div></div></div></div>"
      ],
      "text/plain": [
       "RandomForestClassifier(random_state=42)"
      ]
     },
     "execution_count": 30,
     "metadata": {},
     "output_type": "execute_result"
    }
   ],
   "source": [
    "classifier = RandomForestClassifier(random_state=42)\n",
    "classifier.fit(X_train_fraud, y_train_fraud)"
   ]
  },
  {
   "cell_type": "markdown",
   "metadata": {},
   "source": [
    "##### Регрессия"
   ]
  },
  {
   "cell_type": "code",
   "execution_count": 31,
   "metadata": {
    "execution": {
     "iopub.execute_input": "2025-01-04T06:52:49.106667Z",
     "iopub.status.busy": "2025-01-04T06:52:49.106360Z",
     "iopub.status.idle": "2025-01-04T06:52:58.409253Z",
     "shell.execute_reply": "2025-01-04T06:52:58.408252Z",
     "shell.execute_reply.started": "2025-01-04T06:52:49.106643Z"
    },
    "trusted": true
   },
   "outputs": [
    {
     "data": {
      "text/html": [
       "<style>#sk-container-id-4 {color: black;background-color: white;}#sk-container-id-4 pre{padding: 0;}#sk-container-id-4 div.sk-toggleable {background-color: white;}#sk-container-id-4 label.sk-toggleable__label {cursor: pointer;display: block;width: 100%;margin-bottom: 0;padding: 0.3em;box-sizing: border-box;text-align: center;}#sk-container-id-4 label.sk-toggleable__label-arrow:before {content: \"▸\";float: left;margin-right: 0.25em;color: #696969;}#sk-container-id-4 label.sk-toggleable__label-arrow:hover:before {color: black;}#sk-container-id-4 div.sk-estimator:hover label.sk-toggleable__label-arrow:before {color: black;}#sk-container-id-4 div.sk-toggleable__content {max-height: 0;max-width: 0;overflow: hidden;text-align: left;background-color: #f0f8ff;}#sk-container-id-4 div.sk-toggleable__content pre {margin: 0.2em;color: black;border-radius: 0.25em;background-color: #f0f8ff;}#sk-container-id-4 input.sk-toggleable__control:checked~div.sk-toggleable__content {max-height: 200px;max-width: 100%;overflow: auto;}#sk-container-id-4 input.sk-toggleable__control:checked~label.sk-toggleable__label-arrow:before {content: \"▾\";}#sk-container-id-4 div.sk-estimator input.sk-toggleable__control:checked~label.sk-toggleable__label {background-color: #d4ebff;}#sk-container-id-4 div.sk-label input.sk-toggleable__control:checked~label.sk-toggleable__label {background-color: #d4ebff;}#sk-container-id-4 input.sk-hidden--visually {border: 0;clip: rect(1px 1px 1px 1px);clip: rect(1px, 1px, 1px, 1px);height: 1px;margin: -1px;overflow: hidden;padding: 0;position: absolute;width: 1px;}#sk-container-id-4 div.sk-estimator {font-family: monospace;background-color: #f0f8ff;border: 1px dotted black;border-radius: 0.25em;box-sizing: border-box;margin-bottom: 0.5em;}#sk-container-id-4 div.sk-estimator:hover {background-color: #d4ebff;}#sk-container-id-4 div.sk-parallel-item::after {content: \"\";width: 100%;border-bottom: 1px solid gray;flex-grow: 1;}#sk-container-id-4 div.sk-label:hover label.sk-toggleable__label {background-color: #d4ebff;}#sk-container-id-4 div.sk-serial::before {content: \"\";position: absolute;border-left: 1px solid gray;box-sizing: border-box;top: 0;bottom: 0;left: 50%;z-index: 0;}#sk-container-id-4 div.sk-serial {display: flex;flex-direction: column;align-items: center;background-color: white;padding-right: 0.2em;padding-left: 0.2em;position: relative;}#sk-container-id-4 div.sk-item {position: relative;z-index: 1;}#sk-container-id-4 div.sk-parallel {display: flex;align-items: stretch;justify-content: center;background-color: white;position: relative;}#sk-container-id-4 div.sk-item::before, #sk-container-id-4 div.sk-parallel-item::before {content: \"\";position: absolute;border-left: 1px solid gray;box-sizing: border-box;top: 0;bottom: 0;left: 50%;z-index: -1;}#sk-container-id-4 div.sk-parallel-item {display: flex;flex-direction: column;z-index: 1;position: relative;background-color: white;}#sk-container-id-4 div.sk-parallel-item:first-child::after {align-self: flex-end;width: 50%;}#sk-container-id-4 div.sk-parallel-item:last-child::after {align-self: flex-start;width: 50%;}#sk-container-id-4 div.sk-parallel-item:only-child::after {width: 0;}#sk-container-id-4 div.sk-dashed-wrapped {border: 1px dashed gray;margin: 0 0.4em 0.5em 0.4em;box-sizing: border-box;padding-bottom: 0.4em;background-color: white;}#sk-container-id-4 div.sk-label label {font-family: monospace;font-weight: bold;display: inline-block;line-height: 1.2em;}#sk-container-id-4 div.sk-label-container {text-align: center;}#sk-container-id-4 div.sk-container {/* jupyter's `normalize.less` sets `[hidden] { display: none; }` but bootstrap.min.css set `[hidden] { display: none !important; }` so we also need the `!important` here to be able to override the default hidden behavior on the sphinx rendered scikit-learn.org. See: https://github.com/scikit-learn/scikit-learn/issues/21755 */display: inline-block !important;position: relative;}#sk-container-id-4 div.sk-text-repr-fallback {display: none;}</style><div id=\"sk-container-id-4\" class=\"sk-top-container\"><div class=\"sk-text-repr-fallback\"><pre>RandomForestRegressor(random_state=42)</pre><b>In a Jupyter environment, please rerun this cell to show the HTML representation or trust the notebook. <br />On GitHub, the HTML representation is unable to render, please try loading this page with nbviewer.org.</b></div><div class=\"sk-container\" hidden><div class=\"sk-item\"><div class=\"sk-estimator sk-toggleable\"><input class=\"sk-toggleable__control sk-hidden--visually\" id=\"sk-estimator-id-4\" type=\"checkbox\" checked><label for=\"sk-estimator-id-4\" class=\"sk-toggleable__label sk-toggleable__label-arrow\">RandomForestRegressor</label><div class=\"sk-toggleable__content\"><pre>RandomForestRegressor(random_state=42)</pre></div></div></div></div></div>"
      ],
      "text/plain": [
       "RandomForestRegressor(random_state=42)"
      ]
     },
     "execution_count": 31,
     "metadata": {},
     "output_type": "execute_result"
    }
   ],
   "source": [
    "regressor = RandomForestRegressor(random_state=42)\n",
    "regressor.fit(X_train_gold, y_train_gold)"
   ]
  },
  {
   "cell_type": "markdown",
   "metadata": {},
   "source": [
    "### Оценка качества моделей по выбранным метрикам"
   ]
  },
  {
   "cell_type": "markdown",
   "metadata": {},
   "source": [
    "##### Классификация"
   ]
  },
  {
   "cell_type": "code",
   "execution_count": 32,
   "metadata": {
    "execution": {
     "iopub.execute_input": "2025-01-04T06:52:58.410684Z",
     "iopub.status.busy": "2025-01-04T06:52:58.410299Z",
     "iopub.status.idle": "2025-01-04T06:52:58.415824Z",
     "shell.execute_reply": "2025-01-04T06:52:58.414769Z",
     "shell.execute_reply.started": "2025-01-04T06:52:58.410646Z"
    },
    "trusted": true
   },
   "outputs": [],
   "source": [
    "def quality_eval_classification(X_test, y_test, model):\n",
    "    y_pred = model.predict(X_test)\n",
    "    accuracy = accuracy_score(y_test, y_pred)\n",
    "    f1 = f1_score(y_test, y_pred, average='weighted')\n",
    "    print(f\"Accuracy: {accuracy}\")\n",
    "    print(f\"F1 Score: {f1}\")\n",
    "    return accuracy, f1"
   ]
  },
  {
   "cell_type": "code",
   "execution_count": 33,
   "metadata": {
    "execution": {
     "iopub.execute_input": "2025-01-04T06:52:58.417286Z",
     "iopub.status.busy": "2025-01-04T06:52:58.416908Z",
     "iopub.status.idle": "2025-01-04T06:52:58.478941Z",
     "shell.execute_reply": "2025-01-04T06:52:58.477779Z",
     "shell.execute_reply.started": "2025-01-04T06:52:58.417254Z"
    },
    "trusted": true
   },
   "outputs": [
    {
     "name": "stdout",
     "output_type": "stream",
     "text": [
      "Accuracy: 0.9994724810972393\n",
      "F1 Score: 0.9994724826308604\n"
     ]
    }
   ],
   "source": [
    "accuracy_origin, f1_origin = quality_eval_classification(X_test_fraud, y_test_fraud, classifier)"
   ]
  },
  {
   "cell_type": "markdown",
   "metadata": {},
   "source": [
    "##### Регрессия"
   ]
  },
  {
   "cell_type": "code",
   "execution_count": 34,
   "metadata": {
    "execution": {
     "iopub.execute_input": "2025-01-04T06:52:58.480198Z",
     "iopub.status.busy": "2025-01-04T06:52:58.479906Z",
     "iopub.status.idle": "2025-01-04T06:52:58.484918Z",
     "shell.execute_reply": "2025-01-04T06:52:58.483859Z",
     "shell.execute_reply.started": "2025-01-04T06:52:58.480175Z"
    },
    "trusted": true
   },
   "outputs": [],
   "source": [
    "def quality_eval_regression(X_test, y_test, model):\n",
    "    y_pred = model.predict(X_test)\n",
    "    mae = mean_absolute_error(y_test, y_pred)\n",
    "    r2 = r2_score(y_test, y_pred)\n",
    "    print(f\"Mean Absolute Error: {mae}\")\n",
    "    print(f\"R-squared: {r2}\")\n",
    "    return mae, r2"
   ]
  },
  {
   "cell_type": "code",
   "execution_count": 35,
   "metadata": {
    "execution": {
     "iopub.execute_input": "2025-01-04T06:52:58.486197Z",
     "iopub.status.busy": "2025-01-04T06:52:58.485910Z",
     "iopub.status.idle": "2025-01-04T06:52:58.525049Z",
     "shell.execute_reply": "2025-01-04T06:52:58.524084Z",
     "shell.execute_reply.started": "2025-01-04T06:52:58.486172Z"
    },
    "trusted": true
   },
   "outputs": [
    {
     "name": "stdout",
     "output_type": "stream",
     "text": [
      "Mean Absolute Error: 2444766.2500400534\n",
      "R-squared: 0.610479164922296\n"
     ]
    }
   ],
   "source": [
    "mae_origin, r2_origin = quality_eval_regression(X_test_gold, y_test_gold, regressor)"
   ]
  },
  {
   "cell_type": "markdown",
   "metadata": {},
   "source": [
    "## Улучшение бейзлайна"
   ]
  },
  {
   "cell_type": "markdown",
   "metadata": {},
   "source": [
    "### Гипотезы\n",
    "\n",
    "1. Подбор гиперпараметров:\n",
    "   - Использование Grid Search с кросс-валидацией для оптимизации модели."
   ]
  },
  {
   "cell_type": "markdown",
   "metadata": {},
   "source": [
    "### Проверка гипотез"
   ]
  },
  {
   "cell_type": "markdown",
   "metadata": {},
   "source": [
    "#### 1. Подбор гиперпараметров"
   ]
  },
  {
   "cell_type": "markdown",
   "metadata": {},
   "source": [
    "##### Классификация"
   ]
  },
  {
   "cell_type": "markdown",
   "metadata": {},
   "source": [
    "Подготовка данных:"
   ]
  },
  {
   "cell_type": "code",
   "execution_count": 36,
   "metadata": {
    "execution": {
     "iopub.execute_input": "2025-01-04T06:52:58.526337Z",
     "iopub.status.busy": "2025-01-04T06:52:58.526077Z",
     "iopub.status.idle": "2025-01-04T06:52:58.568316Z",
     "shell.execute_reply": "2025-01-04T06:52:58.567283Z",
     "shell.execute_reply.started": "2025-01-04T06:52:58.526317Z"
    },
    "trusted": true
   },
   "outputs": [],
   "source": [
    "X_train_fraud, X_test_fraud, y_train_fraud, y_test_fraud = train_test_split(X_fraud, y_fraud_encoded, test_size=0.2, random_state=42)\n",
    "X_train_fraud, X_test_fraud = simple_imputer_df(X_train_fraud, X_test_fraud)\n",
    "X_train_fraud, X_test_fraud = scaling(X_train_fraud, X_test_fraud)"
   ]
  },
  {
   "cell_type": "markdown",
   "metadata": {},
   "source": [
    "Определение параметров для перебора:"
   ]
  },
  {
   "cell_type": "code",
   "execution_count": 37,
   "metadata": {
    "execution": {
     "iopub.execute_input": "2025-01-04T06:52:58.569583Z",
     "iopub.status.busy": "2025-01-04T06:52:58.569265Z",
     "iopub.status.idle": "2025-01-04T06:52:58.573997Z",
     "shell.execute_reply": "2025-01-04T06:52:58.572740Z",
     "shell.execute_reply.started": "2025-01-04T06:52:58.569556Z"
    },
    "trusted": true
   },
   "outputs": [],
   "source": [
    "param_grid = {\n",
    "    'n_estimators': [50, 100, 150],\n",
    "    'max_depth': [None, 10, 20],\n",
    "    'min_samples_split': [2, 5, 10]\n",
    "}"
   ]
  },
  {
   "cell_type": "markdown",
   "metadata": {},
   "source": [
    "Настройка и обучение GridSearchCV:"
   ]
  },
  {
   "cell_type": "code",
   "execution_count": 38,
   "metadata": {
    "execution": {
     "iopub.execute_input": "2025-01-04T06:52:58.575307Z",
     "iopub.status.busy": "2025-01-04T06:52:58.574976Z",
     "iopub.status.idle": "2025-01-04T06:55:01.641387Z",
     "shell.execute_reply": "2025-01-04T06:55:01.640141Z",
     "shell.execute_reply.started": "2025-01-04T06:52:58.575270Z"
    },
    "trusted": true
   },
   "outputs": [
    {
     "data": {
      "text/html": [
       "<style>#sk-container-id-5 {color: black;background-color: white;}#sk-container-id-5 pre{padding: 0;}#sk-container-id-5 div.sk-toggleable {background-color: white;}#sk-container-id-5 label.sk-toggleable__label {cursor: pointer;display: block;width: 100%;margin-bottom: 0;padding: 0.3em;box-sizing: border-box;text-align: center;}#sk-container-id-5 label.sk-toggleable__label-arrow:before {content: \"▸\";float: left;margin-right: 0.25em;color: #696969;}#sk-container-id-5 label.sk-toggleable__label-arrow:hover:before {color: black;}#sk-container-id-5 div.sk-estimator:hover label.sk-toggleable__label-arrow:before {color: black;}#sk-container-id-5 div.sk-toggleable__content {max-height: 0;max-width: 0;overflow: hidden;text-align: left;background-color: #f0f8ff;}#sk-container-id-5 div.sk-toggleable__content pre {margin: 0.2em;color: black;border-radius: 0.25em;background-color: #f0f8ff;}#sk-container-id-5 input.sk-toggleable__control:checked~div.sk-toggleable__content {max-height: 200px;max-width: 100%;overflow: auto;}#sk-container-id-5 input.sk-toggleable__control:checked~label.sk-toggleable__label-arrow:before {content: \"▾\";}#sk-container-id-5 div.sk-estimator input.sk-toggleable__control:checked~label.sk-toggleable__label {background-color: #d4ebff;}#sk-container-id-5 div.sk-label input.sk-toggleable__control:checked~label.sk-toggleable__label {background-color: #d4ebff;}#sk-container-id-5 input.sk-hidden--visually {border: 0;clip: rect(1px 1px 1px 1px);clip: rect(1px, 1px, 1px, 1px);height: 1px;margin: -1px;overflow: hidden;padding: 0;position: absolute;width: 1px;}#sk-container-id-5 div.sk-estimator {font-family: monospace;background-color: #f0f8ff;border: 1px dotted black;border-radius: 0.25em;box-sizing: border-box;margin-bottom: 0.5em;}#sk-container-id-5 div.sk-estimator:hover {background-color: #d4ebff;}#sk-container-id-5 div.sk-parallel-item::after {content: \"\";width: 100%;border-bottom: 1px solid gray;flex-grow: 1;}#sk-container-id-5 div.sk-label:hover label.sk-toggleable__label {background-color: #d4ebff;}#sk-container-id-5 div.sk-serial::before {content: \"\";position: absolute;border-left: 1px solid gray;box-sizing: border-box;top: 0;bottom: 0;left: 50%;z-index: 0;}#sk-container-id-5 div.sk-serial {display: flex;flex-direction: column;align-items: center;background-color: white;padding-right: 0.2em;padding-left: 0.2em;position: relative;}#sk-container-id-5 div.sk-item {position: relative;z-index: 1;}#sk-container-id-5 div.sk-parallel {display: flex;align-items: stretch;justify-content: center;background-color: white;position: relative;}#sk-container-id-5 div.sk-item::before, #sk-container-id-5 div.sk-parallel-item::before {content: \"\";position: absolute;border-left: 1px solid gray;box-sizing: border-box;top: 0;bottom: 0;left: 50%;z-index: -1;}#sk-container-id-5 div.sk-parallel-item {display: flex;flex-direction: column;z-index: 1;position: relative;background-color: white;}#sk-container-id-5 div.sk-parallel-item:first-child::after {align-self: flex-end;width: 50%;}#sk-container-id-5 div.sk-parallel-item:last-child::after {align-self: flex-start;width: 50%;}#sk-container-id-5 div.sk-parallel-item:only-child::after {width: 0;}#sk-container-id-5 div.sk-dashed-wrapped {border: 1px dashed gray;margin: 0 0.4em 0.5em 0.4em;box-sizing: border-box;padding-bottom: 0.4em;background-color: white;}#sk-container-id-5 div.sk-label label {font-family: monospace;font-weight: bold;display: inline-block;line-height: 1.2em;}#sk-container-id-5 div.sk-label-container {text-align: center;}#sk-container-id-5 div.sk-container {/* jupyter's `normalize.less` sets `[hidden] { display: none; }` but bootstrap.min.css set `[hidden] { display: none !important; }` so we also need the `!important` here to be able to override the default hidden behavior on the sphinx rendered scikit-learn.org. See: https://github.com/scikit-learn/scikit-learn/issues/21755 */display: inline-block !important;position: relative;}#sk-container-id-5 div.sk-text-repr-fallback {display: none;}</style><div id=\"sk-container-id-5\" class=\"sk-top-container\"><div class=\"sk-text-repr-fallback\"><pre>GridSearchCV(cv=3, estimator=RandomForestClassifier(random_state=42), n_jobs=-1,\n",
       "             param_grid={&#x27;max_depth&#x27;: [None, 10, 20],\n",
       "                         &#x27;min_samples_split&#x27;: [2, 5, 10],\n",
       "                         &#x27;n_estimators&#x27;: [50, 100, 150]})</pre><b>In a Jupyter environment, please rerun this cell to show the HTML representation or trust the notebook. <br />On GitHub, the HTML representation is unable to render, please try loading this page with nbviewer.org.</b></div><div class=\"sk-container\" hidden><div class=\"sk-item sk-dashed-wrapped\"><div class=\"sk-label-container\"><div class=\"sk-label sk-toggleable\"><input class=\"sk-toggleable__control sk-hidden--visually\" id=\"sk-estimator-id-5\" type=\"checkbox\" ><label for=\"sk-estimator-id-5\" class=\"sk-toggleable__label sk-toggleable__label-arrow\">GridSearchCV</label><div class=\"sk-toggleable__content\"><pre>GridSearchCV(cv=3, estimator=RandomForestClassifier(random_state=42), n_jobs=-1,\n",
       "             param_grid={&#x27;max_depth&#x27;: [None, 10, 20],\n",
       "                         &#x27;min_samples_split&#x27;: [2, 5, 10],\n",
       "                         &#x27;n_estimators&#x27;: [50, 100, 150]})</pre></div></div></div><div class=\"sk-parallel\"><div class=\"sk-parallel-item\"><div class=\"sk-item\"><div class=\"sk-label-container\"><div class=\"sk-label sk-toggleable\"><input class=\"sk-toggleable__control sk-hidden--visually\" id=\"sk-estimator-id-6\" type=\"checkbox\" ><label for=\"sk-estimator-id-6\" class=\"sk-toggleable__label sk-toggleable__label-arrow\">estimator: RandomForestClassifier</label><div class=\"sk-toggleable__content\"><pre>RandomForestClassifier(random_state=42)</pre></div></div></div><div class=\"sk-serial\"><div class=\"sk-item\"><div class=\"sk-estimator sk-toggleable\"><input class=\"sk-toggleable__control sk-hidden--visually\" id=\"sk-estimator-id-7\" type=\"checkbox\" ><label for=\"sk-estimator-id-7\" class=\"sk-toggleable__label sk-toggleable__label-arrow\">RandomForestClassifier</label><div class=\"sk-toggleable__content\"><pre>RandomForestClassifier(random_state=42)</pre></div></div></div></div></div></div></div></div></div></div>"
      ],
      "text/plain": [
       "GridSearchCV(cv=3, estimator=RandomForestClassifier(random_state=42), n_jobs=-1,\n",
       "             param_grid={'max_depth': [None, 10, 20],\n",
       "                         'min_samples_split': [2, 5, 10],\n",
       "                         'n_estimators': [50, 100, 150]})"
      ]
     },
     "execution_count": 38,
     "metadata": {},
     "output_type": "execute_result"
    }
   ],
   "source": [
    "grid_search = GridSearchCV(RandomForestClassifier(random_state=42), param_grid, cv=3, n_jobs=-1)\n",
    "grid_search.fit(X_train_fraud, y_train_fraud)"
   ]
  },
  {
   "cell_type": "markdown",
   "metadata": {},
   "source": [
    "Вывод лучших параметров и результата:"
   ]
  },
  {
   "cell_type": "code",
   "execution_count": 39,
   "metadata": {
    "execution": {
     "iopub.execute_input": "2025-01-04T06:55:01.642937Z",
     "iopub.status.busy": "2025-01-04T06:55:01.642591Z",
     "iopub.status.idle": "2025-01-04T06:55:01.648761Z",
     "shell.execute_reply": "2025-01-04T06:55:01.647826Z",
     "shell.execute_reply.started": "2025-01-04T06:55:01.642909Z"
    },
    "trusted": true
   },
   "outputs": [
    {
     "name": "stdout",
     "output_type": "stream",
     "text": [
      "Best parameters found:  {'max_depth': None, 'min_samples_split': 2, 'n_estimators': 100}\n",
      "Best cross-validation accuracy:  0.9997361941600774\n"
     ]
    }
   ],
   "source": [
    "print(\"Best parameters found: \", grid_search.best_params_)\n",
    "print(\"Best cross-validation accuracy: \", grid_search.best_score_)"
   ]
  },
  {
   "cell_type": "markdown",
   "metadata": {},
   "source": [
    "Оценка качества модели:"
   ]
  },
  {
   "cell_type": "code",
   "execution_count": 40,
   "metadata": {
    "execution": {
     "iopub.execute_input": "2025-01-04T06:55:01.650242Z",
     "iopub.status.busy": "2025-01-04T06:55:01.649873Z",
     "iopub.status.idle": "2025-01-04T06:55:01.711294Z",
     "shell.execute_reply": "2025-01-04T06:55:01.710385Z",
     "shell.execute_reply.started": "2025-01-04T06:55:01.650198Z"
    },
    "trusted": true
   },
   "outputs": [
    {
     "name": "stdout",
     "output_type": "stream",
     "text": [
      "Accuracy: 0.9994724810972393\n",
      "F1 Score: 0.9994724826308604\n"
     ]
    },
    {
     "data": {
      "text/plain": [
       "(0.9994724810972393, 0.9994724826308604)"
      ]
     },
     "execution_count": 40,
     "metadata": {},
     "output_type": "execute_result"
    }
   ],
   "source": [
    "quality_eval_classification(X_test_fraud, y_test_fraud, grid_search.best_estimator_)"
   ]
  },
  {
   "cell_type": "markdown",
   "metadata": {},
   "source": [
    "##### Регрессия"
   ]
  },
  {
   "cell_type": "markdown",
   "metadata": {},
   "source": [
    "Подготовка данных:"
   ]
  },
  {
   "cell_type": "code",
   "execution_count": 41,
   "metadata": {
    "execution": {
     "iopub.execute_input": "2025-01-04T06:55:01.712678Z",
     "iopub.status.busy": "2025-01-04T06:55:01.712379Z",
     "iopub.status.idle": "2025-01-04T06:55:01.735638Z",
     "shell.execute_reply": "2025-01-04T06:55:01.734763Z",
     "shell.execute_reply.started": "2025-01-04T06:55:01.712652Z"
    },
    "trusted": true
   },
   "outputs": [],
   "source": [
    "X_train_gold, X_test_gold, y_train_gold, y_test_gold = train_test_split(X_gold, y_gold, test_size=0.2, random_state=42)\n",
    "X_train_gold, X_test_gold = simple_imputer(X_train_gold, X_test_gold)\n",
    "X_train_gold, X_test_gold = scaling(X_train_gold, X_test_gold)\n",
    "X_train_gold, y_train_gold, X_test_gold, y_test_gold = delete_none(X_train_gold, y_train_gold, X_test_gold, y_test_gold)"
   ]
  },
  {
   "cell_type": "markdown",
   "metadata": {},
   "source": [
    "Определение параметров для перебора:"
   ]
  },
  {
   "cell_type": "code",
   "execution_count": 42,
   "metadata": {
    "execution": {
     "iopub.execute_input": "2025-01-04T06:55:01.736946Z",
     "iopub.status.busy": "2025-01-04T06:55:01.736663Z",
     "iopub.status.idle": "2025-01-04T06:55:01.741710Z",
     "shell.execute_reply": "2025-01-04T06:55:01.740619Z",
     "shell.execute_reply.started": "2025-01-04T06:55:01.736924Z"
    },
    "trusted": true
   },
   "outputs": [],
   "source": [
    "param_grid = {\n",
    "    'n_estimators': [50, 100, 150],\n",
    "    'max_depth': [None, 10, 20],\n",
    "    'min_samples_split': [2, 5, 10],\n",
    "    'min_samples_leaf': [1, 2, 4],\n",
    "    'max_features': ['auto', 'sqrt', 'log2']\n",
    "}"
   ]
  },
  {
   "cell_type": "markdown",
   "metadata": {},
   "source": [
    "Настройка и обучение GridSearchCV:"
   ]
  },
  {
   "cell_type": "code",
   "execution_count": 43,
   "metadata": {
    "execution": {
     "iopub.execute_input": "2025-01-04T06:55:01.747810Z",
     "iopub.status.busy": "2025-01-04T06:55:01.747363Z",
     "iopub.status.idle": "2025-01-04T07:05:13.802017Z",
     "shell.execute_reply": "2025-01-04T07:05:13.800526Z",
     "shell.execute_reply.started": "2025-01-04T06:55:01.747777Z"
    },
    "trusted": true
   },
   "outputs": [
    {
     "data": {
      "text/html": [
       "<style>#sk-container-id-6 {color: black;background-color: white;}#sk-container-id-6 pre{padding: 0;}#sk-container-id-6 div.sk-toggleable {background-color: white;}#sk-container-id-6 label.sk-toggleable__label {cursor: pointer;display: block;width: 100%;margin-bottom: 0;padding: 0.3em;box-sizing: border-box;text-align: center;}#sk-container-id-6 label.sk-toggleable__label-arrow:before {content: \"▸\";float: left;margin-right: 0.25em;color: #696969;}#sk-container-id-6 label.sk-toggleable__label-arrow:hover:before {color: black;}#sk-container-id-6 div.sk-estimator:hover label.sk-toggleable__label-arrow:before {color: black;}#sk-container-id-6 div.sk-toggleable__content {max-height: 0;max-width: 0;overflow: hidden;text-align: left;background-color: #f0f8ff;}#sk-container-id-6 div.sk-toggleable__content pre {margin: 0.2em;color: black;border-radius: 0.25em;background-color: #f0f8ff;}#sk-container-id-6 input.sk-toggleable__control:checked~div.sk-toggleable__content {max-height: 200px;max-width: 100%;overflow: auto;}#sk-container-id-6 input.sk-toggleable__control:checked~label.sk-toggleable__label-arrow:before {content: \"▾\";}#sk-container-id-6 div.sk-estimator input.sk-toggleable__control:checked~label.sk-toggleable__label {background-color: #d4ebff;}#sk-container-id-6 div.sk-label input.sk-toggleable__control:checked~label.sk-toggleable__label {background-color: #d4ebff;}#sk-container-id-6 input.sk-hidden--visually {border: 0;clip: rect(1px 1px 1px 1px);clip: rect(1px, 1px, 1px, 1px);height: 1px;margin: -1px;overflow: hidden;padding: 0;position: absolute;width: 1px;}#sk-container-id-6 div.sk-estimator {font-family: monospace;background-color: #f0f8ff;border: 1px dotted black;border-radius: 0.25em;box-sizing: border-box;margin-bottom: 0.5em;}#sk-container-id-6 div.sk-estimator:hover {background-color: #d4ebff;}#sk-container-id-6 div.sk-parallel-item::after {content: \"\";width: 100%;border-bottom: 1px solid gray;flex-grow: 1;}#sk-container-id-6 div.sk-label:hover label.sk-toggleable__label {background-color: #d4ebff;}#sk-container-id-6 div.sk-serial::before {content: \"\";position: absolute;border-left: 1px solid gray;box-sizing: border-box;top: 0;bottom: 0;left: 50%;z-index: 0;}#sk-container-id-6 div.sk-serial {display: flex;flex-direction: column;align-items: center;background-color: white;padding-right: 0.2em;padding-left: 0.2em;position: relative;}#sk-container-id-6 div.sk-item {position: relative;z-index: 1;}#sk-container-id-6 div.sk-parallel {display: flex;align-items: stretch;justify-content: center;background-color: white;position: relative;}#sk-container-id-6 div.sk-item::before, #sk-container-id-6 div.sk-parallel-item::before {content: \"\";position: absolute;border-left: 1px solid gray;box-sizing: border-box;top: 0;bottom: 0;left: 50%;z-index: -1;}#sk-container-id-6 div.sk-parallel-item {display: flex;flex-direction: column;z-index: 1;position: relative;background-color: white;}#sk-container-id-6 div.sk-parallel-item:first-child::after {align-self: flex-end;width: 50%;}#sk-container-id-6 div.sk-parallel-item:last-child::after {align-self: flex-start;width: 50%;}#sk-container-id-6 div.sk-parallel-item:only-child::after {width: 0;}#sk-container-id-6 div.sk-dashed-wrapped {border: 1px dashed gray;margin: 0 0.4em 0.5em 0.4em;box-sizing: border-box;padding-bottom: 0.4em;background-color: white;}#sk-container-id-6 div.sk-label label {font-family: monospace;font-weight: bold;display: inline-block;line-height: 1.2em;}#sk-container-id-6 div.sk-label-container {text-align: center;}#sk-container-id-6 div.sk-container {/* jupyter's `normalize.less` sets `[hidden] { display: none; }` but bootstrap.min.css set `[hidden] { display: none !important; }` so we also need the `!important` here to be able to override the default hidden behavior on the sphinx rendered scikit-learn.org. See: https://github.com/scikit-learn/scikit-learn/issues/21755 */display: inline-block !important;position: relative;}#sk-container-id-6 div.sk-text-repr-fallback {display: none;}</style><div id=\"sk-container-id-6\" class=\"sk-top-container\"><div class=\"sk-text-repr-fallback\"><pre>GridSearchCV(cv=3, estimator=RandomForestRegressor(random_state=42), n_jobs=-1,\n",
       "             param_grid={&#x27;max_depth&#x27;: [None, 10, 20],\n",
       "                         &#x27;max_features&#x27;: [&#x27;auto&#x27;, &#x27;sqrt&#x27;, &#x27;log2&#x27;],\n",
       "                         &#x27;min_samples_leaf&#x27;: [1, 2, 4],\n",
       "                         &#x27;min_samples_split&#x27;: [2, 5, 10],\n",
       "                         &#x27;n_estimators&#x27;: [50, 100, 150]})</pre><b>In a Jupyter environment, please rerun this cell to show the HTML representation or trust the notebook. <br />On GitHub, the HTML representation is unable to render, please try loading this page with nbviewer.org.</b></div><div class=\"sk-container\" hidden><div class=\"sk-item sk-dashed-wrapped\"><div class=\"sk-label-container\"><div class=\"sk-label sk-toggleable\"><input class=\"sk-toggleable__control sk-hidden--visually\" id=\"sk-estimator-id-8\" type=\"checkbox\" ><label for=\"sk-estimator-id-8\" class=\"sk-toggleable__label sk-toggleable__label-arrow\">GridSearchCV</label><div class=\"sk-toggleable__content\"><pre>GridSearchCV(cv=3, estimator=RandomForestRegressor(random_state=42), n_jobs=-1,\n",
       "             param_grid={&#x27;max_depth&#x27;: [None, 10, 20],\n",
       "                         &#x27;max_features&#x27;: [&#x27;auto&#x27;, &#x27;sqrt&#x27;, &#x27;log2&#x27;],\n",
       "                         &#x27;min_samples_leaf&#x27;: [1, 2, 4],\n",
       "                         &#x27;min_samples_split&#x27;: [2, 5, 10],\n",
       "                         &#x27;n_estimators&#x27;: [50, 100, 150]})</pre></div></div></div><div class=\"sk-parallel\"><div class=\"sk-parallel-item\"><div class=\"sk-item\"><div class=\"sk-label-container\"><div class=\"sk-label sk-toggleable\"><input class=\"sk-toggleable__control sk-hidden--visually\" id=\"sk-estimator-id-9\" type=\"checkbox\" ><label for=\"sk-estimator-id-9\" class=\"sk-toggleable__label sk-toggleable__label-arrow\">estimator: RandomForestRegressor</label><div class=\"sk-toggleable__content\"><pre>RandomForestRegressor(random_state=42)</pre></div></div></div><div class=\"sk-serial\"><div class=\"sk-item\"><div class=\"sk-estimator sk-toggleable\"><input class=\"sk-toggleable__control sk-hidden--visually\" id=\"sk-estimator-id-10\" type=\"checkbox\" ><label for=\"sk-estimator-id-10\" class=\"sk-toggleable__label sk-toggleable__label-arrow\">RandomForestRegressor</label><div class=\"sk-toggleable__content\"><pre>RandomForestRegressor(random_state=42)</pre></div></div></div></div></div></div></div></div></div></div>"
      ],
      "text/plain": [
       "GridSearchCV(cv=3, estimator=RandomForestRegressor(random_state=42), n_jobs=-1,\n",
       "             param_grid={'max_depth': [None, 10, 20],\n",
       "                         'max_features': ['auto', 'sqrt', 'log2'],\n",
       "                         'min_samples_leaf': [1, 2, 4],\n",
       "                         'min_samples_split': [2, 5, 10],\n",
       "                         'n_estimators': [50, 100, 150]})"
      ]
     },
     "execution_count": 43,
     "metadata": {},
     "output_type": "execute_result"
    }
   ],
   "source": [
    "grid_search = GridSearchCV(RandomForestRegressor(random_state=42), param_grid, cv=3, n_jobs=-1)\n",
    "grid_search.fit(X_train_gold, y_train_gold)"
   ]
  },
  {
   "cell_type": "markdown",
   "metadata": {},
   "source": [
    "Вывод лучших параметров и результата:"
   ]
  },
  {
   "cell_type": "code",
   "execution_count": 44,
   "metadata": {
    "execution": {
     "iopub.execute_input": "2025-01-04T07:05:13.804969Z",
     "iopub.status.busy": "2025-01-04T07:05:13.804613Z",
     "iopub.status.idle": "2025-01-04T07:05:13.812105Z",
     "shell.execute_reply": "2025-01-04T07:05:13.811096Z",
     "shell.execute_reply.started": "2025-01-04T07:05:13.804933Z"
    },
    "trusted": true
   },
   "outputs": [
    {
     "name": "stdout",
     "output_type": "stream",
     "text": [
      "Best parameters found:  {'max_depth': 20, 'max_features': 'sqrt', 'min_samples_leaf': 1, 'min_samples_split': 2, 'n_estimators': 150}\n",
      "Best cross-validation accuracy:  0.6640723937986626\n"
     ]
    }
   ],
   "source": [
    "print(\"Best parameters found: \", grid_search.best_params_)\n",
    "print(\"Best cross-validation accuracy: \", grid_search.best_score_)"
   ]
  },
  {
   "cell_type": "markdown",
   "metadata": {},
   "source": [
    "Оценка модели с лучшими параметрами на тестовом наборе:"
   ]
  },
  {
   "cell_type": "code",
   "execution_count": 45,
   "metadata": {
    "execution": {
     "iopub.execute_input": "2025-01-04T07:05:13.813448Z",
     "iopub.status.busy": "2025-01-04T07:05:13.813128Z",
     "iopub.status.idle": "2025-01-04T07:05:13.863727Z",
     "shell.execute_reply": "2025-01-04T07:05:13.862645Z",
     "shell.execute_reply.started": "2025-01-04T07:05:13.813420Z"
    },
    "trusted": true
   },
   "outputs": [
    {
     "name": "stdout",
     "output_type": "stream",
     "text": [
      "Mean Absolute Error: 2392735.5308633246\n",
      "R-squared: 0.6161405634184933\n"
     ]
    },
    {
     "data": {
      "text/plain": [
       "(2392735.5308633246, 0.6161405634184933)"
      ]
     },
     "execution_count": 45,
     "metadata": {},
     "output_type": "execute_result"
    }
   ],
   "source": [
    "quality_eval_regression(X_test_gold, y_test_gold, grid_search.best_estimator_)"
   ]
  },
  {
   "cell_type": "markdown",
   "metadata": {},
   "source": [
    "### Формирование улучшенного бейзлайна"
   ]
  },
  {
   "cell_type": "markdown",
   "metadata": {},
   "source": [
    "##### Классификация"
   ]
  },
  {
   "cell_type": "markdown",
   "metadata": {},
   "source": [
    "Формирование улучшенного бейзлайна:"
   ]
  },
  {
   "cell_type": "code",
   "execution_count": 46,
   "metadata": {
    "execution": {
     "iopub.execute_input": "2025-01-04T07:05:13.865175Z",
     "iopub.status.busy": "2025-01-04T07:05:13.864817Z",
     "iopub.status.idle": "2025-01-04T07:05:13.924163Z",
     "shell.execute_reply": "2025-01-04T07:05:13.923253Z",
     "shell.execute_reply.started": "2025-01-04T07:05:13.865141Z"
    },
    "trusted": true
   },
   "outputs": [],
   "source": [
    "X_train_fraud, X_test_fraud, y_train_fraud, y_test_fraud = train_test_split(X_fraud, y_fraud_encoded, test_size=0.2, random_state=42)\n",
    "X_train_fraud, X_test_fraud = simple_imputer_df(X_train_fraud, X_test_fraud)\n",
    "X_train_fraud, X_test_fraud = scaling(X_train_fraud, X_test_fraud)\n",
    "                                   \n",
    "classifier = RandomForestClassifier(random_state=42, max_depth=None, min_samples_split=2, n_estimators=150)"
   ]
  },
  {
   "cell_type": "markdown",
   "metadata": {},
   "source": [
    "##### Регрессия"
   ]
  },
  {
   "cell_type": "code",
   "execution_count": 47,
   "metadata": {
    "execution": {
     "iopub.execute_input": "2025-01-04T07:05:13.925312Z",
     "iopub.status.busy": "2025-01-04T07:05:13.925054Z",
     "iopub.status.idle": "2025-01-04T07:05:13.948764Z",
     "shell.execute_reply": "2025-01-04T07:05:13.947733Z",
     "shell.execute_reply.started": "2025-01-04T07:05:13.925291Z"
    },
    "trusted": true
   },
   "outputs": [],
   "source": [
    "X_train_gold, X_test_gold, y_train_gold, y_test_gold = train_test_split(X_gold, y_gold, test_size=0.2, random_state=42)\n",
    "X_train_gold, X_test_gold = simple_imputer(X_train_gold, X_test_gold)\n",
    "X_train_gold, X_test_gold = scaling(X_train_gold, X_test_gold)\n",
    "X_train_gold, y_train_gold, X_test_gold, y_test_gold = delete_none(X_train_gold, y_train_gold, X_test_gold, y_test_gold)\n",
    "\n",
    "regressor = RandomForestRegressor(random_state=42, max_depth=20, max_features=\"sqrt\", min_samples_leaf=1, min_samples_split=2, n_estimators=150)"
   ]
  },
  {
   "cell_type": "markdown",
   "metadata": {},
   "source": [
    "### Обучение модели с улучшенным бейзлайном"
   ]
  },
  {
   "cell_type": "markdown",
   "metadata": {},
   "source": [
    "##### Классификация"
   ]
  },
  {
   "cell_type": "markdown",
   "metadata": {},
   "source": [
    "Обучение модели:"
   ]
  },
  {
   "cell_type": "code",
   "execution_count": 48,
   "metadata": {
    "execution": {
     "iopub.execute_input": "2025-01-04T07:05:13.950060Z",
     "iopub.status.busy": "2025-01-04T07:05:13.949714Z",
     "iopub.status.idle": "2025-01-04T07:05:22.991572Z",
     "shell.execute_reply": "2025-01-04T07:05:22.990663Z",
     "shell.execute_reply.started": "2025-01-04T07:05:13.950026Z"
    },
    "trusted": true
   },
   "outputs": [
    {
     "data": {
      "text/html": [
       "<style>#sk-container-id-7 {color: black;background-color: white;}#sk-container-id-7 pre{padding: 0;}#sk-container-id-7 div.sk-toggleable {background-color: white;}#sk-container-id-7 label.sk-toggleable__label {cursor: pointer;display: block;width: 100%;margin-bottom: 0;padding: 0.3em;box-sizing: border-box;text-align: center;}#sk-container-id-7 label.sk-toggleable__label-arrow:before {content: \"▸\";float: left;margin-right: 0.25em;color: #696969;}#sk-container-id-7 label.sk-toggleable__label-arrow:hover:before {color: black;}#sk-container-id-7 div.sk-estimator:hover label.sk-toggleable__label-arrow:before {color: black;}#sk-container-id-7 div.sk-toggleable__content {max-height: 0;max-width: 0;overflow: hidden;text-align: left;background-color: #f0f8ff;}#sk-container-id-7 div.sk-toggleable__content pre {margin: 0.2em;color: black;border-radius: 0.25em;background-color: #f0f8ff;}#sk-container-id-7 input.sk-toggleable__control:checked~div.sk-toggleable__content {max-height: 200px;max-width: 100%;overflow: auto;}#sk-container-id-7 input.sk-toggleable__control:checked~label.sk-toggleable__label-arrow:before {content: \"▾\";}#sk-container-id-7 div.sk-estimator input.sk-toggleable__control:checked~label.sk-toggleable__label {background-color: #d4ebff;}#sk-container-id-7 div.sk-label input.sk-toggleable__control:checked~label.sk-toggleable__label {background-color: #d4ebff;}#sk-container-id-7 input.sk-hidden--visually {border: 0;clip: rect(1px 1px 1px 1px);clip: rect(1px, 1px, 1px, 1px);height: 1px;margin: -1px;overflow: hidden;padding: 0;position: absolute;width: 1px;}#sk-container-id-7 div.sk-estimator {font-family: monospace;background-color: #f0f8ff;border: 1px dotted black;border-radius: 0.25em;box-sizing: border-box;margin-bottom: 0.5em;}#sk-container-id-7 div.sk-estimator:hover {background-color: #d4ebff;}#sk-container-id-7 div.sk-parallel-item::after {content: \"\";width: 100%;border-bottom: 1px solid gray;flex-grow: 1;}#sk-container-id-7 div.sk-label:hover label.sk-toggleable__label {background-color: #d4ebff;}#sk-container-id-7 div.sk-serial::before {content: \"\";position: absolute;border-left: 1px solid gray;box-sizing: border-box;top: 0;bottom: 0;left: 50%;z-index: 0;}#sk-container-id-7 div.sk-serial {display: flex;flex-direction: column;align-items: center;background-color: white;padding-right: 0.2em;padding-left: 0.2em;position: relative;}#sk-container-id-7 div.sk-item {position: relative;z-index: 1;}#sk-container-id-7 div.sk-parallel {display: flex;align-items: stretch;justify-content: center;background-color: white;position: relative;}#sk-container-id-7 div.sk-item::before, #sk-container-id-7 div.sk-parallel-item::before {content: \"\";position: absolute;border-left: 1px solid gray;box-sizing: border-box;top: 0;bottom: 0;left: 50%;z-index: -1;}#sk-container-id-7 div.sk-parallel-item {display: flex;flex-direction: column;z-index: 1;position: relative;background-color: white;}#sk-container-id-7 div.sk-parallel-item:first-child::after {align-self: flex-end;width: 50%;}#sk-container-id-7 div.sk-parallel-item:last-child::after {align-self: flex-start;width: 50%;}#sk-container-id-7 div.sk-parallel-item:only-child::after {width: 0;}#sk-container-id-7 div.sk-dashed-wrapped {border: 1px dashed gray;margin: 0 0.4em 0.5em 0.4em;box-sizing: border-box;padding-bottom: 0.4em;background-color: white;}#sk-container-id-7 div.sk-label label {font-family: monospace;font-weight: bold;display: inline-block;line-height: 1.2em;}#sk-container-id-7 div.sk-label-container {text-align: center;}#sk-container-id-7 div.sk-container {/* jupyter's `normalize.less` sets `[hidden] { display: none; }` but bootstrap.min.css set `[hidden] { display: none !important; }` so we also need the `!important` here to be able to override the default hidden behavior on the sphinx rendered scikit-learn.org. See: https://github.com/scikit-learn/scikit-learn/issues/21755 */display: inline-block !important;position: relative;}#sk-container-id-7 div.sk-text-repr-fallback {display: none;}</style><div id=\"sk-container-id-7\" class=\"sk-top-container\"><div class=\"sk-text-repr-fallback\"><pre>RandomForestClassifier(n_estimators=150, random_state=42)</pre><b>In a Jupyter environment, please rerun this cell to show the HTML representation or trust the notebook. <br />On GitHub, the HTML representation is unable to render, please try loading this page with nbviewer.org.</b></div><div class=\"sk-container\" hidden><div class=\"sk-item\"><div class=\"sk-estimator sk-toggleable\"><input class=\"sk-toggleable__control sk-hidden--visually\" id=\"sk-estimator-id-11\" type=\"checkbox\" checked><label for=\"sk-estimator-id-11\" class=\"sk-toggleable__label sk-toggleable__label-arrow\">RandomForestClassifier</label><div class=\"sk-toggleable__content\"><pre>RandomForestClassifier(n_estimators=150, random_state=42)</pre></div></div></div></div></div>"
      ],
      "text/plain": [
       "RandomForestClassifier(n_estimators=150, random_state=42)"
      ]
     },
     "execution_count": 48,
     "metadata": {},
     "output_type": "execute_result"
    }
   ],
   "source": [
    "classifier.fit(X_train_fraud, y_train_fraud)"
   ]
  },
  {
   "cell_type": "markdown",
   "metadata": {},
   "source": [
    "##### Регрессия"
   ]
  },
  {
   "cell_type": "markdown",
   "metadata": {},
   "source": [
    "Обучение модели:"
   ]
  },
  {
   "cell_type": "code",
   "execution_count": 49,
   "metadata": {
    "execution": {
     "iopub.execute_input": "2025-01-04T07:05:22.992836Z",
     "iopub.status.busy": "2025-01-04T07:05:22.992558Z",
     "iopub.status.idle": "2025-01-04T07:05:25.396121Z",
     "shell.execute_reply": "2025-01-04T07:05:25.395244Z",
     "shell.execute_reply.started": "2025-01-04T07:05:22.992813Z"
    },
    "trusted": true
   },
   "outputs": [
    {
     "data": {
      "text/html": [
       "<style>#sk-container-id-8 {color: black;background-color: white;}#sk-container-id-8 pre{padding: 0;}#sk-container-id-8 div.sk-toggleable {background-color: white;}#sk-container-id-8 label.sk-toggleable__label {cursor: pointer;display: block;width: 100%;margin-bottom: 0;padding: 0.3em;box-sizing: border-box;text-align: center;}#sk-container-id-8 label.sk-toggleable__label-arrow:before {content: \"▸\";float: left;margin-right: 0.25em;color: #696969;}#sk-container-id-8 label.sk-toggleable__label-arrow:hover:before {color: black;}#sk-container-id-8 div.sk-estimator:hover label.sk-toggleable__label-arrow:before {color: black;}#sk-container-id-8 div.sk-toggleable__content {max-height: 0;max-width: 0;overflow: hidden;text-align: left;background-color: #f0f8ff;}#sk-container-id-8 div.sk-toggleable__content pre {margin: 0.2em;color: black;border-radius: 0.25em;background-color: #f0f8ff;}#sk-container-id-8 input.sk-toggleable__control:checked~div.sk-toggleable__content {max-height: 200px;max-width: 100%;overflow: auto;}#sk-container-id-8 input.sk-toggleable__control:checked~label.sk-toggleable__label-arrow:before {content: \"▾\";}#sk-container-id-8 div.sk-estimator input.sk-toggleable__control:checked~label.sk-toggleable__label {background-color: #d4ebff;}#sk-container-id-8 div.sk-label input.sk-toggleable__control:checked~label.sk-toggleable__label {background-color: #d4ebff;}#sk-container-id-8 input.sk-hidden--visually {border: 0;clip: rect(1px 1px 1px 1px);clip: rect(1px, 1px, 1px, 1px);height: 1px;margin: -1px;overflow: hidden;padding: 0;position: absolute;width: 1px;}#sk-container-id-8 div.sk-estimator {font-family: monospace;background-color: #f0f8ff;border: 1px dotted black;border-radius: 0.25em;box-sizing: border-box;margin-bottom: 0.5em;}#sk-container-id-8 div.sk-estimator:hover {background-color: #d4ebff;}#sk-container-id-8 div.sk-parallel-item::after {content: \"\";width: 100%;border-bottom: 1px solid gray;flex-grow: 1;}#sk-container-id-8 div.sk-label:hover label.sk-toggleable__label {background-color: #d4ebff;}#sk-container-id-8 div.sk-serial::before {content: \"\";position: absolute;border-left: 1px solid gray;box-sizing: border-box;top: 0;bottom: 0;left: 50%;z-index: 0;}#sk-container-id-8 div.sk-serial {display: flex;flex-direction: column;align-items: center;background-color: white;padding-right: 0.2em;padding-left: 0.2em;position: relative;}#sk-container-id-8 div.sk-item {position: relative;z-index: 1;}#sk-container-id-8 div.sk-parallel {display: flex;align-items: stretch;justify-content: center;background-color: white;position: relative;}#sk-container-id-8 div.sk-item::before, #sk-container-id-8 div.sk-parallel-item::before {content: \"\";position: absolute;border-left: 1px solid gray;box-sizing: border-box;top: 0;bottom: 0;left: 50%;z-index: -1;}#sk-container-id-8 div.sk-parallel-item {display: flex;flex-direction: column;z-index: 1;position: relative;background-color: white;}#sk-container-id-8 div.sk-parallel-item:first-child::after {align-self: flex-end;width: 50%;}#sk-container-id-8 div.sk-parallel-item:last-child::after {align-self: flex-start;width: 50%;}#sk-container-id-8 div.sk-parallel-item:only-child::after {width: 0;}#sk-container-id-8 div.sk-dashed-wrapped {border: 1px dashed gray;margin: 0 0.4em 0.5em 0.4em;box-sizing: border-box;padding-bottom: 0.4em;background-color: white;}#sk-container-id-8 div.sk-label label {font-family: monospace;font-weight: bold;display: inline-block;line-height: 1.2em;}#sk-container-id-8 div.sk-label-container {text-align: center;}#sk-container-id-8 div.sk-container {/* jupyter's `normalize.less` sets `[hidden] { display: none; }` but bootstrap.min.css set `[hidden] { display: none !important; }` so we also need the `!important` here to be able to override the default hidden behavior on the sphinx rendered scikit-learn.org. See: https://github.com/scikit-learn/scikit-learn/issues/21755 */display: inline-block !important;position: relative;}#sk-container-id-8 div.sk-text-repr-fallback {display: none;}</style><div id=\"sk-container-id-8\" class=\"sk-top-container\"><div class=\"sk-text-repr-fallback\"><pre>RandomForestRegressor(max_depth=20, max_features=&#x27;sqrt&#x27;, n_estimators=150,\n",
       "                      random_state=42)</pre><b>In a Jupyter environment, please rerun this cell to show the HTML representation or trust the notebook. <br />On GitHub, the HTML representation is unable to render, please try loading this page with nbviewer.org.</b></div><div class=\"sk-container\" hidden><div class=\"sk-item\"><div class=\"sk-estimator sk-toggleable\"><input class=\"sk-toggleable__control sk-hidden--visually\" id=\"sk-estimator-id-12\" type=\"checkbox\" checked><label for=\"sk-estimator-id-12\" class=\"sk-toggleable__label sk-toggleable__label-arrow\">RandomForestRegressor</label><div class=\"sk-toggleable__content\"><pre>RandomForestRegressor(max_depth=20, max_features=&#x27;sqrt&#x27;, n_estimators=150,\n",
       "                      random_state=42)</pre></div></div></div></div></div>"
      ],
      "text/plain": [
       "RandomForestRegressor(max_depth=20, max_features='sqrt', n_estimators=150,\n",
       "                      random_state=42)"
      ]
     },
     "execution_count": 49,
     "metadata": {},
     "output_type": "execute_result"
    }
   ],
   "source": [
    "regressor.fit(X_train_gold, y_train_gold)"
   ]
  },
  {
   "cell_type": "markdown",
   "metadata": {},
   "source": [
    "### Оценка качества модели с улучшенным бейзлайном"
   ]
  },
  {
   "cell_type": "markdown",
   "metadata": {},
   "source": [
    "##### Классификация"
   ]
  },
  {
   "cell_type": "markdown",
   "metadata": {},
   "source": [
    "Оценка качества модели:"
   ]
  },
  {
   "cell_type": "code",
   "execution_count": 50,
   "metadata": {
    "execution": {
     "iopub.execute_input": "2025-01-04T07:05:25.397239Z",
     "iopub.status.busy": "2025-01-04T07:05:25.396992Z",
     "iopub.status.idle": "2025-01-04T07:05:25.468217Z",
     "shell.execute_reply": "2025-01-04T07:05:25.467219Z",
     "shell.execute_reply.started": "2025-01-04T07:05:25.397218Z"
    },
    "trusted": true
   },
   "outputs": [
    {
     "name": "stdout",
     "output_type": "stream",
     "text": [
      "Accuracy: 0.9994724810972393\n",
      "F1 Score: 0.9994724826308604\n"
     ]
    }
   ],
   "source": [
    "accuracy_improved, f1_improved = quality_eval_classification(X_test_fraud, y_test_fraud, classifier)"
   ]
  },
  {
   "cell_type": "markdown",
   "metadata": {},
   "source": [
    "##### Регрессия"
   ]
  },
  {
   "cell_type": "markdown",
   "metadata": {},
   "source": [
    "Оценка качества модели:"
   ]
  },
  {
   "cell_type": "code",
   "execution_count": 51,
   "metadata": {
    "execution": {
     "iopub.execute_input": "2025-01-04T07:05:25.469438Z",
     "iopub.status.busy": "2025-01-04T07:05:25.469181Z",
     "iopub.status.idle": "2025-01-04T07:05:25.505891Z",
     "shell.execute_reply": "2025-01-04T07:05:25.504944Z",
     "shell.execute_reply.started": "2025-01-04T07:05:25.469416Z"
    },
    "trusted": true
   },
   "outputs": [
    {
     "name": "stdout",
     "output_type": "stream",
     "text": [
      "Mean Absolute Error: 2392735.5308633246\n",
      "R-squared: 0.6161405634184933\n"
     ]
    }
   ],
   "source": [
    "mae_improved, r2_improved = quality_eval_regression(X_test_gold, y_test_gold, regressor)"
   ]
  },
  {
   "cell_type": "markdown",
   "metadata": {},
   "source": [
    "### Сравнение результатов первоначального бейзлайна с улучшенным бейзлайном"
   ]
  },
  {
   "cell_type": "markdown",
   "metadata": {},
   "source": [
    "##### Классификация"
   ]
  },
  {
   "cell_type": "markdown",
   "metadata": {},
   "source": [
    "Видим, что результаты почти идентичны:"
   ]
  },
  {
   "cell_type": "code",
   "execution_count": 52,
   "metadata": {
    "execution": {
     "iopub.execute_input": "2025-01-04T07:05:25.507158Z",
     "iopub.status.busy": "2025-01-04T07:05:25.506900Z",
     "iopub.status.idle": "2025-01-04T07:05:25.512479Z",
     "shell.execute_reply": "2025-01-04T07:05:25.511375Z",
     "shell.execute_reply.started": "2025-01-04T07:05:25.507136Z"
    },
    "trusted": true
   },
   "outputs": [
    {
     "name": "stdout",
     "output_type": "stream",
     "text": [
      "Accuracy difference: 0.0\n",
      "F1 Score difference: 0.0\n"
     ]
    }
   ],
   "source": [
    "print(f\"Accuracy difference: {accuracy_improved-accuracy_origin}\")\n",
    "print(f\"F1 Score difference: {f1_improved-f1_origin}\")"
   ]
  },
  {
   "cell_type": "markdown",
   "metadata": {},
   "source": [
    "##### Регрессия"
   ]
  },
  {
   "cell_type": "markdown",
   "metadata": {},
   "source": [
    "Видим, что результаты немного улучшились:"
   ]
  },
  {
   "cell_type": "code",
   "execution_count": 53,
   "metadata": {
    "execution": {
     "iopub.execute_input": "2025-01-04T07:05:25.514003Z",
     "iopub.status.busy": "2025-01-04T07:05:25.513611Z",
     "iopub.status.idle": "2025-01-04T07:05:25.528693Z",
     "shell.execute_reply": "2025-01-04T07:05:25.527540Z",
     "shell.execute_reply.started": "2025-01-04T07:05:25.513962Z"
    },
    "trusted": true
   },
   "outputs": [
    {
     "name": "stdout",
     "output_type": "stream",
     "text": [
      "Mean Absolute Error difference: 52030.719176728744\n",
      "R-squared difference: 0.00566139849619729\n"
     ]
    }
   ],
   "source": [
    "print(f\"Mean Absolute Error difference: {mae_origin-mae_improved}\")\n",
    "print(f\"R-squared difference: {r2_improved-r2_origin}\")"
   ]
  },
  {
   "cell_type": "markdown",
   "metadata": {},
   "source": [
    "### Выводы"
   ]
  },
  {
   "cell_type": "markdown",
   "metadata": {},
   "source": [
    "Улучшенный бейзлайн оказался лучше базового, хотя и не так сильно. Скорей всего, нужно выдвигать и проверять другие гипотезы."
   ]
  },
  {
   "cell_type": "markdown",
   "metadata": {},
   "source": [
    "## Имплементация алгоритма машинного обучения"
   ]
  },
  {
   "cell_type": "markdown",
   "metadata": {},
   "source": [
    "### Самостоятельная имплементация"
   ]
  },
  {
   "cell_type": "markdown",
   "metadata": {},
   "source": [
    "Случайный лес (Random Forest) — это ансамблевый алгоритм машинного обучения, использующий метод объединения множества базовых моделей (в данном случае деревьев решений) для улучшения общей производительности. "
   ]
  },
  {
   "cell_type": "markdown",
   "metadata": {},
   "source": [
    "##### Классификация"
   ]
  },
  {
   "cell_type": "markdown",
   "metadata": {},
   "source": [
    "Сначала реализауем дерево решений"
   ]
  },
  {
   "cell_type": "code",
   "execution_count": 54,
   "metadata": {
    "execution": {
     "iopub.execute_input": "2025-01-04T07:05:25.530159Z",
     "iopub.status.busy": "2025-01-04T07:05:25.529863Z",
     "iopub.status.idle": "2025-01-04T07:05:25.546782Z",
     "shell.execute_reply": "2025-01-04T07:05:25.545707Z",
     "shell.execute_reply.started": "2025-01-04T07:05:25.530133Z"
    },
    "trusted": true
   },
   "outputs": [],
   "source": [
    "class DecisionTreeClassifierCustom:\n",
    "    def __init__(self, max_depth=None):\n",
    "        self.max_depth = max_depth\n",
    "\n",
    "    def fit(self, X, y):\n",
    "        self.n_classes_ = len(set(y))\n",
    "        self.n_features_ = X.shape[1]\n",
    "        self.tree_ = self._grow_tree(X, y)\n",
    "\n",
    "    def _gini(self, y):\n",
    "        m = len(y)\n",
    "        return 1.0 - sum((np.sum(y == c) / m) ** 2 for c in np.unique(y))\n",
    "\n",
    "    def _best_split(self, X, y):\n",
    "        # Placeholder for storing best parameters\n",
    "        best_idx, best_thr = None, None\n",
    "        best_gini = 1.0\n",
    "        \n",
    "        for idx in range(self.n_features_):\n",
    "            thresholds, classes = zip(*sorted(zip(X[:, idx], y)))\n",
    "            num_left = [0] * self.n_classes_\n",
    "            num_right = [np.sum(y == c) for c in range(self.n_classes_)]\n",
    "            \n",
    "            for i in range(1, len(y)):\n",
    "                c = classes[i - 1]\n",
    "                num_left[c] += 1\n",
    "                num_right[c] -= 1\n",
    "                \n",
    "                gini_left = 1.0 - sum((num_left[x] / i) ** 2 for x in range(self.n_classes_))\n",
    "                gini_right = 1.0 - sum((num_right[x] / (len(y) - i)) ** 2 for x in range(self.n_classes_))\n",
    "                \n",
    "                gini = (i * gini_left + (len(y) - i) * gini_right) / len(y)\n",
    "                \n",
    "                if thresholds[i] == thresholds[i - 1]:\n",
    "                    continue\n",
    "                \n",
    "                if gini < best_gini:\n",
    "                    best_gini = gini\n",
    "                    best_idx = idx\n",
    "                    best_thr = (thresholds[i] + thresholds[i - 1]) / 2\n",
    "        \n",
    "        return best_idx, best_thr\n",
    "\n",
    "    def _grow_tree(self, X, y, depth=0):\n",
    "        num_samples_per_class = [np.sum(y == i) for i in range(self.n_classes_)]\n",
    "        predicted_class = np.argmax(num_samples_per_class)\n",
    "        node = NodeClassifierCustom(\n",
    "            gini=self._gini(y),\n",
    "            num_samples=len(y),\n",
    "            num_samples_per_class=num_samples_per_class,\n",
    "            predicted_class=predicted_class\n",
    "        )\n",
    "\n",
    "        if depth < self.max_depth:\n",
    "            idx, thr = self._best_split(X, y)\n",
    "            if idx is not None:\n",
    "                indices_left = X[:, idx] < thr\n",
    "                X_left, y_left = X[indices_left], y[indices_left]\n",
    "                X_right, y_right = X[~indices_left], y[~indices_left]\n",
    "                node.feature_index = idx\n",
    "                node.threshold = thr\n",
    "                node.left = self._grow_tree(X_left, y_left, depth + 1)\n",
    "                node.right = self._grow_tree(X_right, y_right, depth + 1)\n",
    "        return node\n",
    "\n",
    "    def _predict(self, inputs):\n",
    "        node = self.tree_\n",
    "        while node.left:\n",
    "            if inputs[node.feature_index] < node.threshold:\n",
    "                node = node.left\n",
    "            else:\n",
    "                node = node.right\n",
    "        return node.predicted_class\n",
    "\n",
    "    def predict(self, X):\n",
    "        return [self._predict(inputs) for inputs in X]\n",
    "        \n",
    "class NodeClassifierCustom:\n",
    "    def __init__(self, gini, num_samples, num_samples_per_class, predicted_class):\n",
    "        self.gini = gini\n",
    "        self.num_samples = num_samples\n",
    "        self.num_samples_per_class = num_samples_per_class\n",
    "        self.predicted_class = predicted_class\n",
    "        self.feature_index = 0\n",
    "        self.threshold = 0 \n",
    "        self.left = None\n",
    "        self.right = None"
   ]
  },
  {
   "cell_type": "markdown",
   "metadata": {},
   "source": [
    "Теперь используем наше дерево решений для создания ансамбля — случайного леса:"
   ]
  },
  {
   "cell_type": "code",
   "execution_count": 55,
   "metadata": {
    "execution": {
     "iopub.execute_input": "2025-01-04T07:05:25.548230Z",
     "iopub.status.busy": "2025-01-04T07:05:25.547864Z",
     "iopub.status.idle": "2025-01-04T07:05:25.559889Z",
     "shell.execute_reply": "2025-01-04T07:05:25.558868Z",
     "shell.execute_reply.started": "2025-01-04T07:05:25.548191Z"
    },
    "trusted": true
   },
   "outputs": [],
   "source": [
    "class RandomForestClassifierCustom:\n",
    "    def __init__(self, n_trees=10, max_depth=None, n_features=None):\n",
    "        self.n_trees = n_trees\n",
    "        self.max_depth = max_depth\n",
    "        self.n_features = n_features\n",
    "        self.trees = []\n",
    "\n",
    "    def _bootstrap_sample(self, X, y):\n",
    "        n_samples = X.shape[0]\n",
    "        indices = np.random.choice(n_samples, n_samples, replace=True)\n",
    "        return X[indices], y[indices]\n",
    "\n",
    "    def fit(self, X, y):\n",
    "        self.trees = []\n",
    "        for _ in range(self.n_trees):\n",
    "            tree = DecisionTreeClassifierCustom(max_depth=self.max_depth)\n",
    "            X_sample, y_sample = self._bootstrap_sample(X, y)\n",
    "            tree.fit(X_sample, y_sample)\n",
    "            self.trees.append(tree)\n",
    "\n",
    "    def predict(self, X):\n",
    "        tree_preds = np.array([tree.predict(X) for tree in self.trees])\n",
    "        tree_preds = np.swapaxes(tree_preds, 0, 1)\n",
    "        return [Counter(tree_pred).most_common(1)[0][0] for tree_pred in tree_preds]"
   ]
  },
  {
   "cell_type": "markdown",
   "metadata": {},
   "source": [
    "##### Регрессия"
   ]
  },
  {
   "cell_type": "markdown",
   "metadata": {},
   "source": [
    "Сначала реализауем дерево решений"
   ]
  },
  {
   "cell_type": "code",
   "execution_count": 56,
   "metadata": {
    "execution": {
     "iopub.execute_input": "2025-01-04T07:05:25.561413Z",
     "iopub.status.busy": "2025-01-04T07:05:25.561113Z",
     "iopub.status.idle": "2025-01-04T07:05:25.581590Z",
     "shell.execute_reply": "2025-01-04T07:05:25.580683Z",
     "shell.execute_reply.started": "2025-01-04T07:05:25.561388Z"
    },
    "trusted": true
   },
   "outputs": [],
   "source": [
    "class DecisionTreeRegressorCustom:\n",
    "    def __init__(self, max_depth=None):\n",
    "        self.max_depth = max_depth\n",
    "\n",
    "    def fit(self, X, y):\n",
    "        self.n_features_ = X.shape[1]\n",
    "        self.tree_ = self._grow_tree(X, y)\n",
    "\n",
    "    def _mse(self, y):\n",
    "        if len(y) == 0:\n",
    "            return 0\n",
    "        return np.mean((y - np.mean(y)) ** 2)\n",
    "\n",
    "    def _best_split(self, X, y):\n",
    "        best_idx, best_thr = None, None\n",
    "        best_mse = np.inf\n",
    "\n",
    "        for idx in range(self.n_features_):\n",
    "            thresholds, values = zip(*sorted(zip(X[:, idx], y)))\n",
    "            mse_left = mse_right = 0\n",
    "            sum_left = sum_right = 0\n",
    "            n_left = n_right = 0\n",
    "\n",
    "            for i in range(1, len(y)):\n",
    "                sum_left += values[i - 1]\n",
    "                mse_left = np.mean((values[:i] - np.mean(values[:i])) ** 2) if i > 0 else 0\n",
    "\n",
    "                sum_right -= values[i - 1]\n",
    "                mse_right = np.mean((values[i:] - np.mean(values[i:])) ** 2) if i < len(y) else 0\n",
    "                \n",
    "                mse = (i * mse_left + (len(y) - i) * mse_right) / len(y)\n",
    "\n",
    "                if thresholds[i] == thresholds[i - 1]:\n",
    "                    continue\n",
    "\n",
    "                if mse < best_mse:\n",
    "                    best_mse = mse\n",
    "                    best_idx = idx\n",
    "                    best_thr = (thresholds[i] + thresholds[i - 1]) / 2\n",
    "        \n",
    "        return best_idx, best_thr\n",
    "\n",
    "    def _grow_tree(self, X, y, depth=0):\n",
    "        node_value = np.mean(y)\n",
    "        node = NodeRegressorCustom(\n",
    "            num_samples=len(y),\n",
    "            node_value=node_value\n",
    "        )\n",
    "\n",
    "        if depth < self.max_depth:\n",
    "            idx, thr = self._best_split(X, y)\n",
    "            if idx is not None:\n",
    "                indices_left = X[:, idx] < thr\n",
    "                X_left, y_left = X[indices_left], y[indices_left]\n",
    "                X_right, y_right = X[~indices_left], y[~indices_left]\n",
    "                node.feature_index = idx\n",
    "                node.threshold = thr\n",
    "                node.left = self._grow_tree(X_left, y_left, depth + 1)\n",
    "                node.right = self._grow_tree(X_right, y_right, depth + 1)\n",
    "        return node\n",
    "\n",
    "    def _predict(self, inputs):\n",
    "        node = self.tree_\n",
    "        while node.left:\n",
    "            if inputs[node.feature_index] < node.threshold:\n",
    "                node = node.left\n",
    "            else:\n",
    "                node = node.right\n",
    "        return node.node_value\n",
    "\n",
    "    def predict(self, X):\n",
    "        return [self._predict(inputs) for inputs in X]\n",
    "\n",
    "class NodeRegressorCustom:\n",
    "    def __init__(self, num_samples, node_value):\n",
    "        self.num_samples = num_samples\n",
    "        self.node_value = node_value\n",
    "        self.feature_index = 0\n",
    "        self.threshold = 0 \n",
    "        self.left = None\n",
    "        self.right = None"
   ]
  },
  {
   "cell_type": "markdown",
   "metadata": {},
   "source": [
    "Теперь используем наше дерево решений для создания ансамбля — случайного леса:"
   ]
  },
  {
   "cell_type": "code",
   "execution_count": 57,
   "metadata": {
    "execution": {
     "iopub.execute_input": "2025-01-04T07:05:25.583269Z",
     "iopub.status.busy": "2025-01-04T07:05:25.582883Z",
     "iopub.status.idle": "2025-01-04T07:05:25.604998Z",
     "shell.execute_reply": "2025-01-04T07:05:25.603940Z",
     "shell.execute_reply.started": "2025-01-04T07:05:25.583233Z"
    },
    "trusted": true
   },
   "outputs": [],
   "source": [
    "class RandomForestRegressorCustom:\n",
    "    def __init__(self, n_trees=10, max_depth=None, n_features=None):\n",
    "        self.n_trees = n_trees\n",
    "        self.max_depth = max_depth\n",
    "        self.n_features = n_features\n",
    "        self.trees = []\n",
    "\n",
    "    def _bootstrap_sample(self, X, y):\n",
    "        n_samples = X.shape[0]\n",
    "        indices = np.random.choice(n_samples, n_samples, replace=True)\n",
    "        return X[indices], y[indices]\n",
    "\n",
    "    def fit(self, X, y):\n",
    "        self.trees = []\n",
    "        for _ in range(self.n_trees):\n",
    "            tree = DecisionTreeRegressorCustom(max_depth=self.max_depth)\n",
    "            X_sample, y_sample = self._bootstrap_sample(X, y)\n",
    "            tree.fit(X_sample, y_sample)\n",
    "            self.trees.append(tree)\n",
    "\n",
    "    def predict(self, X):\n",
    "        tree_preds = np.array([tree.predict(X) for tree in self.trees])\n",
    "        return np.mean(tree_preds, axis=0)"
   ]
  },
  {
   "cell_type": "markdown",
   "metadata": {},
   "source": [
    "### Обучение имплементированной модели"
   ]
  },
  {
   "cell_type": "markdown",
   "metadata": {},
   "source": [
    "##### Классификация"
   ]
  },
  {
   "cell_type": "markdown",
   "metadata": {},
   "source": [
    "Подготовка данных:"
   ]
  },
  {
   "cell_type": "code",
   "execution_count": 58,
   "metadata": {
    "execution": {
     "iopub.execute_input": "2025-01-04T07:05:25.606592Z",
     "iopub.status.busy": "2025-01-04T07:05:25.606248Z",
     "iopub.status.idle": "2025-01-04T07:05:25.671458Z",
     "shell.execute_reply": "2025-01-04T07:05:25.670601Z",
     "shell.execute_reply.started": "2025-01-04T07:05:25.606560Z"
    },
    "trusted": true
   },
   "outputs": [],
   "source": [
    "X_train_fraud, X_test_fraud, y_train_fraud, y_test_fraud = train_test_split(X_fraud, y_fraud_encoded, test_size=0.2, random_state=42)\n",
    "X_train_fraud, X_test_fraud = simple_imputer_df(X_train_fraud, X_test_fraud)\n",
    "X_train_fraud, X_test_fraud = scaling(X_train_fraud, X_test_fraud)\n",
    "\n",
    "classifier = RandomForestClassifierCustom(max_depth=5)"
   ]
  },
  {
   "cell_type": "markdown",
   "metadata": {},
   "source": [
    "Обучение модели:"
   ]
  },
  {
   "cell_type": "code",
   "execution_count": 59,
   "metadata": {
    "execution": {
     "iopub.execute_input": "2025-01-04T07:05:25.672830Z",
     "iopub.status.busy": "2025-01-04T07:05:25.672533Z",
     "iopub.status.idle": "2025-01-04T07:08:40.130420Z",
     "shell.execute_reply": "2025-01-04T07:08:40.129546Z",
     "shell.execute_reply.started": "2025-01-04T07:05:25.672806Z"
    },
    "trusted": true
   },
   "outputs": [],
   "source": [
    "classifier.fit(X_train_fraud, y_train_fraud)"
   ]
  },
  {
   "cell_type": "markdown",
   "metadata": {},
   "source": [
    "##### Регрессия"
   ]
  },
  {
   "cell_type": "markdown",
   "metadata": {},
   "source": [
    "Подготовка данных:"
   ]
  },
  {
   "cell_type": "code",
   "execution_count": 60,
   "metadata": {
    "execution": {
     "iopub.execute_input": "2025-01-04T07:08:40.131764Z",
     "iopub.status.busy": "2025-01-04T07:08:40.131452Z",
     "iopub.status.idle": "2025-01-04T07:08:40.154018Z",
     "shell.execute_reply": "2025-01-04T07:08:40.152937Z",
     "shell.execute_reply.started": "2025-01-04T07:08:40.131736Z"
    },
    "trusted": true
   },
   "outputs": [],
   "source": [
    "X_train_gold, X_test_gold, y_train_gold, y_test_gold = train_test_split(X_gold, y_gold, test_size=0.2, random_state=42)\n",
    "X_train_gold, X_test_gold = simple_imputer(X_train_gold, X_test_gold)\n",
    "X_train_gold, X_test_gold = scaling(X_train_gold, X_test_gold)\n",
    "y_train_gold = y_train_gold.to_numpy()\n",
    "y_test_gold = y_test_gold.to_numpy()\n",
    "X_train_gold, y_train_gold, X_test_gold, y_test_gold = delete_none(X_train_gold, y_train_gold, X_test_gold, y_test_gold)\n",
    "\n",
    "regressor = RandomForestRegressorCustom(max_depth=5)"
   ]
  },
  {
   "cell_type": "markdown",
   "metadata": {},
   "source": [
    "Обучение модели:"
   ]
  },
  {
   "cell_type": "code",
   "execution_count": 61,
   "metadata": {
    "execution": {
     "iopub.execute_input": "2025-01-04T07:08:40.155630Z",
     "iopub.status.busy": "2025-01-04T07:08:40.155205Z",
     "iopub.status.idle": "2025-01-04T07:32:31.917031Z",
     "shell.execute_reply": "2025-01-04T07:32:31.915977Z",
     "shell.execute_reply.started": "2025-01-04T07:08:40.155598Z"
    },
    "trusted": true
   },
   "outputs": [],
   "source": [
    "regressor.fit(X_train_gold, y_train_gold)"
   ]
  },
  {
   "cell_type": "markdown",
   "metadata": {},
   "source": [
    "### Оценка качества имплементированных моделей"
   ]
  },
  {
   "cell_type": "markdown",
   "metadata": {},
   "source": [
    "##### Классификация"
   ]
  },
  {
   "cell_type": "markdown",
   "metadata": {},
   "source": [
    "Оценка качества модели:"
   ]
  },
  {
   "cell_type": "code",
   "execution_count": 62,
   "metadata": {
    "execution": {
     "iopub.execute_input": "2025-01-04T07:32:31.918395Z",
     "iopub.status.busy": "2025-01-04T07:32:31.918099Z",
     "iopub.status.idle": "2025-01-04T07:32:32.043285Z",
     "shell.execute_reply": "2025-01-04T07:32:32.042086Z",
     "shell.execute_reply.started": "2025-01-04T07:32:31.918369Z"
    },
    "trusted": true
   },
   "outputs": [
    {
     "name": "stdout",
     "output_type": "stream",
     "text": [
      "Accuracy: 0.9994724810972393\n",
      "F1 Score: 0.9994724826308604\n"
     ]
    }
   ],
   "source": [
    "accuracy_my, f1_my = quality_eval_classification(X_test_fraud, y_test_fraud, classifier)"
   ]
  },
  {
   "cell_type": "markdown",
   "metadata": {},
   "source": [
    "##### Регрессия"
   ]
  },
  {
   "cell_type": "markdown",
   "metadata": {},
   "source": [
    "Оценка качества модели:"
   ]
  },
  {
   "cell_type": "code",
   "execution_count": 63,
   "metadata": {
    "execution": {
     "iopub.execute_input": "2025-01-04T07:32:32.044985Z",
     "iopub.status.busy": "2025-01-04T07:32:32.044586Z",
     "iopub.status.idle": "2025-01-04T07:32:32.064007Z",
     "shell.execute_reply": "2025-01-04T07:32:32.063044Z",
     "shell.execute_reply.started": "2025-01-04T07:32:32.044948Z"
    },
    "trusted": true
   },
   "outputs": [
    {
     "name": "stdout",
     "output_type": "stream",
     "text": [
      "Mean Absolute Error: 2804569.3010066105\n",
      "R-squared: 0.548955021519389\n"
     ]
    }
   ],
   "source": [
    "mae_my, r2_my = quality_eval_regression(X_test_gold, y_test_gold, regressor)"
   ]
  },
  {
   "cell_type": "markdown",
   "metadata": {},
   "source": [
    "### Сравнение результатов первоначального бейзлайна и имплементированных моделей"
   ]
  },
  {
   "cell_type": "markdown",
   "metadata": {},
   "source": [
    "##### Классификация"
   ]
  },
  {
   "cell_type": "markdown",
   "metadata": {},
   "source": [
    "Видим, что результаты имплементированной модели немного хуже:"
   ]
  },
  {
   "cell_type": "code",
   "execution_count": 64,
   "metadata": {
    "execution": {
     "iopub.execute_input": "2025-01-04T07:32:32.065679Z",
     "iopub.status.busy": "2025-01-04T07:32:32.065355Z",
     "iopub.status.idle": "2025-01-04T07:32:32.080189Z",
     "shell.execute_reply": "2025-01-04T07:32:32.079054Z",
     "shell.execute_reply.started": "2025-01-04T07:32:32.065651Z"
    },
    "trusted": true
   },
   "outputs": [
    {
     "name": "stdout",
     "output_type": "stream",
     "text": [
      "Accuracy difference: 0.0\n",
      "F1 Score difference: 0.0\n"
     ]
    }
   ],
   "source": [
    "print(f\"Accuracy difference: {accuracy_my-accuracy_origin}\")\n",
    "print(f\"F1 Score difference: {f1_my-f1_origin}\")"
   ]
  },
  {
   "cell_type": "markdown",
   "metadata": {},
   "source": [
    "##### Регрессия"
   ]
  },
  {
   "cell_type": "markdown",
   "metadata": {},
   "source": [
    "Видим, что результаты имплементированной модели хуже:"
   ]
  },
  {
   "cell_type": "code",
   "execution_count": 65,
   "metadata": {
    "execution": {
     "iopub.execute_input": "2025-01-04T07:32:32.081741Z",
     "iopub.status.busy": "2025-01-04T07:32:32.081357Z",
     "iopub.status.idle": "2025-01-04T07:32:32.097715Z",
     "shell.execute_reply": "2025-01-04T07:32:32.096601Z",
     "shell.execute_reply.started": "2025-01-04T07:32:32.081709Z"
    },
    "trusted": true
   },
   "outputs": [
    {
     "name": "stdout",
     "output_type": "stream",
     "text": [
      "Mean Absolute Error difference: 359803.0509665571\n",
      "R-squared difference: -0.06152414340290702\n"
     ]
    }
   ],
   "source": [
    "print(f\"Mean Absolute Error difference: {mae_my-mae_origin}\")\n",
    "print(f\"R-squared difference: {r2_my-r2_origin}\")"
   ]
  },
  {
   "cell_type": "markdown",
   "metadata": {},
   "source": [
    "### Выводы"
   ]
  },
  {
   "cell_type": "markdown",
   "metadata": {},
   "source": [
    "Оценка качества наших имплементированных моделей оказалась хуже.\n",
    "Можно сделать следующие выводы:\n",
    "1. Предобработка данных важна: Масштабирование и нормализация данных могут значительно повлиять на качество модели.\n",
    "2. Оптимизация гиперпараметров: Правильная настройка параметров, таких как темп обучения и количество итераций, необходима для достижения оптимальной производительности.\n",
    "3. Регуляризация: Помогает избежать переобучения и может улучшить обобщающую способность модели.\n",
    "4. Алгоритмическая точность: Правильная реализация алгоритма и внимание к численным ошибкам критичны для качества модели.\n",
    "5. Используйте проверенные решения: Изучение и сравнение с библиотечными реализациями может помочь выявить слабые места вашей модели.\n",
    "6. Тщательно изучайте данные: Соблюдение чистоты, отсутствие пропусков и ошибок в данных — важный аспект построения качественной модели."
   ]
  },
  {
   "cell_type": "markdown",
   "metadata": {},
   "source": [
    "### Добавление техник из улучшенного бейзлайна"
   ]
  },
  {
   "cell_type": "markdown",
   "metadata": {},
   "source": [
    "##### Классификация"
   ]
  },
  {
   "cell_type": "code",
   "execution_count": 66,
   "metadata": {
    "execution": {
     "iopub.execute_input": "2025-01-04T07:32:32.099325Z",
     "iopub.status.busy": "2025-01-04T07:32:32.098912Z",
     "iopub.status.idle": "2025-01-04T07:32:32.159762Z",
     "shell.execute_reply": "2025-01-04T07:32:32.158598Z",
     "shell.execute_reply.started": "2025-01-04T07:32:32.099286Z"
    },
    "trusted": true
   },
   "outputs": [],
   "source": [
    "X_train_fraud, X_test_fraud, y_train_fraud, y_test_fraud = train_test_split(X_fraud, y_fraud_encoded, test_size=0.2, random_state=42)\n",
    "X_train_fraud, X_test_fraud = simple_imputer_df(X_train_fraud, X_test_fraud)\n",
    "X_train_fraud, X_test_fraud = scaling(X_train_fraud, X_test_fraud)\n",
    "\n",
    "classifier = RandomForestClassifierCustom(max_depth=5, n_trees=20)"
   ]
  },
  {
   "cell_type": "markdown",
   "metadata": {},
   "source": [
    "##### Регрессия"
   ]
  },
  {
   "cell_type": "markdown",
   "metadata": {},
   "source": [
    "Формирование улучшенного бейзлайна:"
   ]
  },
  {
   "cell_type": "code",
   "execution_count": 67,
   "metadata": {
    "execution": {
     "iopub.execute_input": "2025-01-04T07:32:32.161158Z",
     "iopub.status.busy": "2025-01-04T07:32:32.160799Z",
     "iopub.status.idle": "2025-01-04T07:32:32.183779Z",
     "shell.execute_reply": "2025-01-04T07:32:32.182878Z",
     "shell.execute_reply.started": "2025-01-04T07:32:32.161119Z"
    },
    "trusted": true
   },
   "outputs": [],
   "source": [
    "X_train_gold, X_test_gold, y_train_gold, y_test_gold = train_test_split(X_gold, y_gold, test_size=0.2, random_state=42)\n",
    "X_train_gold, X_test_gold = simple_imputer(X_train_gold, X_test_gold)\n",
    "X_train_gold, X_test_gold = scaling(X_train_gold, X_test_gold)\n",
    "y_train_gold = y_train_gold.to_numpy()\n",
    "y_test_gold = y_test_gold.to_numpy()\n",
    "X_train_gold, y_train_gold, X_test_gold, y_test_gold = delete_none(X_train_gold, y_train_gold, X_test_gold, y_test_gold)\n",
    "\n",
    "regressor = RandomForestRegressorCustom(max_depth=20, n_trees=10)"
   ]
  },
  {
   "cell_type": "markdown",
   "metadata": {},
   "source": [
    "### Обучение на улучшенном бейзлайне"
   ]
  },
  {
   "cell_type": "markdown",
   "metadata": {},
   "source": [
    "##### Классификация"
   ]
  },
  {
   "cell_type": "code",
   "execution_count": 68,
   "metadata": {
    "execution": {
     "iopub.execute_input": "2025-01-04T07:32:32.185102Z",
     "iopub.status.busy": "2025-01-04T07:32:32.184805Z",
     "iopub.status.idle": "2025-01-04T07:39:06.126258Z",
     "shell.execute_reply": "2025-01-04T07:39:06.125339Z",
     "shell.execute_reply.started": "2025-01-04T07:32:32.185075Z"
    },
    "trusted": true
   },
   "outputs": [],
   "source": [
    "classifier.fit(X_train_fraud, y_train_fraud)"
   ]
  },
  {
   "cell_type": "markdown",
   "metadata": {},
   "source": [
    "##### Регрессия"
   ]
  },
  {
   "cell_type": "code",
   "execution_count": 69,
   "metadata": {
    "execution": {
     "iopub.execute_input": "2025-01-04T07:39:06.127607Z",
     "iopub.status.busy": "2025-01-04T07:39:06.127304Z",
     "iopub.status.idle": "2025-01-04T08:14:43.831440Z",
     "shell.execute_reply": "2025-01-04T08:14:43.830108Z",
     "shell.execute_reply.started": "2025-01-04T07:39:06.127581Z"
    },
    "trusted": true
   },
   "outputs": [],
   "source": [
    "regressor.fit(X_train_gold, y_train_gold)"
   ]
  },
  {
   "cell_type": "markdown",
   "metadata": {},
   "source": [
    "### Оценка качества моделей на улучшенном бейзлайне"
   ]
  },
  {
   "cell_type": "markdown",
   "metadata": {},
   "source": [
    "##### Классификация"
   ]
  },
  {
   "cell_type": "code",
   "execution_count": 70,
   "metadata": {
    "execution": {
     "iopub.execute_input": "2025-01-04T08:14:43.833045Z",
     "iopub.status.busy": "2025-01-04T08:14:43.832709Z",
     "iopub.status.idle": "2025-01-04T08:14:44.040568Z",
     "shell.execute_reply": "2025-01-04T08:14:44.039415Z",
     "shell.execute_reply.started": "2025-01-04T08:14:43.833008Z"
    },
    "trusted": true
   },
   "outputs": [
    {
     "name": "stdout",
     "output_type": "stream",
     "text": [
      "Accuracy: 0.9992966414629858\n",
      "F1 Score: 0.9992966414629858\n"
     ]
    }
   ],
   "source": [
    "accuracy_my_improved, f1_my_improved = quality_eval_classification(X_test_fraud, y_test_fraud, classifier)"
   ]
  },
  {
   "cell_type": "markdown",
   "metadata": {},
   "source": [
    "##### Регрессия"
   ]
  },
  {
   "cell_type": "code",
   "execution_count": 71,
   "metadata": {
    "execution": {
     "iopub.execute_input": "2025-01-04T08:14:44.042108Z",
     "iopub.status.busy": "2025-01-04T08:14:44.041723Z",
     "iopub.status.idle": "2025-01-04T08:14:44.084129Z",
     "shell.execute_reply": "2025-01-04T08:14:44.082990Z",
     "shell.execute_reply.started": "2025-01-04T08:14:44.042072Z"
    },
    "trusted": true
   },
   "outputs": [
    {
     "name": "stdout",
     "output_type": "stream",
     "text": [
      "Mean Absolute Error: 2596286.5584117044\n",
      "R-squared: 0.5407459833651438\n"
     ]
    }
   ],
   "source": [
    "mae_my_impoved, r2_my_impoved = quality_eval_regression(X_test_gold, y_test_gold, regressor)"
   ]
  },
  {
   "cell_type": "markdown",
   "metadata": {},
   "source": [
    "### Сравнение результатов"
   ]
  },
  {
   "cell_type": "markdown",
   "metadata": {},
   "source": [
    "##### Классификация"
   ]
  },
  {
   "cell_type": "code",
   "execution_count": 72,
   "metadata": {
    "execution": {
     "iopub.execute_input": "2025-01-04T08:14:44.085597Z",
     "iopub.status.busy": "2025-01-04T08:14:44.085233Z",
     "iopub.status.idle": "2025-01-04T08:14:44.091348Z",
     "shell.execute_reply": "2025-01-04T08:14:44.090287Z",
     "shell.execute_reply.started": "2025-01-04T08:14:44.085565Z"
    },
    "trusted": true
   },
   "outputs": [
    {
     "name": "stdout",
     "output_type": "stream",
     "text": [
      "Accuracy difference: -0.00017583963425349403\n",
      "F1 Score difference: -0.00017584116787461301\n"
     ]
    }
   ],
   "source": [
    " print(f\"Accuracy difference: {accuracy_my_improved-accuracy_improved}\")\n",
    "print(f\"F1 Score difference: {f1_my_improved-f1_improved}\")"
   ]
  },
  {
   "cell_type": "markdown",
   "metadata": {},
   "source": [
    "##### Регрессия"
   ]
  },
  {
   "cell_type": "code",
   "execution_count": 73,
   "metadata": {
    "execution": {
     "iopub.execute_input": "2025-01-04T08:14:44.092790Z",
     "iopub.status.busy": "2025-01-04T08:14:44.092389Z",
     "iopub.status.idle": "2025-01-04T08:14:44.107698Z",
     "shell.execute_reply": "2025-01-04T08:14:44.106658Z",
     "shell.execute_reply.started": "2025-01-04T08:14:44.092751Z"
    },
    "trusted": true
   },
   "outputs": [
    {
     "name": "stdout",
     "output_type": "stream",
     "text": [
      "Mean Absolute Error difference: 203551.02754837973\n",
      "R-squared difference: -0.07539458005334954\n"
     ]
    }
   ],
   "source": [
    "print(f\"Mean Absolute Error difference: {mae_my_impoved-mae_improved}\")\n",
    "print(f\"R-squared difference: {r2_my_impoved-r2_improved}\")"
   ]
  },
  {
   "cell_type": "markdown",
   "metadata": {},
   "source": [
    "### Выводы"
   ]
  },
  {
   "cell_type": "markdown",
   "metadata": {},
   "source": [
    "Улучшенный бейзлайн собственной имплементации получился немного хуже улучшенного бейзлайна готовой реализации. Вероятно, это из-за того, что было выбрано меньше итераций для обучения модели собственной имплементации."
   ]
  }
 ],
 "metadata": {
  "kaggle": {
   "accelerator": "none",
   "dataSources": [
    {
     "datasetId": 5936111,
     "sourceId": 9705963,
     "sourceType": "datasetVersion"
    },
    {
     "datasetId": 3752264,
     "sourceId": 6492730,
     "sourceType": "datasetVersion"
    }
   ],
   "dockerImageVersionId": 30822,
   "isGpuEnabled": false,
   "isInternetEnabled": true,
   "language": "python",
   "sourceType": "notebook"
  },
  "kernelspec": {
   "display_name": "Python 3",
   "language": "python",
   "name": "python3"
  },
  "language_info": {
   "codemirror_mode": {
    "name": "ipython",
    "version": 3
   },
   "file_extension": ".py",
   "mimetype": "text/x-python",
   "name": "python",
   "nbconvert_exporter": "python",
   "pygments_lexer": "ipython3",
   "version": "3.10.12"
  }
 },
 "nbformat": 4,
 "nbformat_minor": 4
}
