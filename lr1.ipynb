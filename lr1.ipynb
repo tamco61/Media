{
 "cells": [
  {
   "cell_type": "markdown",
   "metadata": {},
   "source": [
    "# Лабораторная работа №1 (Проведение исследований с алгоритмом KNN)"
   ]
  },
  {
   "cell_type": "markdown",
   "metadata": {},
   "source": [
    "## Выбор начальных условий"
   ]
  },
  {
   "cell_type": "markdown",
   "metadata": {},
   "source": [
    "### Credit Card Fraud Detection Dataset 2023 для задачи классификации\n",
    "- **Описание**: датасет содержит анонимизированные данные по транзакциям\n",
    "- **Возможная задача**: Классификация банковской операции.\n",
    "- **Обоснование**: Эта задача полезна для банков, чтобы в автоматическом режиме отслеживать виды операций клиентов и выявлять мошенические."
   ]
  },
  {
   "cell_type": "markdown",
   "metadata": {},
   "source": [
    "### Gold Price Regression для задачи регрессии\n",
    "- **Описание**: Датасет содержит исторические данные о ценах на золото, с такими признаками, как дата, стоимость, экономические индикаторы и т. д.\n",
    "- **Возможная задача**: Прогнозирование цен на золото на основе исторических данных и других существующих метрик.\n",
    "- **Обоснование**: Исследование изменений цен на золото актуально для инвестиционной стратегии и экономического анализа."
   ]
  },
  {
   "cell_type": "markdown",
   "metadata": {},
   "source": [
    "### Выбор метрик качества\n",
    "\n",
    "#### Для задачи классификации:\n",
    "- **Accuracy**: Общее понимание точности модели в предсказании сортов.\n",
    "- **F1-score**: Уместен, если классы в датасете несбалансированы, так как учитывает и Precision, и Recall.\n",
    "\n",
    "#### Для задачи регрессии:\n",
    "- **Mean Absolute Error (MAE**): Измеряет среднюю ошибку в прогнозировании цен на золото.\n",
    "- **R-squared**: Оценивает, как хорошо модель объясняет изменения цен."
   ]
  },
  {
   "cell_type": "markdown",
   "metadata": {},
   "source": [
    "## Создание бейзлайна и оценка качества"
   ]
  },
  {
   "cell_type": "markdown",
   "metadata": {},
   "source": [
    "### Обучение моделей из sklearn для выбранных наборов данных"
   ]
  },
  {
   "cell_type": "markdown",
   "metadata": {},
   "source": [
    "#### Импорт библиотек"
   ]
  },
  {
   "cell_type": "code",
   "execution_count": 1,
   "metadata": {
    "execution": {
     "iopub.execute_input": "2025-01-03T16:47:09.930188Z",
     "iopub.status.busy": "2025-01-03T16:47:09.929802Z",
     "iopub.status.idle": "2025-01-03T16:47:11.249653Z",
     "shell.execute_reply": "2025-01-03T16:47:11.248176Z",
     "shell.execute_reply.started": "2025-01-03T16:47:09.930144Z"
    },
    "trusted": true
   },
   "outputs": [],
   "source": [
    "import pandas as pd\n",
    "from sklearn.model_selection import train_test_split, GridSearchCV\n",
    "from sklearn.preprocessing import StandardScaler\n",
    "from sklearn.neighbors import KNeighborsClassifier, KNeighborsRegressor\n",
    "from sklearn.metrics import accuracy_score, f1_score, mean_absolute_error, r2_score\n",
    "from sklearn.impute import SimpleImputer\n",
    "from scipy.spatial import distance\n",
    "import numpy as np\n",
    "from collections import Counter"
   ]
  },
  {
   "cell_type": "markdown",
   "metadata": {},
   "source": [
    "#### Подготовка данных"
   ]
  },
  {
   "cell_type": "markdown",
   "metadata": {},
   "source": [
    "##### Классификация (Credit Card Fraud Detection Dataset 2023)"
   ]
  },
  {
   "cell_type": "markdown",
   "metadata": {},
   "source": [
    "**Загрузка данных:**"
   ]
  },
  {
   "cell_type": "code",
   "execution_count": 2,
   "metadata": {
    "execution": {
     "iopub.execute_input": "2025-01-03T16:47:11.251735Z",
     "iopub.status.busy": "2025-01-03T16:47:11.251245Z",
     "iopub.status.idle": "2025-01-03T16:47:21.645011Z",
     "shell.execute_reply": "2025-01-03T16:47:21.643258Z",
     "shell.execute_reply.started": "2025-01-03T16:47:11.251701Z"
    },
    "trusted": true
   },
   "outputs": [],
   "source": [
    "fraud_data = pd.read_csv('/kaggle/input/credit-card-fraud-detection-dataset-2023/creditcard_2023.csv')\n",
    "fraud_data = fraud_data.sample(frac=0.05)\n",
    "X_fraud = fraud_data.iloc[:, :-1]  # Признаки\n",
    "y_fraud = fraud_data.iloc[:, -1]   # Метки классов"
   ]
  },
  {
   "cell_type": "markdown",
   "metadata": {},
   "source": [
    "**Разделение на тренировочный и тестовый наборы:**"
   ]
  },
  {
   "cell_type": "code",
   "execution_count": 3,
   "metadata": {
    "execution": {
     "iopub.execute_input": "2025-01-03T16:47:21.648358Z",
     "iopub.status.busy": "2025-01-03T16:47:21.647901Z",
     "iopub.status.idle": "2025-01-03T16:47:21.689543Z",
     "shell.execute_reply": "2025-01-03T16:47:21.688325Z",
     "shell.execute_reply.started": "2025-01-03T16:47:21.648321Z"
    },
    "trusted": true
   },
   "outputs": [],
   "source": [
    "X_train_fraud, X_test_fraud, y_train_fraud, y_test_fraud = train_test_split(X_fraud, y_fraud, test_size=0.2, random_state=42)"
   ]
  },
  {
   "cell_type": "markdown",
   "metadata": {},
   "source": [
    "**Замена пропущенных значений**"
   ]
  },
  {
   "cell_type": "code",
   "execution_count": 4,
   "metadata": {
    "execution": {
     "iopub.execute_input": "2025-01-03T16:47:21.691461Z",
     "iopub.status.busy": "2025-01-03T16:47:21.691169Z",
     "iopub.status.idle": "2025-01-03T16:47:21.770338Z",
     "shell.execute_reply": "2025-01-03T16:47:21.768902Z",
     "shell.execute_reply.started": "2025-01-03T16:47:21.691436Z"
    },
    "trusted": true
   },
   "outputs": [],
   "source": [
    "imputer = SimpleImputer(strategy='mean')\n",
    "X_train_fraud = pd.DataFrame(imputer.fit_transform(X_train_fraud))\n",
    "X_test_fraud = pd.DataFrame(imputer.transform(X_test_fraud))"
   ]
  },
  {
   "cell_type": "markdown",
   "metadata": {},
   "source": [
    "##### Регрессия (Gold Price Regression)"
   ]
  },
  {
   "cell_type": "markdown",
   "metadata": {},
   "source": [
    "**Загрузка данных:**"
   ]
  },
  {
   "cell_type": "code",
   "execution_count": 5,
   "metadata": {
    "execution": {
     "iopub.execute_input": "2025-01-03T16:47:21.771884Z",
     "iopub.status.busy": "2025-01-03T16:47:21.771557Z",
     "iopub.status.idle": "2025-01-03T16:47:21.826071Z",
     "shell.execute_reply": "2025-01-03T16:47:21.824986Z",
     "shell.execute_reply.started": "2025-01-03T16:47:21.771855Z"
    },
    "trusted": true
   },
   "outputs": [],
   "source": [
    "gold_data = pd.read_csv('/kaggle/input/financial-data/financial_regression.csv')\n",
    "\n",
    "X_gold = gold_data.iloc[:, 1:-1]  # Признаки\n",
    "y_gold = gold_data.iloc[:, -1]   # Целевая переменная"
   ]
  },
  {
   "cell_type": "markdown",
   "metadata": {},
   "source": [
    "**Разделение на тренировочный и тестовый наборы:**"
   ]
  },
  {
   "cell_type": "code",
   "execution_count": 6,
   "metadata": {
    "execution": {
     "iopub.execute_input": "2025-01-03T16:47:21.827365Z",
     "iopub.status.busy": "2025-01-03T16:47:21.827064Z",
     "iopub.status.idle": "2025-01-03T16:47:21.836535Z",
     "shell.execute_reply": "2025-01-03T16:47:21.835437Z",
     "shell.execute_reply.started": "2025-01-03T16:47:21.827338Z"
    },
    "trusted": true
   },
   "outputs": [],
   "source": [
    "X_train_gold, X_test_gold, y_train_gold, y_test_gold = train_test_split(X_gold, y_gold, test_size=0.2, random_state=42)"
   ]
  },
  {
   "cell_type": "markdown",
   "metadata": {},
   "source": [
    "**Замена пропущенных значений:**"
   ]
  },
  {
   "cell_type": "code",
   "execution_count": 7,
   "metadata": {
    "execution": {
     "iopub.execute_input": "2025-01-03T16:47:21.838147Z",
     "iopub.status.busy": "2025-01-03T16:47:21.837761Z",
     "iopub.status.idle": "2025-01-03T16:47:21.868922Z",
     "shell.execute_reply": "2025-01-03T16:47:21.867609Z",
     "shell.execute_reply.started": "2025-01-03T16:47:21.838111Z"
    },
    "trusted": true
   },
   "outputs": [],
   "source": [
    "imputer = SimpleImputer(strategy='mean')\n",
    "X_train_gold = imputer.fit_transform(X_train_gold)\n",
    "X_test_gold = imputer.transform(X_test_gold)"
   ]
  },
  {
   "cell_type": "markdown",
   "metadata": {},
   "source": [
    "**Удаление строк с пропущенными значениями:**"
   ]
  },
  {
   "cell_type": "code",
   "execution_count": 8,
   "metadata": {
    "execution": {
     "iopub.execute_input": "2025-01-03T16:47:21.872660Z",
     "iopub.status.busy": "2025-01-03T16:47:21.872315Z",
     "iopub.status.idle": "2025-01-03T16:47:21.880090Z",
     "shell.execute_reply": "2025-01-03T16:47:21.879105Z",
     "shell.execute_reply.started": "2025-01-03T16:47:21.872631Z"
    },
    "trusted": true
   },
   "outputs": [],
   "source": [
    "mask = ~np.isnan(y_train_gold)\n",
    "X_train_gold = X_train_gold[mask]\n",
    "y_train_gold = y_train_gold[mask]\n",
    "\n",
    "mask_test = ~np.isnan(y_test_gold)\n",
    "X_test_gold = X_test_gold[mask_test]\n",
    "y_test_gold = y_test_gold[mask_test]"
   ]
  },
  {
   "cell_type": "markdown",
   "metadata": {},
   "source": [
    "#### Обучение моделей"
   ]
  },
  {
   "cell_type": "markdown",
   "metadata": {},
   "source": [
    "##### Классификация"
   ]
  },
  {
   "cell_type": "code",
   "execution_count": 9,
   "metadata": {
    "execution": {
     "iopub.execute_input": "2025-01-03T16:47:21.882685Z",
     "iopub.status.busy": "2025-01-03T16:47:21.882118Z",
     "iopub.status.idle": "2025-01-03T16:47:21.927898Z",
     "shell.execute_reply": "2025-01-03T16:47:21.926651Z",
     "shell.execute_reply.started": "2025-01-03T16:47:21.882654Z"
    },
    "trusted": true
   },
   "outputs": [
    {
     "data": {
      "text/html": [
       "<style>#sk-container-id-1 {color: black;background-color: white;}#sk-container-id-1 pre{padding: 0;}#sk-container-id-1 div.sk-toggleable {background-color: white;}#sk-container-id-1 label.sk-toggleable__label {cursor: pointer;display: block;width: 100%;margin-bottom: 0;padding: 0.3em;box-sizing: border-box;text-align: center;}#sk-container-id-1 label.sk-toggleable__label-arrow:before {content: \"▸\";float: left;margin-right: 0.25em;color: #696969;}#sk-container-id-1 label.sk-toggleable__label-arrow:hover:before {color: black;}#sk-container-id-1 div.sk-estimator:hover label.sk-toggleable__label-arrow:before {color: black;}#sk-container-id-1 div.sk-toggleable__content {max-height: 0;max-width: 0;overflow: hidden;text-align: left;background-color: #f0f8ff;}#sk-container-id-1 div.sk-toggleable__content pre {margin: 0.2em;color: black;border-radius: 0.25em;background-color: #f0f8ff;}#sk-container-id-1 input.sk-toggleable__control:checked~div.sk-toggleable__content {max-height: 200px;max-width: 100%;overflow: auto;}#sk-container-id-1 input.sk-toggleable__control:checked~label.sk-toggleable__label-arrow:before {content: \"▾\";}#sk-container-id-1 div.sk-estimator input.sk-toggleable__control:checked~label.sk-toggleable__label {background-color: #d4ebff;}#sk-container-id-1 div.sk-label input.sk-toggleable__control:checked~label.sk-toggleable__label {background-color: #d4ebff;}#sk-container-id-1 input.sk-hidden--visually {border: 0;clip: rect(1px 1px 1px 1px);clip: rect(1px, 1px, 1px, 1px);height: 1px;margin: -1px;overflow: hidden;padding: 0;position: absolute;width: 1px;}#sk-container-id-1 div.sk-estimator {font-family: monospace;background-color: #f0f8ff;border: 1px dotted black;border-radius: 0.25em;box-sizing: border-box;margin-bottom: 0.5em;}#sk-container-id-1 div.sk-estimator:hover {background-color: #d4ebff;}#sk-container-id-1 div.sk-parallel-item::after {content: \"\";width: 100%;border-bottom: 1px solid gray;flex-grow: 1;}#sk-container-id-1 div.sk-label:hover label.sk-toggleable__label {background-color: #d4ebff;}#sk-container-id-1 div.sk-serial::before {content: \"\";position: absolute;border-left: 1px solid gray;box-sizing: border-box;top: 0;bottom: 0;left: 50%;z-index: 0;}#sk-container-id-1 div.sk-serial {display: flex;flex-direction: column;align-items: center;background-color: white;padding-right: 0.2em;padding-left: 0.2em;position: relative;}#sk-container-id-1 div.sk-item {position: relative;z-index: 1;}#sk-container-id-1 div.sk-parallel {display: flex;align-items: stretch;justify-content: center;background-color: white;position: relative;}#sk-container-id-1 div.sk-item::before, #sk-container-id-1 div.sk-parallel-item::before {content: \"\";position: absolute;border-left: 1px solid gray;box-sizing: border-box;top: 0;bottom: 0;left: 50%;z-index: -1;}#sk-container-id-1 div.sk-parallel-item {display: flex;flex-direction: column;z-index: 1;position: relative;background-color: white;}#sk-container-id-1 div.sk-parallel-item:first-child::after {align-self: flex-end;width: 50%;}#sk-container-id-1 div.sk-parallel-item:last-child::after {align-self: flex-start;width: 50%;}#sk-container-id-1 div.sk-parallel-item:only-child::after {width: 0;}#sk-container-id-1 div.sk-dashed-wrapped {border: 1px dashed gray;margin: 0 0.4em 0.5em 0.4em;box-sizing: border-box;padding-bottom: 0.4em;background-color: white;}#sk-container-id-1 div.sk-label label {font-family: monospace;font-weight: bold;display: inline-block;line-height: 1.2em;}#sk-container-id-1 div.sk-label-container {text-align: center;}#sk-container-id-1 div.sk-container {/* jupyter's `normalize.less` sets `[hidden] { display: none; }` but bootstrap.min.css set `[hidden] { display: none !important; }` so we also need the `!important` here to be able to override the default hidden behavior on the sphinx rendered scikit-learn.org. See: https://github.com/scikit-learn/scikit-learn/issues/21755 */display: inline-block !important;position: relative;}#sk-container-id-1 div.sk-text-repr-fallback {display: none;}</style><div id=\"sk-container-id-1\" class=\"sk-top-container\"><div class=\"sk-text-repr-fallback\"><pre>KNeighborsClassifier()</pre><b>In a Jupyter environment, please rerun this cell to show the HTML representation or trust the notebook. <br />On GitHub, the HTML representation is unable to render, please try loading this page with nbviewer.org.</b></div><div class=\"sk-container\" hidden><div class=\"sk-item\"><div class=\"sk-estimator sk-toggleable\"><input class=\"sk-toggleable__control sk-hidden--visually\" id=\"sk-estimator-id-1\" type=\"checkbox\" checked><label for=\"sk-estimator-id-1\" class=\"sk-toggleable__label sk-toggleable__label-arrow\">KNeighborsClassifier</label><div class=\"sk-toggleable__content\"><pre>KNeighborsClassifier()</pre></div></div></div></div></div>"
      ],
      "text/plain": [
       "KNeighborsClassifier()"
      ]
     },
     "execution_count": 9,
     "metadata": {},
     "output_type": "execute_result"
    }
   ],
   "source": [
    "knn_clf = KNeighborsClassifier(n_neighbors=5)\n",
    "knn_clf.fit(X_train_fraud, y_train_fraud)"
   ]
  },
  {
   "cell_type": "markdown",
   "metadata": {},
   "source": [
    "##### Регрессия"
   ]
  },
  {
   "cell_type": "code",
   "execution_count": 10,
   "metadata": {
    "execution": {
     "iopub.execute_input": "2025-01-03T16:47:21.929319Z",
     "iopub.status.busy": "2025-01-03T16:47:21.928931Z",
     "iopub.status.idle": "2025-01-03T16:47:21.939323Z",
     "shell.execute_reply": "2025-01-03T16:47:21.937674Z",
     "shell.execute_reply.started": "2025-01-03T16:47:21.929277Z"
    },
    "trusted": true
   },
   "outputs": [
    {
     "data": {
      "text/html": [
       "<style>#sk-container-id-2 {color: black;background-color: white;}#sk-container-id-2 pre{padding: 0;}#sk-container-id-2 div.sk-toggleable {background-color: white;}#sk-container-id-2 label.sk-toggleable__label {cursor: pointer;display: block;width: 100%;margin-bottom: 0;padding: 0.3em;box-sizing: border-box;text-align: center;}#sk-container-id-2 label.sk-toggleable__label-arrow:before {content: \"▸\";float: left;margin-right: 0.25em;color: #696969;}#sk-container-id-2 label.sk-toggleable__label-arrow:hover:before {color: black;}#sk-container-id-2 div.sk-estimator:hover label.sk-toggleable__label-arrow:before {color: black;}#sk-container-id-2 div.sk-toggleable__content {max-height: 0;max-width: 0;overflow: hidden;text-align: left;background-color: #f0f8ff;}#sk-container-id-2 div.sk-toggleable__content pre {margin: 0.2em;color: black;border-radius: 0.25em;background-color: #f0f8ff;}#sk-container-id-2 input.sk-toggleable__control:checked~div.sk-toggleable__content {max-height: 200px;max-width: 100%;overflow: auto;}#sk-container-id-2 input.sk-toggleable__control:checked~label.sk-toggleable__label-arrow:before {content: \"▾\";}#sk-container-id-2 div.sk-estimator input.sk-toggleable__control:checked~label.sk-toggleable__label {background-color: #d4ebff;}#sk-container-id-2 div.sk-label input.sk-toggleable__control:checked~label.sk-toggleable__label {background-color: #d4ebff;}#sk-container-id-2 input.sk-hidden--visually {border: 0;clip: rect(1px 1px 1px 1px);clip: rect(1px, 1px, 1px, 1px);height: 1px;margin: -1px;overflow: hidden;padding: 0;position: absolute;width: 1px;}#sk-container-id-2 div.sk-estimator {font-family: monospace;background-color: #f0f8ff;border: 1px dotted black;border-radius: 0.25em;box-sizing: border-box;margin-bottom: 0.5em;}#sk-container-id-2 div.sk-estimator:hover {background-color: #d4ebff;}#sk-container-id-2 div.sk-parallel-item::after {content: \"\";width: 100%;border-bottom: 1px solid gray;flex-grow: 1;}#sk-container-id-2 div.sk-label:hover label.sk-toggleable__label {background-color: #d4ebff;}#sk-container-id-2 div.sk-serial::before {content: \"\";position: absolute;border-left: 1px solid gray;box-sizing: border-box;top: 0;bottom: 0;left: 50%;z-index: 0;}#sk-container-id-2 div.sk-serial {display: flex;flex-direction: column;align-items: center;background-color: white;padding-right: 0.2em;padding-left: 0.2em;position: relative;}#sk-container-id-2 div.sk-item {position: relative;z-index: 1;}#sk-container-id-2 div.sk-parallel {display: flex;align-items: stretch;justify-content: center;background-color: white;position: relative;}#sk-container-id-2 div.sk-item::before, #sk-container-id-2 div.sk-parallel-item::before {content: \"\";position: absolute;border-left: 1px solid gray;box-sizing: border-box;top: 0;bottom: 0;left: 50%;z-index: -1;}#sk-container-id-2 div.sk-parallel-item {display: flex;flex-direction: column;z-index: 1;position: relative;background-color: white;}#sk-container-id-2 div.sk-parallel-item:first-child::after {align-self: flex-end;width: 50%;}#sk-container-id-2 div.sk-parallel-item:last-child::after {align-self: flex-start;width: 50%;}#sk-container-id-2 div.sk-parallel-item:only-child::after {width: 0;}#sk-container-id-2 div.sk-dashed-wrapped {border: 1px dashed gray;margin: 0 0.4em 0.5em 0.4em;box-sizing: border-box;padding-bottom: 0.4em;background-color: white;}#sk-container-id-2 div.sk-label label {font-family: monospace;font-weight: bold;display: inline-block;line-height: 1.2em;}#sk-container-id-2 div.sk-label-container {text-align: center;}#sk-container-id-2 div.sk-container {/* jupyter's `normalize.less` sets `[hidden] { display: none; }` but bootstrap.min.css set `[hidden] { display: none !important; }` so we also need the `!important` here to be able to override the default hidden behavior on the sphinx rendered scikit-learn.org. See: https://github.com/scikit-learn/scikit-learn/issues/21755 */display: inline-block !important;position: relative;}#sk-container-id-2 div.sk-text-repr-fallback {display: none;}</style><div id=\"sk-container-id-2\" class=\"sk-top-container\"><div class=\"sk-text-repr-fallback\"><pre>KNeighborsRegressor()</pre><b>In a Jupyter environment, please rerun this cell to show the HTML representation or trust the notebook. <br />On GitHub, the HTML representation is unable to render, please try loading this page with nbviewer.org.</b></div><div class=\"sk-container\" hidden><div class=\"sk-item\"><div class=\"sk-estimator sk-toggleable\"><input class=\"sk-toggleable__control sk-hidden--visually\" id=\"sk-estimator-id-2\" type=\"checkbox\" checked><label for=\"sk-estimator-id-2\" class=\"sk-toggleable__label sk-toggleable__label-arrow\">KNeighborsRegressor</label><div class=\"sk-toggleable__content\"><pre>KNeighborsRegressor()</pre></div></div></div></div></div>"
      ],
      "text/plain": [
       "KNeighborsRegressor()"
      ]
     },
     "execution_count": 10,
     "metadata": {},
     "output_type": "execute_result"
    }
   ],
   "source": [
    "knn_reg = KNeighborsRegressor(n_neighbors=5)\n",
    "knn_reg.fit(X_train_gold, y_train_gold)"
   ]
  },
  {
   "cell_type": "markdown",
   "metadata": {},
   "source": [
    "### Оценка качества моделей по выбранным метрикам"
   ]
  },
  {
   "cell_type": "markdown",
   "metadata": {},
   "source": [
    "##### Классификация"
   ]
  },
  {
   "cell_type": "code",
   "execution_count": 11,
   "metadata": {
    "execution": {
     "iopub.execute_input": "2025-01-03T16:47:21.940938Z",
     "iopub.status.busy": "2025-01-03T16:47:21.940399Z",
     "iopub.status.idle": "2025-01-03T16:47:29.359411Z",
     "shell.execute_reply": "2025-01-03T16:47:29.358282Z",
     "shell.execute_reply.started": "2025-01-03T16:47:21.940902Z"
    },
    "trusted": true
   },
   "outputs": [
    {
     "name": "stdout",
     "output_type": "stream",
     "text": [
      "Accuracy: 0.9990767607491428\n",
      "F1 Score: 0.9990767589022207\n"
     ]
    }
   ],
   "source": [
    "y_pred_fraud_origin = knn_clf.predict(X_test_fraud)\n",
    "accuracy_origin = accuracy_score(y_test_fraud, y_pred_fraud_origin)\n",
    "f1_origin = f1_score(y_test_fraud, y_pred_fraud_origin, average='weighted')\n",
    "print(f\"Accuracy: {accuracy_origin}\")\n",
    "print(f\"F1 Score: {f1_origin}\")"
   ]
  },
  {
   "cell_type": "markdown",
   "metadata": {},
   "source": [
    "##### Регрессия"
   ]
  },
  {
   "cell_type": "code",
   "execution_count": 12,
   "metadata": {
    "execution": {
     "iopub.execute_input": "2025-01-03T16:47:29.361023Z",
     "iopub.status.busy": "2025-01-03T16:47:29.360620Z",
     "iopub.status.idle": "2025-01-03T16:47:29.407677Z",
     "shell.execute_reply": "2025-01-03T16:47:29.405228Z",
     "shell.execute_reply.started": "2025-01-03T16:47:29.360983Z"
    },
    "trusted": true
   },
   "outputs": [
    {
     "name": "stdout",
     "output_type": "stream",
     "text": [
      "Mean Absolute Error: 3605268.701468624\n",
      "R-squared: 0.26023132479378674\n"
     ]
    }
   ],
   "source": [
    "y_pred_gold_origin = knn_reg.predict(X_test_gold)\n",
    "mae_origin = mean_absolute_error(y_test_gold, y_pred_gold_origin)\n",
    "r2_origin = r2_score(y_test_gold, y_pred_gold_origin)\n",
    "print(f\"Mean Absolute Error: {mae_origin}\")\n",
    "print(f\"R-squared: {r2_origin}\")"
   ]
  },
  {
   "cell_type": "markdown",
   "metadata": {},
   "source": [
    "## Улучшение бейзлайна"
   ]
  },
  {
   "cell_type": "markdown",
   "metadata": {},
   "source": [
    "### Гипотезы\n",
    "\n",
    "1. Улучшение предобработки данных:\n",
    "   - Масштабирование признаков: проверить необходимость нормализации или стандартизации.\n",
    "\n",
    "2. Формирование новых признаков:\n",
    "   - Создание новых признаков на основе комбинации существующих, с учетом специфики данных.\n",
    "\n",
    "3. Подбор гиперпараметров:\n",
    "   - Использование Grid Search с кросс-валидацией для оптимизации модели."
   ]
  },
  {
   "cell_type": "markdown",
   "metadata": {},
   "source": [
    "### Проверка гипотез"
   ]
  },
  {
   "cell_type": "markdown",
   "metadata": {},
   "source": [
    "#### 1. Препроцессинг данных"
   ]
  },
  {
   "cell_type": "markdown",
   "metadata": {},
   "source": [
    "##### Классификация"
   ]
  },
  {
   "cell_type": "markdown",
   "metadata": {},
   "source": [
    "Масштабирование признаков:"
   ]
  },
  {
   "cell_type": "code",
   "execution_count": 13,
   "metadata": {
    "execution": {
     "iopub.execute_input": "2025-01-03T16:47:29.408696Z",
     "iopub.status.busy": "2025-01-03T16:47:29.408364Z",
     "iopub.status.idle": "2025-01-03T16:47:29.462821Z",
     "shell.execute_reply": "2025-01-03T16:47:29.461718Z",
     "shell.execute_reply.started": "2025-01-03T16:47:29.408668Z"
    },
    "trusted": true
   },
   "outputs": [],
   "source": [
    "scaler_fraud = StandardScaler()\n",
    "X_train_fraud_with_scaler = scaler_fraud.fit_transform(X_train_fraud)\n",
    "X_test_fraud_with_scaler = scaler_fraud.transform(X_test_fraud)"
   ]
  },
  {
   "cell_type": "markdown",
   "metadata": {},
   "source": [
    "Обучение модели:"
   ]
  },
  {
   "cell_type": "code",
   "execution_count": 14,
   "metadata": {
    "execution": {
     "iopub.execute_input": "2025-01-03T16:47:29.464102Z",
     "iopub.status.busy": "2025-01-03T16:47:29.463824Z",
     "iopub.status.idle": "2025-01-03T16:47:29.491094Z",
     "shell.execute_reply": "2025-01-03T16:47:29.490095Z",
     "shell.execute_reply.started": "2025-01-03T16:47:29.464079Z"
    },
    "trusted": true
   },
   "outputs": [
    {
     "data": {
      "text/html": [
       "<style>#sk-container-id-3 {color: black;background-color: white;}#sk-container-id-3 pre{padding: 0;}#sk-container-id-3 div.sk-toggleable {background-color: white;}#sk-container-id-3 label.sk-toggleable__label {cursor: pointer;display: block;width: 100%;margin-bottom: 0;padding: 0.3em;box-sizing: border-box;text-align: center;}#sk-container-id-3 label.sk-toggleable__label-arrow:before {content: \"▸\";float: left;margin-right: 0.25em;color: #696969;}#sk-container-id-3 label.sk-toggleable__label-arrow:hover:before {color: black;}#sk-container-id-3 div.sk-estimator:hover label.sk-toggleable__label-arrow:before {color: black;}#sk-container-id-3 div.sk-toggleable__content {max-height: 0;max-width: 0;overflow: hidden;text-align: left;background-color: #f0f8ff;}#sk-container-id-3 div.sk-toggleable__content pre {margin: 0.2em;color: black;border-radius: 0.25em;background-color: #f0f8ff;}#sk-container-id-3 input.sk-toggleable__control:checked~div.sk-toggleable__content {max-height: 200px;max-width: 100%;overflow: auto;}#sk-container-id-3 input.sk-toggleable__control:checked~label.sk-toggleable__label-arrow:before {content: \"▾\";}#sk-container-id-3 div.sk-estimator input.sk-toggleable__control:checked~label.sk-toggleable__label {background-color: #d4ebff;}#sk-container-id-3 div.sk-label input.sk-toggleable__control:checked~label.sk-toggleable__label {background-color: #d4ebff;}#sk-container-id-3 input.sk-hidden--visually {border: 0;clip: rect(1px 1px 1px 1px);clip: rect(1px, 1px, 1px, 1px);height: 1px;margin: -1px;overflow: hidden;padding: 0;position: absolute;width: 1px;}#sk-container-id-3 div.sk-estimator {font-family: monospace;background-color: #f0f8ff;border: 1px dotted black;border-radius: 0.25em;box-sizing: border-box;margin-bottom: 0.5em;}#sk-container-id-3 div.sk-estimator:hover {background-color: #d4ebff;}#sk-container-id-3 div.sk-parallel-item::after {content: \"\";width: 100%;border-bottom: 1px solid gray;flex-grow: 1;}#sk-container-id-3 div.sk-label:hover label.sk-toggleable__label {background-color: #d4ebff;}#sk-container-id-3 div.sk-serial::before {content: \"\";position: absolute;border-left: 1px solid gray;box-sizing: border-box;top: 0;bottom: 0;left: 50%;z-index: 0;}#sk-container-id-3 div.sk-serial {display: flex;flex-direction: column;align-items: center;background-color: white;padding-right: 0.2em;padding-left: 0.2em;position: relative;}#sk-container-id-3 div.sk-item {position: relative;z-index: 1;}#sk-container-id-3 div.sk-parallel {display: flex;align-items: stretch;justify-content: center;background-color: white;position: relative;}#sk-container-id-3 div.sk-item::before, #sk-container-id-3 div.sk-parallel-item::before {content: \"\";position: absolute;border-left: 1px solid gray;box-sizing: border-box;top: 0;bottom: 0;left: 50%;z-index: -1;}#sk-container-id-3 div.sk-parallel-item {display: flex;flex-direction: column;z-index: 1;position: relative;background-color: white;}#sk-container-id-3 div.sk-parallel-item:first-child::after {align-self: flex-end;width: 50%;}#sk-container-id-3 div.sk-parallel-item:last-child::after {align-self: flex-start;width: 50%;}#sk-container-id-3 div.sk-parallel-item:only-child::after {width: 0;}#sk-container-id-3 div.sk-dashed-wrapped {border: 1px dashed gray;margin: 0 0.4em 0.5em 0.4em;box-sizing: border-box;padding-bottom: 0.4em;background-color: white;}#sk-container-id-3 div.sk-label label {font-family: monospace;font-weight: bold;display: inline-block;line-height: 1.2em;}#sk-container-id-3 div.sk-label-container {text-align: center;}#sk-container-id-3 div.sk-container {/* jupyter's `normalize.less` sets `[hidden] { display: none; }` but bootstrap.min.css set `[hidden] { display: none !important; }` so we also need the `!important` here to be able to override the default hidden behavior on the sphinx rendered scikit-learn.org. See: https://github.com/scikit-learn/scikit-learn/issues/21755 */display: inline-block !important;position: relative;}#sk-container-id-3 div.sk-text-repr-fallback {display: none;}</style><div id=\"sk-container-id-3\" class=\"sk-top-container\"><div class=\"sk-text-repr-fallback\"><pre>KNeighborsClassifier()</pre><b>In a Jupyter environment, please rerun this cell to show the HTML representation or trust the notebook. <br />On GitHub, the HTML representation is unable to render, please try loading this page with nbviewer.org.</b></div><div class=\"sk-container\" hidden><div class=\"sk-item\"><div class=\"sk-estimator sk-toggleable\"><input class=\"sk-toggleable__control sk-hidden--visually\" id=\"sk-estimator-id-3\" type=\"checkbox\" checked><label for=\"sk-estimator-id-3\" class=\"sk-toggleable__label sk-toggleable__label-arrow\">KNeighborsClassifier</label><div class=\"sk-toggleable__content\"><pre>KNeighborsClassifier()</pre></div></div></div></div></div>"
      ],
      "text/plain": [
       "KNeighborsClassifier()"
      ]
     },
     "execution_count": 14,
     "metadata": {},
     "output_type": "execute_result"
    }
   ],
   "source": [
    "knn_clf = KNeighborsClassifier(n_neighbors=5)\n",
    "knn_clf.fit(X_train_fraud_with_scaler, y_train_fraud)"
   ]
  },
  {
   "cell_type": "markdown",
   "metadata": {},
   "source": [
    "Оценка качества модели:"
   ]
  },
  {
   "cell_type": "code",
   "execution_count": 15,
   "metadata": {
    "execution": {
     "iopub.execute_input": "2025-01-03T16:47:29.492313Z",
     "iopub.status.busy": "2025-01-03T16:47:29.492040Z",
     "iopub.status.idle": "2025-01-03T16:47:36.468183Z",
     "shell.execute_reply": "2025-01-03T16:47:36.467029Z",
     "shell.execute_reply.started": "2025-01-03T16:47:29.492290Z"
    },
    "trusted": true
   },
   "outputs": [
    {
     "name": "stdout",
     "output_type": "stream",
     "text": [
      "Accuracy: 0.9980216301767344\n",
      "F1 Score: 0.9980216319854016\n"
     ]
    }
   ],
   "source": [
    "y_pred_fraud = knn_clf.predict(X_test_fraud_with_scaler)\n",
    "accuracy = accuracy_score(y_test_fraud, y_pred_fraud)\n",
    "f1 = f1_score(y_test_fraud, y_pred_fraud, average='weighted')\n",
    "print(f\"Accuracy: {accuracy}\")\n",
    "print(f\"F1 Score: {f1}\")"
   ]
  },
  {
   "cell_type": "markdown",
   "metadata": {},
   "source": [
    "##### Регрессия"
   ]
  },
  {
   "cell_type": "markdown",
   "metadata": {},
   "source": [
    "Масштабирование признаков:"
   ]
  },
  {
   "cell_type": "code",
   "execution_count": 16,
   "metadata": {
    "execution": {
     "iopub.execute_input": "2025-01-03T16:47:36.469669Z",
     "iopub.status.busy": "2025-01-03T16:47:36.469345Z",
     "iopub.status.idle": "2025-01-03T16:47:36.477887Z",
     "shell.execute_reply": "2025-01-03T16:47:36.476861Z",
     "shell.execute_reply.started": "2025-01-03T16:47:36.469640Z"
    },
    "trusted": true
   },
   "outputs": [],
   "source": [
    "scaler_gold = StandardScaler()\n",
    "X_train_gold_with_scaler = scaler_gold.fit_transform(X_train_gold)\n",
    "X_test_gold_with_scaler = scaler_gold.transform(X_test_gold)"
   ]
  },
  {
   "cell_type": "markdown",
   "metadata": {},
   "source": [
    "Обучение модели:"
   ]
  },
  {
   "cell_type": "code",
   "execution_count": 17,
   "metadata": {
    "execution": {
     "iopub.execute_input": "2025-01-03T16:47:36.479278Z",
     "iopub.status.busy": "2025-01-03T16:47:36.478905Z",
     "iopub.status.idle": "2025-01-03T16:47:36.502859Z",
     "shell.execute_reply": "2025-01-03T16:47:36.501602Z",
     "shell.execute_reply.started": "2025-01-03T16:47:36.479239Z"
    },
    "trusted": true
   },
   "outputs": [
    {
     "data": {
      "text/html": [
       "<style>#sk-container-id-4 {color: black;background-color: white;}#sk-container-id-4 pre{padding: 0;}#sk-container-id-4 div.sk-toggleable {background-color: white;}#sk-container-id-4 label.sk-toggleable__label {cursor: pointer;display: block;width: 100%;margin-bottom: 0;padding: 0.3em;box-sizing: border-box;text-align: center;}#sk-container-id-4 label.sk-toggleable__label-arrow:before {content: \"▸\";float: left;margin-right: 0.25em;color: #696969;}#sk-container-id-4 label.sk-toggleable__label-arrow:hover:before {color: black;}#sk-container-id-4 div.sk-estimator:hover label.sk-toggleable__label-arrow:before {color: black;}#sk-container-id-4 div.sk-toggleable__content {max-height: 0;max-width: 0;overflow: hidden;text-align: left;background-color: #f0f8ff;}#sk-container-id-4 div.sk-toggleable__content pre {margin: 0.2em;color: black;border-radius: 0.25em;background-color: #f0f8ff;}#sk-container-id-4 input.sk-toggleable__control:checked~div.sk-toggleable__content {max-height: 200px;max-width: 100%;overflow: auto;}#sk-container-id-4 input.sk-toggleable__control:checked~label.sk-toggleable__label-arrow:before {content: \"▾\";}#sk-container-id-4 div.sk-estimator input.sk-toggleable__control:checked~label.sk-toggleable__label {background-color: #d4ebff;}#sk-container-id-4 div.sk-label input.sk-toggleable__control:checked~label.sk-toggleable__label {background-color: #d4ebff;}#sk-container-id-4 input.sk-hidden--visually {border: 0;clip: rect(1px 1px 1px 1px);clip: rect(1px, 1px, 1px, 1px);height: 1px;margin: -1px;overflow: hidden;padding: 0;position: absolute;width: 1px;}#sk-container-id-4 div.sk-estimator {font-family: monospace;background-color: #f0f8ff;border: 1px dotted black;border-radius: 0.25em;box-sizing: border-box;margin-bottom: 0.5em;}#sk-container-id-4 div.sk-estimator:hover {background-color: #d4ebff;}#sk-container-id-4 div.sk-parallel-item::after {content: \"\";width: 100%;border-bottom: 1px solid gray;flex-grow: 1;}#sk-container-id-4 div.sk-label:hover label.sk-toggleable__label {background-color: #d4ebff;}#sk-container-id-4 div.sk-serial::before {content: \"\";position: absolute;border-left: 1px solid gray;box-sizing: border-box;top: 0;bottom: 0;left: 50%;z-index: 0;}#sk-container-id-4 div.sk-serial {display: flex;flex-direction: column;align-items: center;background-color: white;padding-right: 0.2em;padding-left: 0.2em;position: relative;}#sk-container-id-4 div.sk-item {position: relative;z-index: 1;}#sk-container-id-4 div.sk-parallel {display: flex;align-items: stretch;justify-content: center;background-color: white;position: relative;}#sk-container-id-4 div.sk-item::before, #sk-container-id-4 div.sk-parallel-item::before {content: \"\";position: absolute;border-left: 1px solid gray;box-sizing: border-box;top: 0;bottom: 0;left: 50%;z-index: -1;}#sk-container-id-4 div.sk-parallel-item {display: flex;flex-direction: column;z-index: 1;position: relative;background-color: white;}#sk-container-id-4 div.sk-parallel-item:first-child::after {align-self: flex-end;width: 50%;}#sk-container-id-4 div.sk-parallel-item:last-child::after {align-self: flex-start;width: 50%;}#sk-container-id-4 div.sk-parallel-item:only-child::after {width: 0;}#sk-container-id-4 div.sk-dashed-wrapped {border: 1px dashed gray;margin: 0 0.4em 0.5em 0.4em;box-sizing: border-box;padding-bottom: 0.4em;background-color: white;}#sk-container-id-4 div.sk-label label {font-family: monospace;font-weight: bold;display: inline-block;line-height: 1.2em;}#sk-container-id-4 div.sk-label-container {text-align: center;}#sk-container-id-4 div.sk-container {/* jupyter's `normalize.less` sets `[hidden] { display: none; }` but bootstrap.min.css set `[hidden] { display: none !important; }` so we also need the `!important` here to be able to override the default hidden behavior on the sphinx rendered scikit-learn.org. See: https://github.com/scikit-learn/scikit-learn/issues/21755 */display: inline-block !important;position: relative;}#sk-container-id-4 div.sk-text-repr-fallback {display: none;}</style><div id=\"sk-container-id-4\" class=\"sk-top-container\"><div class=\"sk-text-repr-fallback\"><pre>KNeighborsRegressor()</pre><b>In a Jupyter environment, please rerun this cell to show the HTML representation or trust the notebook. <br />On GitHub, the HTML representation is unable to render, please try loading this page with nbviewer.org.</b></div><div class=\"sk-container\" hidden><div class=\"sk-item\"><div class=\"sk-estimator sk-toggleable\"><input class=\"sk-toggleable__control sk-hidden--visually\" id=\"sk-estimator-id-4\" type=\"checkbox\" checked><label for=\"sk-estimator-id-4\" class=\"sk-toggleable__label sk-toggleable__label-arrow\">KNeighborsRegressor</label><div class=\"sk-toggleable__content\"><pre>KNeighborsRegressor()</pre></div></div></div></div></div>"
      ],
      "text/plain": [
       "KNeighborsRegressor()"
      ]
     },
     "execution_count": 17,
     "metadata": {},
     "output_type": "execute_result"
    }
   ],
   "source": [
    "knn_reg = KNeighborsRegressor(n_neighbors=5)\n",
    "knn_reg.fit(X_train_gold_with_scaler, y_train_gold)"
   ]
  },
  {
   "cell_type": "markdown",
   "metadata": {},
   "source": [
    "Оценка качества модели:"
   ]
  },
  {
   "cell_type": "code",
   "execution_count": 18,
   "metadata": {
    "execution": {
     "iopub.execute_input": "2025-01-03T16:47:36.504368Z",
     "iopub.status.busy": "2025-01-03T16:47:36.504058Z",
     "iopub.status.idle": "2025-01-03T16:47:36.535247Z",
     "shell.execute_reply": "2025-01-03T16:47:36.533315Z",
     "shell.execute_reply.started": "2025-01-03T16:47:36.504345Z"
    },
    "trusted": true
   },
   "outputs": [
    {
     "name": "stdout",
     "output_type": "stream",
     "text": [
      "Mean Absolute Error: 2456822.1217623497\n",
      "R-squared: 0.5848677706844285\n"
     ]
    }
   ],
   "source": [
    "y_pred_gold = knn_reg.predict(X_test_gold_with_scaler)\n",
    "mae = mean_absolute_error(y_test_gold, y_pred_gold)\n",
    "r2 = r2_score(y_test_gold, y_pred_gold)\n",
    "print(f\"Mean Absolute Error: {mae}\")\n",
    "print(f\"R-squared: {r2}\")"
   ]
  },
  {
   "cell_type": "markdown",
   "metadata": {},
   "source": [
    "#### 2. Формирование новых признаков"
   ]
  },
  {
   "cell_type": "markdown",
   "metadata": {},
   "source": [
    "##### Классификация"
   ]
  },
  {
   "cell_type": "markdown",
   "metadata": {},
   "source": [
    "Добавления нового признака:"
   ]
  },
  {
   "cell_type": "code",
   "execution_count": 19,
   "metadata": {
    "execution": {
     "iopub.execute_input": "2025-01-03T16:47:36.536200Z",
     "iopub.status.busy": "2025-01-03T16:47:36.535931Z",
     "iopub.status.idle": "2025-01-03T16:47:36.567167Z",
     "shell.execute_reply": "2025-01-03T16:47:36.565944Z",
     "shell.execute_reply.started": "2025-01-03T16:47:36.536177Z"
    },
    "trusted": true
   },
   "outputs": [],
   "source": [
    "X_fraud_with_new_future = X_fraud.copy()"
   ]
  },
  {
   "cell_type": "code",
   "execution_count": 20,
   "metadata": {
    "execution": {
     "iopub.execute_input": "2025-01-03T16:47:36.568726Z",
     "iopub.status.busy": "2025-01-03T16:47:36.568238Z",
     "iopub.status.idle": "2025-01-03T16:47:36.575339Z",
     "shell.execute_reply": "2025-01-03T16:47:36.574195Z",
     "shell.execute_reply.started": "2025-01-03T16:47:36.568683Z"
    },
    "trusted": true
   },
   "outputs": [],
   "source": [
    "X_fraud_with_new_future[\"new_future\"] = X_fraud_with_new_future[\"V1\"] * X_fraud_with_new_future[\"V2\"]"
   ]
  },
  {
   "cell_type": "markdown",
   "metadata": {},
   "source": [
    "Разделение на тренировочный и тестовый наборы:"
   ]
  },
  {
   "cell_type": "code",
   "execution_count": 21,
   "metadata": {
    "execution": {
     "iopub.execute_input": "2025-01-03T16:47:36.577226Z",
     "iopub.status.busy": "2025-01-03T16:47:36.576774Z",
     "iopub.status.idle": "2025-01-03T16:47:36.635679Z",
     "shell.execute_reply": "2025-01-03T16:47:36.634732Z",
     "shell.execute_reply.started": "2025-01-03T16:47:36.577193Z"
    },
    "trusted": true
   },
   "outputs": [],
   "source": [
    "X_train_fraud, X_test_fraud, y_train_fraud, y_test_fraud = train_test_split(X_fraud_with_new_future, y_fraud, test_size=0.2, random_state=42)"
   ]
  },
  {
   "cell_type": "markdown",
   "metadata": {},
   "source": [
    "Замена пропущенных значений:"
   ]
  },
  {
   "cell_type": "code",
   "execution_count": 22,
   "metadata": {
    "execution": {
     "iopub.execute_input": "2025-01-03T16:47:36.637453Z",
     "iopub.status.busy": "2025-01-03T16:47:36.637064Z",
     "iopub.status.idle": "2025-01-03T16:47:36.709663Z",
     "shell.execute_reply": "2025-01-03T16:47:36.708539Z",
     "shell.execute_reply.started": "2025-01-03T16:47:36.637415Z"
    },
    "trusted": true
   },
   "outputs": [],
   "source": [
    "imputer = SimpleImputer(strategy='mean')\n",
    "X_train_fraud = pd.DataFrame(imputer.fit_transform(X_train_fraud))\n",
    "X_test_fraud = pd.DataFrame(imputer.transform(X_test_fraud))"
   ]
  },
  {
   "cell_type": "markdown",
   "metadata": {},
   "source": [
    "Масштабирование признаков:"
   ]
  },
  {
   "cell_type": "code",
   "execution_count": 23,
   "metadata": {
    "execution": {
     "iopub.execute_input": "2025-01-03T16:47:36.799036Z",
     "iopub.status.busy": "2025-01-03T16:47:36.798658Z",
     "iopub.status.idle": "2025-01-03T16:47:36.846783Z",
     "shell.execute_reply": "2025-01-03T16:47:36.845648Z",
     "shell.execute_reply.started": "2025-01-03T16:47:36.799010Z"
    },
    "trusted": true
   },
   "outputs": [],
   "source": [
    "scaler_fraud = StandardScaler()\n",
    "X_train_fraud = scaler_fraud.fit_transform(X_train_fraud)\n",
    "X_test_fraud = scaler_fraud.transform(X_test_fraud)"
   ]
  },
  {
   "cell_type": "markdown",
   "metadata": {},
   "source": [
    "Обучение модели:"
   ]
  },
  {
   "cell_type": "code",
   "execution_count": 24,
   "metadata": {
    "execution": {
     "iopub.execute_input": "2025-01-03T16:47:36.849951Z",
     "iopub.status.busy": "2025-01-03T16:47:36.849644Z",
     "iopub.status.idle": "2025-01-03T16:47:36.874771Z",
     "shell.execute_reply": "2025-01-03T16:47:36.873905Z",
     "shell.execute_reply.started": "2025-01-03T16:47:36.849926Z"
    },
    "trusted": true
   },
   "outputs": [
    {
     "data": {
      "text/html": [
       "<style>#sk-container-id-5 {color: black;background-color: white;}#sk-container-id-5 pre{padding: 0;}#sk-container-id-5 div.sk-toggleable {background-color: white;}#sk-container-id-5 label.sk-toggleable__label {cursor: pointer;display: block;width: 100%;margin-bottom: 0;padding: 0.3em;box-sizing: border-box;text-align: center;}#sk-container-id-5 label.sk-toggleable__label-arrow:before {content: \"▸\";float: left;margin-right: 0.25em;color: #696969;}#sk-container-id-5 label.sk-toggleable__label-arrow:hover:before {color: black;}#sk-container-id-5 div.sk-estimator:hover label.sk-toggleable__label-arrow:before {color: black;}#sk-container-id-5 div.sk-toggleable__content {max-height: 0;max-width: 0;overflow: hidden;text-align: left;background-color: #f0f8ff;}#sk-container-id-5 div.sk-toggleable__content pre {margin: 0.2em;color: black;border-radius: 0.25em;background-color: #f0f8ff;}#sk-container-id-5 input.sk-toggleable__control:checked~div.sk-toggleable__content {max-height: 200px;max-width: 100%;overflow: auto;}#sk-container-id-5 input.sk-toggleable__control:checked~label.sk-toggleable__label-arrow:before {content: \"▾\";}#sk-container-id-5 div.sk-estimator input.sk-toggleable__control:checked~label.sk-toggleable__label {background-color: #d4ebff;}#sk-container-id-5 div.sk-label input.sk-toggleable__control:checked~label.sk-toggleable__label {background-color: #d4ebff;}#sk-container-id-5 input.sk-hidden--visually {border: 0;clip: rect(1px 1px 1px 1px);clip: rect(1px, 1px, 1px, 1px);height: 1px;margin: -1px;overflow: hidden;padding: 0;position: absolute;width: 1px;}#sk-container-id-5 div.sk-estimator {font-family: monospace;background-color: #f0f8ff;border: 1px dotted black;border-radius: 0.25em;box-sizing: border-box;margin-bottom: 0.5em;}#sk-container-id-5 div.sk-estimator:hover {background-color: #d4ebff;}#sk-container-id-5 div.sk-parallel-item::after {content: \"\";width: 100%;border-bottom: 1px solid gray;flex-grow: 1;}#sk-container-id-5 div.sk-label:hover label.sk-toggleable__label {background-color: #d4ebff;}#sk-container-id-5 div.sk-serial::before {content: \"\";position: absolute;border-left: 1px solid gray;box-sizing: border-box;top: 0;bottom: 0;left: 50%;z-index: 0;}#sk-container-id-5 div.sk-serial {display: flex;flex-direction: column;align-items: center;background-color: white;padding-right: 0.2em;padding-left: 0.2em;position: relative;}#sk-container-id-5 div.sk-item {position: relative;z-index: 1;}#sk-container-id-5 div.sk-parallel {display: flex;align-items: stretch;justify-content: center;background-color: white;position: relative;}#sk-container-id-5 div.sk-item::before, #sk-container-id-5 div.sk-parallel-item::before {content: \"\";position: absolute;border-left: 1px solid gray;box-sizing: border-box;top: 0;bottom: 0;left: 50%;z-index: -1;}#sk-container-id-5 div.sk-parallel-item {display: flex;flex-direction: column;z-index: 1;position: relative;background-color: white;}#sk-container-id-5 div.sk-parallel-item:first-child::after {align-self: flex-end;width: 50%;}#sk-container-id-5 div.sk-parallel-item:last-child::after {align-self: flex-start;width: 50%;}#sk-container-id-5 div.sk-parallel-item:only-child::after {width: 0;}#sk-container-id-5 div.sk-dashed-wrapped {border: 1px dashed gray;margin: 0 0.4em 0.5em 0.4em;box-sizing: border-box;padding-bottom: 0.4em;background-color: white;}#sk-container-id-5 div.sk-label label {font-family: monospace;font-weight: bold;display: inline-block;line-height: 1.2em;}#sk-container-id-5 div.sk-label-container {text-align: center;}#sk-container-id-5 div.sk-container {/* jupyter's `normalize.less` sets `[hidden] { display: none; }` but bootstrap.min.css set `[hidden] { display: none !important; }` so we also need the `!important` here to be able to override the default hidden behavior on the sphinx rendered scikit-learn.org. See: https://github.com/scikit-learn/scikit-learn/issues/21755 */display: inline-block !important;position: relative;}#sk-container-id-5 div.sk-text-repr-fallback {display: none;}</style><div id=\"sk-container-id-5\" class=\"sk-top-container\"><div class=\"sk-text-repr-fallback\"><pre>KNeighborsClassifier()</pre><b>In a Jupyter environment, please rerun this cell to show the HTML representation or trust the notebook. <br />On GitHub, the HTML representation is unable to render, please try loading this page with nbviewer.org.</b></div><div class=\"sk-container\" hidden><div class=\"sk-item\"><div class=\"sk-estimator sk-toggleable\"><input class=\"sk-toggleable__control sk-hidden--visually\" id=\"sk-estimator-id-5\" type=\"checkbox\" checked><label for=\"sk-estimator-id-5\" class=\"sk-toggleable__label sk-toggleable__label-arrow\">KNeighborsClassifier</label><div class=\"sk-toggleable__content\"><pre>KNeighborsClassifier()</pre></div></div></div></div></div>"
      ],
      "text/plain": [
       "KNeighborsClassifier()"
      ]
     },
     "execution_count": 24,
     "metadata": {},
     "output_type": "execute_result"
    }
   ],
   "source": [
    "knn_clf = KNeighborsClassifier(n_neighbors=5)\n",
    "knn_clf.fit(X_train_fraud, y_train_fraud)"
   ]
  },
  {
   "cell_type": "markdown",
   "metadata": {},
   "source": [
    "Оценка качества модели:"
   ]
  },
  {
   "cell_type": "code",
   "execution_count": 25,
   "metadata": {
    "execution": {
     "iopub.execute_input": "2025-01-03T16:47:36.875963Z",
     "iopub.status.busy": "2025-01-03T16:47:36.875710Z",
     "iopub.status.idle": "2025-01-03T16:47:43.733192Z",
     "shell.execute_reply": "2025-01-03T16:47:43.731668Z",
     "shell.execute_reply.started": "2025-01-03T16:47:36.875942Z"
    },
    "trusted": true
   },
   "outputs": [
    {
     "name": "stdout",
     "output_type": "stream",
     "text": [
      "Accuracy: 0.9980216301767344\n",
      "F1 Score: 0.9980216319854016\n"
     ]
    }
   ],
   "source": [
    "y_pred_fraud = knn_clf.predict(X_test_fraud)\n",
    "accuracy = accuracy_score(y_test_fraud, y_pred_fraud)\n",
    "f1 = f1_score(y_test_fraud, y_pred_fraud, average='weighted')\n",
    "print(f\"Accuracy: {accuracy}\")\n",
    "print(f\"F1 Score: {f1}\")"
   ]
  },
  {
   "cell_type": "markdown",
   "metadata": {},
   "source": [
    "##### Регрессия"
   ]
  },
  {
   "cell_type": "markdown",
   "metadata": {},
   "source": [
    "Добавления нового признака:"
   ]
  },
  {
   "cell_type": "code",
   "execution_count": 26,
   "metadata": {
    "execution": {
     "iopub.execute_input": "2025-01-03T16:47:43.734740Z",
     "iopub.status.busy": "2025-01-03T16:47:43.734413Z",
     "iopub.status.idle": "2025-01-03T16:47:43.739591Z",
     "shell.execute_reply": "2025-01-03T16:47:43.738430Z",
     "shell.execute_reply.started": "2025-01-03T16:47:43.734711Z"
    },
    "trusted": true
   },
   "outputs": [],
   "source": [
    "X_gold_with_new_future = X_gold.copy()"
   ]
  },
  {
   "cell_type": "code",
   "execution_count": 27,
   "metadata": {
    "execution": {
     "iopub.execute_input": "2025-01-03T16:47:43.742219Z",
     "iopub.status.busy": "2025-01-03T16:47:43.741794Z",
     "iopub.status.idle": "2025-01-03T16:47:43.769210Z",
     "shell.execute_reply": "2025-01-03T16:47:43.768093Z",
     "shell.execute_reply.started": "2025-01-03T16:47:43.742187Z"
    },
    "trusted": true
   },
   "outputs": [],
   "source": [
    "X_gold_with_new_future[\"new_future\"] = X_gold_with_new_future[\"silver open\"] * X_gold_with_new_future[\"oil open\"]"
   ]
  },
  {
   "cell_type": "markdown",
   "metadata": {},
   "source": [
    "Разделение на тренировочный и тестовый наборы:"
   ]
  },
  {
   "cell_type": "code",
   "execution_count": 28,
   "metadata": {
    "execution": {
     "iopub.execute_input": "2025-01-03T16:47:43.771037Z",
     "iopub.status.busy": "2025-01-03T16:47:43.770632Z",
     "iopub.status.idle": "2025-01-03T16:47:43.794466Z",
     "shell.execute_reply": "2025-01-03T16:47:43.793349Z",
     "shell.execute_reply.started": "2025-01-03T16:47:43.770996Z"
    },
    "trusted": true
   },
   "outputs": [],
   "source": [
    "X_train_gold, X_test_gold, y_train_gold, y_test_gold = train_test_split(X_gold_with_new_future, y_gold, test_size=0.2, random_state=42)"
   ]
  },
  {
   "cell_type": "markdown",
   "metadata": {},
   "source": [
    "Замена пропущенных значений:"
   ]
  },
  {
   "cell_type": "code",
   "execution_count": 29,
   "metadata": {
    "execution": {
     "iopub.execute_input": "2025-01-03T16:47:43.796052Z",
     "iopub.status.busy": "2025-01-03T16:47:43.795678Z",
     "iopub.status.idle": "2025-01-03T16:47:43.832407Z",
     "shell.execute_reply": "2025-01-03T16:47:43.831275Z",
     "shell.execute_reply.started": "2025-01-03T16:47:43.796014Z"
    },
    "trusted": true
   },
   "outputs": [],
   "source": [
    "imputer = SimpleImputer(strategy='mean')\n",
    "X_train_gold = imputer.fit_transform(X_train_gold)\n",
    "X_test_gold = imputer.transform(X_test_gold)"
   ]
  },
  {
   "cell_type": "markdown",
   "metadata": {},
   "source": [
    "Удаление строк с пропущенными значениями:"
   ]
  },
  {
   "cell_type": "code",
   "execution_count": 30,
   "metadata": {
    "execution": {
     "iopub.execute_input": "2025-01-03T16:47:43.834074Z",
     "iopub.status.busy": "2025-01-03T16:47:43.833692Z",
     "iopub.status.idle": "2025-01-03T16:47:43.842699Z",
     "shell.execute_reply": "2025-01-03T16:47:43.841522Z",
     "shell.execute_reply.started": "2025-01-03T16:47:43.834035Z"
    },
    "trusted": true
   },
   "outputs": [],
   "source": [
    "mask = ~np.isnan(y_train_gold)\n",
    "X_train_gold = X_train_gold[mask]\n",
    "y_train_gold = y_train_gold[mask]\n",
    "\n",
    "mask_test = ~np.isnan(y_test_gold)\n",
    "X_test_gold = X_test_gold[mask_test]\n",
    "y_test_gold = y_test_gold[mask_test]"
   ]
  },
  {
   "cell_type": "markdown",
   "metadata": {},
   "source": [
    "Масштабирование признаков:"
   ]
  },
  {
   "cell_type": "code",
   "execution_count": 31,
   "metadata": {
    "execution": {
     "iopub.execute_input": "2025-01-03T16:47:43.844179Z",
     "iopub.status.busy": "2025-01-03T16:47:43.843856Z",
     "iopub.status.idle": "2025-01-03T16:47:43.872148Z",
     "shell.execute_reply": "2025-01-03T16:47:43.870285Z",
     "shell.execute_reply.started": "2025-01-03T16:47:43.844148Z"
    },
    "trusted": true
   },
   "outputs": [],
   "source": [
    "scaler_gold = StandardScaler()\n",
    "X_train_gold = scaler_gold.fit_transform(X_train_gold)\n",
    "X_test_gold = scaler_gold.transform(X_test_gold)"
   ]
  },
  {
   "cell_type": "markdown",
   "metadata": {},
   "source": [
    "Обучение модели:"
   ]
  },
  {
   "cell_type": "code",
   "execution_count": 32,
   "metadata": {
    "execution": {
     "iopub.execute_input": "2025-01-03T16:47:43.874066Z",
     "iopub.status.busy": "2025-01-03T16:47:43.873355Z",
     "iopub.status.idle": "2025-01-03T16:47:43.889402Z",
     "shell.execute_reply": "2025-01-03T16:47:43.888305Z",
     "shell.execute_reply.started": "2025-01-03T16:47:43.873973Z"
    },
    "trusted": true
   },
   "outputs": [
    {
     "data": {
      "text/html": [
       "<style>#sk-container-id-6 {color: black;background-color: white;}#sk-container-id-6 pre{padding: 0;}#sk-container-id-6 div.sk-toggleable {background-color: white;}#sk-container-id-6 label.sk-toggleable__label {cursor: pointer;display: block;width: 100%;margin-bottom: 0;padding: 0.3em;box-sizing: border-box;text-align: center;}#sk-container-id-6 label.sk-toggleable__label-arrow:before {content: \"▸\";float: left;margin-right: 0.25em;color: #696969;}#sk-container-id-6 label.sk-toggleable__label-arrow:hover:before {color: black;}#sk-container-id-6 div.sk-estimator:hover label.sk-toggleable__label-arrow:before {color: black;}#sk-container-id-6 div.sk-toggleable__content {max-height: 0;max-width: 0;overflow: hidden;text-align: left;background-color: #f0f8ff;}#sk-container-id-6 div.sk-toggleable__content pre {margin: 0.2em;color: black;border-radius: 0.25em;background-color: #f0f8ff;}#sk-container-id-6 input.sk-toggleable__control:checked~div.sk-toggleable__content {max-height: 200px;max-width: 100%;overflow: auto;}#sk-container-id-6 input.sk-toggleable__control:checked~label.sk-toggleable__label-arrow:before {content: \"▾\";}#sk-container-id-6 div.sk-estimator input.sk-toggleable__control:checked~label.sk-toggleable__label {background-color: #d4ebff;}#sk-container-id-6 div.sk-label input.sk-toggleable__control:checked~label.sk-toggleable__label {background-color: #d4ebff;}#sk-container-id-6 input.sk-hidden--visually {border: 0;clip: rect(1px 1px 1px 1px);clip: rect(1px, 1px, 1px, 1px);height: 1px;margin: -1px;overflow: hidden;padding: 0;position: absolute;width: 1px;}#sk-container-id-6 div.sk-estimator {font-family: monospace;background-color: #f0f8ff;border: 1px dotted black;border-radius: 0.25em;box-sizing: border-box;margin-bottom: 0.5em;}#sk-container-id-6 div.sk-estimator:hover {background-color: #d4ebff;}#sk-container-id-6 div.sk-parallel-item::after {content: \"\";width: 100%;border-bottom: 1px solid gray;flex-grow: 1;}#sk-container-id-6 div.sk-label:hover label.sk-toggleable__label {background-color: #d4ebff;}#sk-container-id-6 div.sk-serial::before {content: \"\";position: absolute;border-left: 1px solid gray;box-sizing: border-box;top: 0;bottom: 0;left: 50%;z-index: 0;}#sk-container-id-6 div.sk-serial {display: flex;flex-direction: column;align-items: center;background-color: white;padding-right: 0.2em;padding-left: 0.2em;position: relative;}#sk-container-id-6 div.sk-item {position: relative;z-index: 1;}#sk-container-id-6 div.sk-parallel {display: flex;align-items: stretch;justify-content: center;background-color: white;position: relative;}#sk-container-id-6 div.sk-item::before, #sk-container-id-6 div.sk-parallel-item::before {content: \"\";position: absolute;border-left: 1px solid gray;box-sizing: border-box;top: 0;bottom: 0;left: 50%;z-index: -1;}#sk-container-id-6 div.sk-parallel-item {display: flex;flex-direction: column;z-index: 1;position: relative;background-color: white;}#sk-container-id-6 div.sk-parallel-item:first-child::after {align-self: flex-end;width: 50%;}#sk-container-id-6 div.sk-parallel-item:last-child::after {align-self: flex-start;width: 50%;}#sk-container-id-6 div.sk-parallel-item:only-child::after {width: 0;}#sk-container-id-6 div.sk-dashed-wrapped {border: 1px dashed gray;margin: 0 0.4em 0.5em 0.4em;box-sizing: border-box;padding-bottom: 0.4em;background-color: white;}#sk-container-id-6 div.sk-label label {font-family: monospace;font-weight: bold;display: inline-block;line-height: 1.2em;}#sk-container-id-6 div.sk-label-container {text-align: center;}#sk-container-id-6 div.sk-container {/* jupyter's `normalize.less` sets `[hidden] { display: none; }` but bootstrap.min.css set `[hidden] { display: none !important; }` so we also need the `!important` here to be able to override the default hidden behavior on the sphinx rendered scikit-learn.org. See: https://github.com/scikit-learn/scikit-learn/issues/21755 */display: inline-block !important;position: relative;}#sk-container-id-6 div.sk-text-repr-fallback {display: none;}</style><div id=\"sk-container-id-6\" class=\"sk-top-container\"><div class=\"sk-text-repr-fallback\"><pre>KNeighborsRegressor()</pre><b>In a Jupyter environment, please rerun this cell to show the HTML representation or trust the notebook. <br />On GitHub, the HTML representation is unable to render, please try loading this page with nbviewer.org.</b></div><div class=\"sk-container\" hidden><div class=\"sk-item\"><div class=\"sk-estimator sk-toggleable\"><input class=\"sk-toggleable__control sk-hidden--visually\" id=\"sk-estimator-id-6\" type=\"checkbox\" checked><label for=\"sk-estimator-id-6\" class=\"sk-toggleable__label sk-toggleable__label-arrow\">KNeighborsRegressor</label><div class=\"sk-toggleable__content\"><pre>KNeighborsRegressor()</pre></div></div></div></div></div>"
      ],
      "text/plain": [
       "KNeighborsRegressor()"
      ]
     },
     "execution_count": 32,
     "metadata": {},
     "output_type": "execute_result"
    }
   ],
   "source": [
    "knn_reg = KNeighborsRegressor(n_neighbors=5)\n",
    "knn_reg.fit(X_train_gold, y_train_gold)"
   ]
  },
  {
   "cell_type": "markdown",
   "metadata": {},
   "source": [
    "Оценка качества модели:"
   ]
  },
  {
   "cell_type": "code",
   "execution_count": 33,
   "metadata": {
    "execution": {
     "iopub.execute_input": "2025-01-03T16:47:43.891032Z",
     "iopub.status.busy": "2025-01-03T16:47:43.890758Z",
     "iopub.status.idle": "2025-01-03T16:47:43.928277Z",
     "shell.execute_reply": "2025-01-03T16:47:43.926443Z",
     "shell.execute_reply.started": "2025-01-03T16:47:43.891008Z"
    },
    "trusted": true
   },
   "outputs": [
    {
     "name": "stdout",
     "output_type": "stream",
     "text": [
      "Mean Absolute Error: 2458516.087850468\n",
      "R-squared: 0.5869693562024589\n"
     ]
    }
   ],
   "source": [
    "y_pred_gold = knn_reg.predict(X_test_gold)\n",
    "mae = mean_absolute_error(y_test_gold, y_pred_gold)\n",
    "r2 = r2_score(y_test_gold, y_pred_gold)\n",
    "print(f\"Mean Absolute Error: {mae}\")\n",
    "print(f\"R-squared: {r2}\")"
   ]
  },
  {
   "cell_type": "markdown",
   "metadata": {},
   "source": [
    "#### 3. Подбор гиперпараметров"
   ]
  },
  {
   "cell_type": "markdown",
   "metadata": {},
   "source": [
    "##### Классификация"
   ]
  },
  {
   "cell_type": "markdown",
   "metadata": {},
   "source": [
    "Разделение на тренировочный и тестовый наборы:"
   ]
  },
  {
   "cell_type": "code",
   "execution_count": 34,
   "metadata": {
    "execution": {
     "iopub.execute_input": "2025-01-03T16:47:43.930053Z",
     "iopub.status.busy": "2025-01-03T16:47:43.929355Z",
     "iopub.status.idle": "2025-01-03T16:47:43.977148Z",
     "shell.execute_reply": "2025-01-03T16:47:43.976120Z",
     "shell.execute_reply.started": "2025-01-03T16:47:43.930015Z"
    },
    "trusted": true
   },
   "outputs": [],
   "source": [
    "X_train_fraud, X_test_fraud, y_train_fraud, y_test_fraud = train_test_split(X_fraud, y_fraud, test_size=0.2, random_state=42)"
   ]
  },
  {
   "cell_type": "markdown",
   "metadata": {},
   "source": [
    "Замена пропущенных значений:"
   ]
  },
  {
   "cell_type": "code",
   "execution_count": 35,
   "metadata": {
    "execution": {
     "iopub.execute_input": "2025-01-03T16:47:43.978708Z",
     "iopub.status.busy": "2025-01-03T16:47:43.978320Z",
     "iopub.status.idle": "2025-01-03T16:47:44.046684Z",
     "shell.execute_reply": "2025-01-03T16:47:44.045574Z",
     "shell.execute_reply.started": "2025-01-03T16:47:43.978680Z"
    },
    "trusted": true
   },
   "outputs": [],
   "source": [
    "imputer = SimpleImputer(strategy='mean')\n",
    "X_train_fraud = pd.DataFrame(imputer.fit_transform(X_train_fraud))\n",
    "X_test_fraud = pd.DataFrame(imputer.transform(X_test_fraud))"
   ]
  },
  {
   "cell_type": "markdown",
   "metadata": {},
   "source": [
    "Масштабирование признаков:"
   ]
  },
  {
   "cell_type": "code",
   "execution_count": 36,
   "metadata": {
    "execution": {
     "iopub.execute_input": "2025-01-03T16:47:44.048242Z",
     "iopub.status.busy": "2025-01-03T16:47:44.047849Z",
     "iopub.status.idle": "2025-01-03T16:47:44.095130Z",
     "shell.execute_reply": "2025-01-03T16:47:44.093932Z",
     "shell.execute_reply.started": "2025-01-03T16:47:44.048200Z"
    },
    "trusted": true
   },
   "outputs": [],
   "source": [
    "scaler_fraud = StandardScaler()\n",
    "X_train_fraud = scaler_fraud.fit_transform(X_train_fraud)\n",
    "X_test_fraud = scaler_fraud.transform(X_test_fraud)"
   ]
  },
  {
   "cell_type": "markdown",
   "metadata": {},
   "source": [
    "Определение параметров для перебора:"
   ]
  },
  {
   "cell_type": "code",
   "execution_count": 37,
   "metadata": {
    "execution": {
     "iopub.execute_input": "2025-01-03T16:47:44.096725Z",
     "iopub.status.busy": "2025-01-03T16:47:44.096261Z",
     "iopub.status.idle": "2025-01-03T16:47:44.102007Z",
     "shell.execute_reply": "2025-01-03T16:47:44.100991Z",
     "shell.execute_reply.started": "2025-01-03T16:47:44.096684Z"
    },
    "trusted": true
   },
   "outputs": [],
   "source": [
    "param_grid = {\n",
    "    'n_neighbors': range(1, 5),\n",
    "    'weights': ['uniform', 'distance'],\n",
    "}"
   ]
  },
  {
   "cell_type": "markdown",
   "metadata": {},
   "source": [
    "Настройка и обучение GridSearchCV:"
   ]
  },
  {
   "cell_type": "code",
   "execution_count": 38,
   "metadata": {
    "execution": {
     "iopub.execute_input": "2025-01-03T16:47:44.103642Z",
     "iopub.status.busy": "2025-01-03T16:47:44.103180Z",
     "iopub.status.idle": "2025-01-03T16:50:35.716359Z",
     "shell.execute_reply": "2025-01-03T16:50:35.715147Z",
     "shell.execute_reply.started": "2025-01-03T16:47:44.103601Z"
    },
    "trusted": true
   },
   "outputs": [
    {
     "data": {
      "text/html": [
       "<style>#sk-container-id-7 {color: black;background-color: white;}#sk-container-id-7 pre{padding: 0;}#sk-container-id-7 div.sk-toggleable {background-color: white;}#sk-container-id-7 label.sk-toggleable__label {cursor: pointer;display: block;width: 100%;margin-bottom: 0;padding: 0.3em;box-sizing: border-box;text-align: center;}#sk-container-id-7 label.sk-toggleable__label-arrow:before {content: \"▸\";float: left;margin-right: 0.25em;color: #696969;}#sk-container-id-7 label.sk-toggleable__label-arrow:hover:before {color: black;}#sk-container-id-7 div.sk-estimator:hover label.sk-toggleable__label-arrow:before {color: black;}#sk-container-id-7 div.sk-toggleable__content {max-height: 0;max-width: 0;overflow: hidden;text-align: left;background-color: #f0f8ff;}#sk-container-id-7 div.sk-toggleable__content pre {margin: 0.2em;color: black;border-radius: 0.25em;background-color: #f0f8ff;}#sk-container-id-7 input.sk-toggleable__control:checked~div.sk-toggleable__content {max-height: 200px;max-width: 100%;overflow: auto;}#sk-container-id-7 input.sk-toggleable__control:checked~label.sk-toggleable__label-arrow:before {content: \"▾\";}#sk-container-id-7 div.sk-estimator input.sk-toggleable__control:checked~label.sk-toggleable__label {background-color: #d4ebff;}#sk-container-id-7 div.sk-label input.sk-toggleable__control:checked~label.sk-toggleable__label {background-color: #d4ebff;}#sk-container-id-7 input.sk-hidden--visually {border: 0;clip: rect(1px 1px 1px 1px);clip: rect(1px, 1px, 1px, 1px);height: 1px;margin: -1px;overflow: hidden;padding: 0;position: absolute;width: 1px;}#sk-container-id-7 div.sk-estimator {font-family: monospace;background-color: #f0f8ff;border: 1px dotted black;border-radius: 0.25em;box-sizing: border-box;margin-bottom: 0.5em;}#sk-container-id-7 div.sk-estimator:hover {background-color: #d4ebff;}#sk-container-id-7 div.sk-parallel-item::after {content: \"\";width: 100%;border-bottom: 1px solid gray;flex-grow: 1;}#sk-container-id-7 div.sk-label:hover label.sk-toggleable__label {background-color: #d4ebff;}#sk-container-id-7 div.sk-serial::before {content: \"\";position: absolute;border-left: 1px solid gray;box-sizing: border-box;top: 0;bottom: 0;left: 50%;z-index: 0;}#sk-container-id-7 div.sk-serial {display: flex;flex-direction: column;align-items: center;background-color: white;padding-right: 0.2em;padding-left: 0.2em;position: relative;}#sk-container-id-7 div.sk-item {position: relative;z-index: 1;}#sk-container-id-7 div.sk-parallel {display: flex;align-items: stretch;justify-content: center;background-color: white;position: relative;}#sk-container-id-7 div.sk-item::before, #sk-container-id-7 div.sk-parallel-item::before {content: \"\";position: absolute;border-left: 1px solid gray;box-sizing: border-box;top: 0;bottom: 0;left: 50%;z-index: -1;}#sk-container-id-7 div.sk-parallel-item {display: flex;flex-direction: column;z-index: 1;position: relative;background-color: white;}#sk-container-id-7 div.sk-parallel-item:first-child::after {align-self: flex-end;width: 50%;}#sk-container-id-7 div.sk-parallel-item:last-child::after {align-self: flex-start;width: 50%;}#sk-container-id-7 div.sk-parallel-item:only-child::after {width: 0;}#sk-container-id-7 div.sk-dashed-wrapped {border: 1px dashed gray;margin: 0 0.4em 0.5em 0.4em;box-sizing: border-box;padding-bottom: 0.4em;background-color: white;}#sk-container-id-7 div.sk-label label {font-family: monospace;font-weight: bold;display: inline-block;line-height: 1.2em;}#sk-container-id-7 div.sk-label-container {text-align: center;}#sk-container-id-7 div.sk-container {/* jupyter's `normalize.less` sets `[hidden] { display: none; }` but bootstrap.min.css set `[hidden] { display: none !important; }` so we also need the `!important` here to be able to override the default hidden behavior on the sphinx rendered scikit-learn.org. See: https://github.com/scikit-learn/scikit-learn/issues/21755 */display: inline-block !important;position: relative;}#sk-container-id-7 div.sk-text-repr-fallback {display: none;}</style><div id=\"sk-container-id-7\" class=\"sk-top-container\"><div class=\"sk-text-repr-fallback\"><pre>GridSearchCV(cv=5, estimator=KNeighborsClassifier(),\n",
       "             param_grid={&#x27;n_neighbors&#x27;: range(1, 5),\n",
       "                         &#x27;weights&#x27;: [&#x27;uniform&#x27;, &#x27;distance&#x27;]})</pre><b>In a Jupyter environment, please rerun this cell to show the HTML representation or trust the notebook. <br />On GitHub, the HTML representation is unable to render, please try loading this page with nbviewer.org.</b></div><div class=\"sk-container\" hidden><div class=\"sk-item sk-dashed-wrapped\"><div class=\"sk-label-container\"><div class=\"sk-label sk-toggleable\"><input class=\"sk-toggleable__control sk-hidden--visually\" id=\"sk-estimator-id-7\" type=\"checkbox\" ><label for=\"sk-estimator-id-7\" class=\"sk-toggleable__label sk-toggleable__label-arrow\">GridSearchCV</label><div class=\"sk-toggleable__content\"><pre>GridSearchCV(cv=5, estimator=KNeighborsClassifier(),\n",
       "             param_grid={&#x27;n_neighbors&#x27;: range(1, 5),\n",
       "                         &#x27;weights&#x27;: [&#x27;uniform&#x27;, &#x27;distance&#x27;]})</pre></div></div></div><div class=\"sk-parallel\"><div class=\"sk-parallel-item\"><div class=\"sk-item\"><div class=\"sk-label-container\"><div class=\"sk-label sk-toggleable\"><input class=\"sk-toggleable__control sk-hidden--visually\" id=\"sk-estimator-id-8\" type=\"checkbox\" ><label for=\"sk-estimator-id-8\" class=\"sk-toggleable__label sk-toggleable__label-arrow\">estimator: KNeighborsClassifier</label><div class=\"sk-toggleable__content\"><pre>KNeighborsClassifier()</pre></div></div></div><div class=\"sk-serial\"><div class=\"sk-item\"><div class=\"sk-estimator sk-toggleable\"><input class=\"sk-toggleable__control sk-hidden--visually\" id=\"sk-estimator-id-9\" type=\"checkbox\" ><label for=\"sk-estimator-id-9\" class=\"sk-toggleable__label sk-toggleable__label-arrow\">KNeighborsClassifier</label><div class=\"sk-toggleable__content\"><pre>KNeighborsClassifier()</pre></div></div></div></div></div></div></div></div></div></div>"
      ],
      "text/plain": [
       "GridSearchCV(cv=5, estimator=KNeighborsClassifier(),\n",
       "             param_grid={'n_neighbors': range(1, 5),\n",
       "                         'weights': ['uniform', 'distance']})"
      ]
     },
     "execution_count": 38,
     "metadata": {},
     "output_type": "execute_result"
    }
   ],
   "source": [
    "grid_search = GridSearchCV(KNeighborsClassifier(), param_grid, cv=5)\n",
    "grid_search.fit(X_train_fraud, y_train_fraud)"
   ]
  },
  {
   "cell_type": "markdown",
   "metadata": {},
   "source": [
    "Вывод лучших параметров и результата:"
   ]
  },
  {
   "cell_type": "code",
   "execution_count": 39,
   "metadata": {
    "execution": {
     "iopub.execute_input": "2025-01-03T16:50:35.717738Z",
     "iopub.status.busy": "2025-01-03T16:50:35.717315Z",
     "iopub.status.idle": "2025-01-03T16:50:35.724110Z",
     "shell.execute_reply": "2025-01-03T16:50:35.722785Z",
     "shell.execute_reply.started": "2025-01-03T16:50:35.717707Z"
    },
    "trusted": true
   },
   "outputs": [
    {
     "name": "stdout",
     "output_type": "stream",
     "text": [
      "Best parameters found:  {'n_neighbors': 2, 'weights': 'uniform'}\n",
      "Best cross-validation accuracy:  0.999340514398769\n"
     ]
    }
   ],
   "source": [
    "print(\"Best parameters found: \", grid_search.best_params_)\n",
    "print(\"Best cross-validation accuracy: \", grid_search.best_score_)"
   ]
  },
  {
   "cell_type": "markdown",
   "metadata": {},
   "source": [
    "Оценка качества модели:"
   ]
  },
  {
   "cell_type": "code",
   "execution_count": 40,
   "metadata": {
    "execution": {
     "iopub.execute_input": "2025-01-03T16:50:35.725581Z",
     "iopub.status.busy": "2025-01-03T16:50:35.725165Z",
     "iopub.status.idle": "2025-01-03T16:50:42.704065Z",
     "shell.execute_reply": "2025-01-03T16:50:42.702934Z",
     "shell.execute_reply.started": "2025-01-03T16:50:35.725542Z"
    },
    "trusted": true
   },
   "outputs": [
    {
     "name": "stdout",
     "output_type": "stream",
     "text": [
      "Accuracy: 0.998988833201442\n",
      "F1 Score: 0.9989888344307607\n"
     ]
    }
   ],
   "source": [
    "best_knn = grid_search.best_estimator_\n",
    "y_pred = best_knn.predict(X_test_fraud)\n",
    "accuracy = accuracy_score(y_test_fraud, y_pred)\n",
    "f1 = f1_score(y_test_fraud, y_pred, average='weighted')\n",
    "print(f\"Accuracy: {accuracy}\")\n",
    "print(f\"F1 Score: {f1}\")"
   ]
  },
  {
   "cell_type": "markdown",
   "metadata": {},
   "source": [
    "##### Регрессия"
   ]
  },
  {
   "cell_type": "markdown",
   "metadata": {},
   "source": [
    "Разделение на тренировочный и тестовый наборы:"
   ]
  },
  {
   "cell_type": "code",
   "execution_count": 41,
   "metadata": {
    "execution": {
     "iopub.execute_input": "2025-01-03T16:50:42.705607Z",
     "iopub.status.busy": "2025-01-03T16:50:42.705202Z",
     "iopub.status.idle": "2025-01-03T16:50:42.715284Z",
     "shell.execute_reply": "2025-01-03T16:50:42.713960Z",
     "shell.execute_reply.started": "2025-01-03T16:50:42.705577Z"
    },
    "trusted": true
   },
   "outputs": [],
   "source": [
    "X_train_gold, X_test_gold, y_train_gold, y_test_gold = train_test_split(X_gold, y_gold, test_size=0.2, random_state=42)"
   ]
  },
  {
   "cell_type": "markdown",
   "metadata": {},
   "source": [
    "Замена пропущенных значений:"
   ]
  },
  {
   "cell_type": "code",
   "execution_count": 42,
   "metadata": {
    "execution": {
     "iopub.execute_input": "2025-01-03T16:50:42.717021Z",
     "iopub.status.busy": "2025-01-03T16:50:42.716552Z",
     "iopub.status.idle": "2025-01-03T16:50:42.748909Z",
     "shell.execute_reply": "2025-01-03T16:50:42.747739Z",
     "shell.execute_reply.started": "2025-01-03T16:50:42.716960Z"
    },
    "trusted": true
   },
   "outputs": [],
   "source": [
    "imputer = SimpleImputer(strategy='mean')\n",
    "X_train_gold = imputer.fit_transform(X_train_gold)\n",
    "X_test_gold = imputer.transform(X_test_gold)"
   ]
  },
  {
   "cell_type": "markdown",
   "metadata": {},
   "source": [
    "Удаление строк с пропущенными значениями:"
   ]
  },
  {
   "cell_type": "code",
   "execution_count": 43,
   "metadata": {
    "execution": {
     "iopub.execute_input": "2025-01-03T16:50:42.750610Z",
     "iopub.status.busy": "2025-01-03T16:50:42.750180Z",
     "iopub.status.idle": "2025-01-03T16:50:42.763682Z",
     "shell.execute_reply": "2025-01-03T16:50:42.762076Z",
     "shell.execute_reply.started": "2025-01-03T16:50:42.750577Z"
    },
    "trusted": true
   },
   "outputs": [],
   "source": [
    "mask = ~np.isnan(y_train_gold)\n",
    "X_train_gold = X_train_gold[mask]\n",
    "y_train_gold = y_train_gold[mask]\n",
    "\n",
    "mask_test = ~np.isnan(y_test_gold)\n",
    "X_test_gold = X_test_gold[mask_test]\n",
    "y_test_gold = y_test_gold[mask_test]"
   ]
  },
  {
   "cell_type": "markdown",
   "metadata": {},
   "source": [
    "Масштабирование признаков:"
   ]
  },
  {
   "cell_type": "code",
   "execution_count": 44,
   "metadata": {
    "execution": {
     "iopub.execute_input": "2025-01-03T16:50:42.765550Z",
     "iopub.status.busy": "2025-01-03T16:50:42.765162Z",
     "iopub.status.idle": "2025-01-03T16:50:42.791162Z",
     "shell.execute_reply": "2025-01-03T16:50:42.789766Z",
     "shell.execute_reply.started": "2025-01-03T16:50:42.765511Z"
    },
    "trusted": true
   },
   "outputs": [],
   "source": [
    "scaler_gold = StandardScaler()\n",
    "X_train_gold = scaler_gold.fit_transform(X_train_gold)\n",
    "X_test_gold = scaler_gold.transform(X_test_gold)"
   ]
  },
  {
   "cell_type": "markdown",
   "metadata": {},
   "source": [
    "Определение параметров для перебора:"
   ]
  },
  {
   "cell_type": "code",
   "execution_count": 45,
   "metadata": {
    "execution": {
     "iopub.execute_input": "2025-01-03T16:50:42.792838Z",
     "iopub.status.busy": "2025-01-03T16:50:42.792408Z",
     "iopub.status.idle": "2025-01-03T16:50:42.812735Z",
     "shell.execute_reply": "2025-01-03T16:50:42.811414Z",
     "shell.execute_reply.started": "2025-01-03T16:50:42.792798Z"
    },
    "trusted": true
   },
   "outputs": [],
   "source": [
    "param_grid = {\n",
    "    'n_neighbors': range(1, 5),\n",
    "    'weights': ['uniform', 'distance'],\n",
    "    'metric': ['manhattan', 'euclidean']\n",
    "}"
   ]
  },
  {
   "cell_type": "markdown",
   "metadata": {},
   "source": [
    "Настройка и обучение GridSearchCV:"
   ]
  },
  {
   "cell_type": "code",
   "execution_count": 46,
   "metadata": {
    "execution": {
     "iopub.execute_input": "2025-01-03T16:50:42.814314Z",
     "iopub.status.busy": "2025-01-03T16:50:42.813893Z",
     "iopub.status.idle": "2025-01-03T16:50:45.269042Z",
     "shell.execute_reply": "2025-01-03T16:50:45.268172Z",
     "shell.execute_reply.started": "2025-01-03T16:50:42.814275Z"
    },
    "trusted": true
   },
   "outputs": [
    {
     "data": {
      "text/html": [
       "<style>#sk-container-id-8 {color: black;background-color: white;}#sk-container-id-8 pre{padding: 0;}#sk-container-id-8 div.sk-toggleable {background-color: white;}#sk-container-id-8 label.sk-toggleable__label {cursor: pointer;display: block;width: 100%;margin-bottom: 0;padding: 0.3em;box-sizing: border-box;text-align: center;}#sk-container-id-8 label.sk-toggleable__label-arrow:before {content: \"▸\";float: left;margin-right: 0.25em;color: #696969;}#sk-container-id-8 label.sk-toggleable__label-arrow:hover:before {color: black;}#sk-container-id-8 div.sk-estimator:hover label.sk-toggleable__label-arrow:before {color: black;}#sk-container-id-8 div.sk-toggleable__content {max-height: 0;max-width: 0;overflow: hidden;text-align: left;background-color: #f0f8ff;}#sk-container-id-8 div.sk-toggleable__content pre {margin: 0.2em;color: black;border-radius: 0.25em;background-color: #f0f8ff;}#sk-container-id-8 input.sk-toggleable__control:checked~div.sk-toggleable__content {max-height: 200px;max-width: 100%;overflow: auto;}#sk-container-id-8 input.sk-toggleable__control:checked~label.sk-toggleable__label-arrow:before {content: \"▾\";}#sk-container-id-8 div.sk-estimator input.sk-toggleable__control:checked~label.sk-toggleable__label {background-color: #d4ebff;}#sk-container-id-8 div.sk-label input.sk-toggleable__control:checked~label.sk-toggleable__label {background-color: #d4ebff;}#sk-container-id-8 input.sk-hidden--visually {border: 0;clip: rect(1px 1px 1px 1px);clip: rect(1px, 1px, 1px, 1px);height: 1px;margin: -1px;overflow: hidden;padding: 0;position: absolute;width: 1px;}#sk-container-id-8 div.sk-estimator {font-family: monospace;background-color: #f0f8ff;border: 1px dotted black;border-radius: 0.25em;box-sizing: border-box;margin-bottom: 0.5em;}#sk-container-id-8 div.sk-estimator:hover {background-color: #d4ebff;}#sk-container-id-8 div.sk-parallel-item::after {content: \"\";width: 100%;border-bottom: 1px solid gray;flex-grow: 1;}#sk-container-id-8 div.sk-label:hover label.sk-toggleable__label {background-color: #d4ebff;}#sk-container-id-8 div.sk-serial::before {content: \"\";position: absolute;border-left: 1px solid gray;box-sizing: border-box;top: 0;bottom: 0;left: 50%;z-index: 0;}#sk-container-id-8 div.sk-serial {display: flex;flex-direction: column;align-items: center;background-color: white;padding-right: 0.2em;padding-left: 0.2em;position: relative;}#sk-container-id-8 div.sk-item {position: relative;z-index: 1;}#sk-container-id-8 div.sk-parallel {display: flex;align-items: stretch;justify-content: center;background-color: white;position: relative;}#sk-container-id-8 div.sk-item::before, #sk-container-id-8 div.sk-parallel-item::before {content: \"\";position: absolute;border-left: 1px solid gray;box-sizing: border-box;top: 0;bottom: 0;left: 50%;z-index: -1;}#sk-container-id-8 div.sk-parallel-item {display: flex;flex-direction: column;z-index: 1;position: relative;background-color: white;}#sk-container-id-8 div.sk-parallel-item:first-child::after {align-self: flex-end;width: 50%;}#sk-container-id-8 div.sk-parallel-item:last-child::after {align-self: flex-start;width: 50%;}#sk-container-id-8 div.sk-parallel-item:only-child::after {width: 0;}#sk-container-id-8 div.sk-dashed-wrapped {border: 1px dashed gray;margin: 0 0.4em 0.5em 0.4em;box-sizing: border-box;padding-bottom: 0.4em;background-color: white;}#sk-container-id-8 div.sk-label label {font-family: monospace;font-weight: bold;display: inline-block;line-height: 1.2em;}#sk-container-id-8 div.sk-label-container {text-align: center;}#sk-container-id-8 div.sk-container {/* jupyter's `normalize.less` sets `[hidden] { display: none; }` but bootstrap.min.css set `[hidden] { display: none !important; }` so we also need the `!important` here to be able to override the default hidden behavior on the sphinx rendered scikit-learn.org. See: https://github.com/scikit-learn/scikit-learn/issues/21755 */display: inline-block !important;position: relative;}#sk-container-id-8 div.sk-text-repr-fallback {display: none;}</style><div id=\"sk-container-id-8\" class=\"sk-top-container\"><div class=\"sk-text-repr-fallback\"><pre>GridSearchCV(cv=5, estimator=KNeighborsRegressor(),\n",
       "             param_grid={&#x27;metric&#x27;: [&#x27;manhattan&#x27;, &#x27;euclidean&#x27;],\n",
       "                         &#x27;n_neighbors&#x27;: range(1, 5),\n",
       "                         &#x27;weights&#x27;: [&#x27;uniform&#x27;, &#x27;distance&#x27;]},\n",
       "             scoring=&#x27;neg_mean_squared_error&#x27;)</pre><b>In a Jupyter environment, please rerun this cell to show the HTML representation or trust the notebook. <br />On GitHub, the HTML representation is unable to render, please try loading this page with nbviewer.org.</b></div><div class=\"sk-container\" hidden><div class=\"sk-item sk-dashed-wrapped\"><div class=\"sk-label-container\"><div class=\"sk-label sk-toggleable\"><input class=\"sk-toggleable__control sk-hidden--visually\" id=\"sk-estimator-id-10\" type=\"checkbox\" ><label for=\"sk-estimator-id-10\" class=\"sk-toggleable__label sk-toggleable__label-arrow\">GridSearchCV</label><div class=\"sk-toggleable__content\"><pre>GridSearchCV(cv=5, estimator=KNeighborsRegressor(),\n",
       "             param_grid={&#x27;metric&#x27;: [&#x27;manhattan&#x27;, &#x27;euclidean&#x27;],\n",
       "                         &#x27;n_neighbors&#x27;: range(1, 5),\n",
       "                         &#x27;weights&#x27;: [&#x27;uniform&#x27;, &#x27;distance&#x27;]},\n",
       "             scoring=&#x27;neg_mean_squared_error&#x27;)</pre></div></div></div><div class=\"sk-parallel\"><div class=\"sk-parallel-item\"><div class=\"sk-item\"><div class=\"sk-label-container\"><div class=\"sk-label sk-toggleable\"><input class=\"sk-toggleable__control sk-hidden--visually\" id=\"sk-estimator-id-11\" type=\"checkbox\" ><label for=\"sk-estimator-id-11\" class=\"sk-toggleable__label sk-toggleable__label-arrow\">estimator: KNeighborsRegressor</label><div class=\"sk-toggleable__content\"><pre>KNeighborsRegressor()</pre></div></div></div><div class=\"sk-serial\"><div class=\"sk-item\"><div class=\"sk-estimator sk-toggleable\"><input class=\"sk-toggleable__control sk-hidden--visually\" id=\"sk-estimator-id-12\" type=\"checkbox\" ><label for=\"sk-estimator-id-12\" class=\"sk-toggleable__label sk-toggleable__label-arrow\">KNeighborsRegressor</label><div class=\"sk-toggleable__content\"><pre>KNeighborsRegressor()</pre></div></div></div></div></div></div></div></div></div></div>"
      ],
      "text/plain": [
       "GridSearchCV(cv=5, estimator=KNeighborsRegressor(),\n",
       "             param_grid={'metric': ['manhattan', 'euclidean'],\n",
       "                         'n_neighbors': range(1, 5),\n",
       "                         'weights': ['uniform', 'distance']},\n",
       "             scoring='neg_mean_squared_error')"
      ]
     },
     "execution_count": 46,
     "metadata": {},
     "output_type": "execute_result"
    }
   ],
   "source": [
    "grid_search = GridSearchCV(KNeighborsRegressor(), param_grid, cv=5, scoring='neg_mean_squared_error')\n",
    "grid_search.fit(X_train_gold, y_train_gold)"
   ]
  },
  {
   "cell_type": "markdown",
   "metadata": {},
   "source": [
    "Вывод лучших параметров и результата:"
   ]
  },
  {
   "cell_type": "code",
   "execution_count": 47,
   "metadata": {
    "execution": {
     "iopub.execute_input": "2025-01-03T16:50:45.270614Z",
     "iopub.status.busy": "2025-01-03T16:50:45.269989Z",
     "iopub.status.idle": "2025-01-03T16:50:45.279224Z",
     "shell.execute_reply": "2025-01-03T16:50:45.278067Z",
     "shell.execute_reply.started": "2025-01-03T16:50:45.270584Z"
    },
    "trusted": true
   },
   "outputs": [
    {
     "name": "stdout",
     "output_type": "stream",
     "text": [
      "Best parameters found:  {'metric': 'manhattan', 'n_neighbors': 4, 'weights': 'distance'}\n",
      "Best cross-validation accuracy:  -14375992395361.484\n"
     ]
    }
   ],
   "source": [
    "print(\"Best parameters found: \", grid_search.best_params_)\n",
    "print(\"Best cross-validation accuracy: \", grid_search.best_score_)"
   ]
  },
  {
   "cell_type": "markdown",
   "metadata": {},
   "source": [
    "Оценка модели с лучшими параметрами на тестовом наборе:"
   ]
  },
  {
   "cell_type": "code",
   "execution_count": 48,
   "metadata": {
    "execution": {
     "iopub.execute_input": "2025-01-03T16:50:45.280916Z",
     "iopub.status.busy": "2025-01-03T16:50:45.280599Z",
     "iopub.status.idle": "2025-01-03T16:50:45.372755Z",
     "shell.execute_reply": "2025-01-03T16:50:45.371095Z",
     "shell.execute_reply.started": "2025-01-03T16:50:45.280888Z"
    },
    "trusted": true
   },
   "outputs": [
    {
     "name": "stdout",
     "output_type": "stream",
     "text": [
      "Mean Absolute Error: 2398788.410257056\n",
      "R-squared: 0.6048118747567148\n"
     ]
    }
   ],
   "source": [
    "best_knn = grid_search.best_estimator_\n",
    "y_pred = best_knn.predict(X_test_gold)\n",
    "mae = mean_absolute_error(y_test_gold, y_pred)\n",
    "r2 = r2_score(y_test_gold, y_pred)\n",
    "print(f\"Mean Absolute Error: {mae}\")\n",
    "print(f\"R-squared: {r2}\")"
   ]
  },
  {
   "cell_type": "markdown",
   "metadata": {},
   "source": [
    "### Формирование улучшенного бейзлайна"
   ]
  },
  {
   "cell_type": "markdown",
   "metadata": {},
   "source": [
    "##### Классификация"
   ]
  },
  {
   "cell_type": "markdown",
   "metadata": {},
   "source": [
    "В улучшенном бейзлайне добавлено масштабирование признаков, а значение гиперпараметра n_neighbors изменено на 3."
   ]
  },
  {
   "cell_type": "markdown",
   "metadata": {},
   "source": [
    "Формирование улучшенного бейзлайна:"
   ]
  },
  {
   "cell_type": "code",
   "execution_count": 49,
   "metadata": {
    "execution": {
     "iopub.execute_input": "2025-01-03T16:50:45.373869Z",
     "iopub.status.busy": "2025-01-03T16:50:45.373463Z",
     "iopub.status.idle": "2025-01-03T16:50:45.531784Z",
     "shell.execute_reply": "2025-01-03T16:50:45.530397Z",
     "shell.execute_reply.started": "2025-01-03T16:50:45.373840Z"
    },
    "trusted": true
   },
   "outputs": [],
   "source": [
    "X_train_fraud, X_test_fraud, y_train_fraud, y_test_fraud = train_test_split(X_fraud, y_fraud, test_size=0.2, random_state=42)\n",
    "\n",
    "imputer = SimpleImputer(strategy='mean')\n",
    "X_train_fraud = pd.DataFrame(imputer.fit_transform(X_train_fraud))\n",
    "X_test_fraud = pd.DataFrame(imputer.transform(X_test_fraud))\n",
    "\n",
    "scaler_fraud = StandardScaler()\n",
    "X_train_fraud = scaler_fraud.fit_transform(X_train_fraud)\n",
    "X_test_fraud = scaler_fraud.transform(X_test_fraud)\n",
    "                                   \n",
    "knn_clf = KNeighborsClassifier(n_neighbors=3)"
   ]
  },
  {
   "cell_type": "markdown",
   "metadata": {},
   "source": [
    "##### Регрессия"
   ]
  },
  {
   "cell_type": "markdown",
   "metadata": {},
   "source": [
    "В улучшенном бейзлайне добавлено масштабирование признаков, значение гиперпараметра n_neighbors изменено на 4, значение гиперпараметра weights изменено на \"distance\", занчение metric -- на \"manhattan\""
   ]
  },
  {
   "cell_type": "code",
   "execution_count": 50,
   "metadata": {
    "execution": {
     "iopub.execute_input": "2025-01-03T16:50:45.532961Z",
     "iopub.status.busy": "2025-01-03T16:50:45.532673Z",
     "iopub.status.idle": "2025-01-03T16:50:45.560731Z",
     "shell.execute_reply": "2025-01-03T16:50:45.559717Z",
     "shell.execute_reply.started": "2025-01-03T16:50:45.532938Z"
    },
    "trusted": true
   },
   "outputs": [],
   "source": [
    "X_train_gold, X_test_gold, y_train_gold, y_test_gold = train_test_split(X_gold, y_gold, test_size=0.2, random_state=42)\n",
    "\n",
    "imputer = SimpleImputer(strategy='mean')\n",
    "X_train_gold = imputer.fit_transform(X_train_gold)\n",
    "X_test_gold = imputer.transform(X_test_gold)\n",
    "\n",
    "mask = ~np.isnan(y_train_gold)\n",
    "X_train_gold = X_train_gold[mask]\n",
    "y_train_gold = y_train_gold[mask]\n",
    "mask_test = ~np.isnan(y_test_gold)\n",
    "X_test_gold = X_test_gold[mask_test]\n",
    "y_test_gold = y_test_gold[mask_test]\n",
    "\n",
    "scaler_gold = StandardScaler()\n",
    "X_train_gold = scaler_gold.fit_transform(X_train_gold)\n",
    "X_test_gold = scaler_gold.transform(X_test_gold)\n",
    "\n",
    "knn_reg = KNeighborsRegressor(n_neighbors=4, weights=\"distance\", metric=\"manhattan\")"
   ]
  },
  {
   "cell_type": "markdown",
   "metadata": {},
   "source": [
    "### Обучение модели с улучшенным бейзлайном"
   ]
  },
  {
   "cell_type": "markdown",
   "metadata": {},
   "source": [
    "##### Классификация"
   ]
  },
  {
   "cell_type": "markdown",
   "metadata": {},
   "source": [
    "Обучение модели:"
   ]
  },
  {
   "cell_type": "code",
   "execution_count": 51,
   "metadata": {
    "execution": {
     "iopub.execute_input": "2025-01-03T16:50:45.563048Z",
     "iopub.status.busy": "2025-01-03T16:50:45.562537Z",
     "iopub.status.idle": "2025-01-03T16:50:45.585694Z",
     "shell.execute_reply": "2025-01-03T16:50:45.584528Z",
     "shell.execute_reply.started": "2025-01-03T16:50:45.563001Z"
    },
    "trusted": true
   },
   "outputs": [
    {
     "data": {
      "text/html": [
       "<style>#sk-container-id-9 {color: black;background-color: white;}#sk-container-id-9 pre{padding: 0;}#sk-container-id-9 div.sk-toggleable {background-color: white;}#sk-container-id-9 label.sk-toggleable__label {cursor: pointer;display: block;width: 100%;margin-bottom: 0;padding: 0.3em;box-sizing: border-box;text-align: center;}#sk-container-id-9 label.sk-toggleable__label-arrow:before {content: \"▸\";float: left;margin-right: 0.25em;color: #696969;}#sk-container-id-9 label.sk-toggleable__label-arrow:hover:before {color: black;}#sk-container-id-9 div.sk-estimator:hover label.sk-toggleable__label-arrow:before {color: black;}#sk-container-id-9 div.sk-toggleable__content {max-height: 0;max-width: 0;overflow: hidden;text-align: left;background-color: #f0f8ff;}#sk-container-id-9 div.sk-toggleable__content pre {margin: 0.2em;color: black;border-radius: 0.25em;background-color: #f0f8ff;}#sk-container-id-9 input.sk-toggleable__control:checked~div.sk-toggleable__content {max-height: 200px;max-width: 100%;overflow: auto;}#sk-container-id-9 input.sk-toggleable__control:checked~label.sk-toggleable__label-arrow:before {content: \"▾\";}#sk-container-id-9 div.sk-estimator input.sk-toggleable__control:checked~label.sk-toggleable__label {background-color: #d4ebff;}#sk-container-id-9 div.sk-label input.sk-toggleable__control:checked~label.sk-toggleable__label {background-color: #d4ebff;}#sk-container-id-9 input.sk-hidden--visually {border: 0;clip: rect(1px 1px 1px 1px);clip: rect(1px, 1px, 1px, 1px);height: 1px;margin: -1px;overflow: hidden;padding: 0;position: absolute;width: 1px;}#sk-container-id-9 div.sk-estimator {font-family: monospace;background-color: #f0f8ff;border: 1px dotted black;border-radius: 0.25em;box-sizing: border-box;margin-bottom: 0.5em;}#sk-container-id-9 div.sk-estimator:hover {background-color: #d4ebff;}#sk-container-id-9 div.sk-parallel-item::after {content: \"\";width: 100%;border-bottom: 1px solid gray;flex-grow: 1;}#sk-container-id-9 div.sk-label:hover label.sk-toggleable__label {background-color: #d4ebff;}#sk-container-id-9 div.sk-serial::before {content: \"\";position: absolute;border-left: 1px solid gray;box-sizing: border-box;top: 0;bottom: 0;left: 50%;z-index: 0;}#sk-container-id-9 div.sk-serial {display: flex;flex-direction: column;align-items: center;background-color: white;padding-right: 0.2em;padding-left: 0.2em;position: relative;}#sk-container-id-9 div.sk-item {position: relative;z-index: 1;}#sk-container-id-9 div.sk-parallel {display: flex;align-items: stretch;justify-content: center;background-color: white;position: relative;}#sk-container-id-9 div.sk-item::before, #sk-container-id-9 div.sk-parallel-item::before {content: \"\";position: absolute;border-left: 1px solid gray;box-sizing: border-box;top: 0;bottom: 0;left: 50%;z-index: -1;}#sk-container-id-9 div.sk-parallel-item {display: flex;flex-direction: column;z-index: 1;position: relative;background-color: white;}#sk-container-id-9 div.sk-parallel-item:first-child::after {align-self: flex-end;width: 50%;}#sk-container-id-9 div.sk-parallel-item:last-child::after {align-self: flex-start;width: 50%;}#sk-container-id-9 div.sk-parallel-item:only-child::after {width: 0;}#sk-container-id-9 div.sk-dashed-wrapped {border: 1px dashed gray;margin: 0 0.4em 0.5em 0.4em;box-sizing: border-box;padding-bottom: 0.4em;background-color: white;}#sk-container-id-9 div.sk-label label {font-family: monospace;font-weight: bold;display: inline-block;line-height: 1.2em;}#sk-container-id-9 div.sk-label-container {text-align: center;}#sk-container-id-9 div.sk-container {/* jupyter's `normalize.less` sets `[hidden] { display: none; }` but bootstrap.min.css set `[hidden] { display: none !important; }` so we also need the `!important` here to be able to override the default hidden behavior on the sphinx rendered scikit-learn.org. See: https://github.com/scikit-learn/scikit-learn/issues/21755 */display: inline-block !important;position: relative;}#sk-container-id-9 div.sk-text-repr-fallback {display: none;}</style><div id=\"sk-container-id-9\" class=\"sk-top-container\"><div class=\"sk-text-repr-fallback\"><pre>KNeighborsClassifier(n_neighbors=3)</pre><b>In a Jupyter environment, please rerun this cell to show the HTML representation or trust the notebook. <br />On GitHub, the HTML representation is unable to render, please try loading this page with nbviewer.org.</b></div><div class=\"sk-container\" hidden><div class=\"sk-item\"><div class=\"sk-estimator sk-toggleable\"><input class=\"sk-toggleable__control sk-hidden--visually\" id=\"sk-estimator-id-13\" type=\"checkbox\" checked><label for=\"sk-estimator-id-13\" class=\"sk-toggleable__label sk-toggleable__label-arrow\">KNeighborsClassifier</label><div class=\"sk-toggleable__content\"><pre>KNeighborsClassifier(n_neighbors=3)</pre></div></div></div></div></div>"
      ],
      "text/plain": [
       "KNeighborsClassifier(n_neighbors=3)"
      ]
     },
     "execution_count": 51,
     "metadata": {},
     "output_type": "execute_result"
    }
   ],
   "source": [
    "knn_clf.fit(X_train_fraud, y_train_fraud)"
   ]
  },
  {
   "cell_type": "markdown",
   "metadata": {},
   "source": [
    "##### Регрессия"
   ]
  },
  {
   "cell_type": "markdown",
   "metadata": {},
   "source": [
    "Обучение модели:"
   ]
  },
  {
   "cell_type": "code",
   "execution_count": 52,
   "metadata": {
    "execution": {
     "iopub.execute_input": "2025-01-03T16:50:45.587068Z",
     "iopub.status.busy": "2025-01-03T16:50:45.586677Z",
     "iopub.status.idle": "2025-01-03T16:50:45.596369Z",
     "shell.execute_reply": "2025-01-03T16:50:45.595103Z",
     "shell.execute_reply.started": "2025-01-03T16:50:45.587040Z"
    },
    "trusted": true
   },
   "outputs": [
    {
     "data": {
      "text/html": [
       "<style>#sk-container-id-10 {color: black;background-color: white;}#sk-container-id-10 pre{padding: 0;}#sk-container-id-10 div.sk-toggleable {background-color: white;}#sk-container-id-10 label.sk-toggleable__label {cursor: pointer;display: block;width: 100%;margin-bottom: 0;padding: 0.3em;box-sizing: border-box;text-align: center;}#sk-container-id-10 label.sk-toggleable__label-arrow:before {content: \"▸\";float: left;margin-right: 0.25em;color: #696969;}#sk-container-id-10 label.sk-toggleable__label-arrow:hover:before {color: black;}#sk-container-id-10 div.sk-estimator:hover label.sk-toggleable__label-arrow:before {color: black;}#sk-container-id-10 div.sk-toggleable__content {max-height: 0;max-width: 0;overflow: hidden;text-align: left;background-color: #f0f8ff;}#sk-container-id-10 div.sk-toggleable__content pre {margin: 0.2em;color: black;border-radius: 0.25em;background-color: #f0f8ff;}#sk-container-id-10 input.sk-toggleable__control:checked~div.sk-toggleable__content {max-height: 200px;max-width: 100%;overflow: auto;}#sk-container-id-10 input.sk-toggleable__control:checked~label.sk-toggleable__label-arrow:before {content: \"▾\";}#sk-container-id-10 div.sk-estimator input.sk-toggleable__control:checked~label.sk-toggleable__label {background-color: #d4ebff;}#sk-container-id-10 div.sk-label input.sk-toggleable__control:checked~label.sk-toggleable__label {background-color: #d4ebff;}#sk-container-id-10 input.sk-hidden--visually {border: 0;clip: rect(1px 1px 1px 1px);clip: rect(1px, 1px, 1px, 1px);height: 1px;margin: -1px;overflow: hidden;padding: 0;position: absolute;width: 1px;}#sk-container-id-10 div.sk-estimator {font-family: monospace;background-color: #f0f8ff;border: 1px dotted black;border-radius: 0.25em;box-sizing: border-box;margin-bottom: 0.5em;}#sk-container-id-10 div.sk-estimator:hover {background-color: #d4ebff;}#sk-container-id-10 div.sk-parallel-item::after {content: \"\";width: 100%;border-bottom: 1px solid gray;flex-grow: 1;}#sk-container-id-10 div.sk-label:hover label.sk-toggleable__label {background-color: #d4ebff;}#sk-container-id-10 div.sk-serial::before {content: \"\";position: absolute;border-left: 1px solid gray;box-sizing: border-box;top: 0;bottom: 0;left: 50%;z-index: 0;}#sk-container-id-10 div.sk-serial {display: flex;flex-direction: column;align-items: center;background-color: white;padding-right: 0.2em;padding-left: 0.2em;position: relative;}#sk-container-id-10 div.sk-item {position: relative;z-index: 1;}#sk-container-id-10 div.sk-parallel {display: flex;align-items: stretch;justify-content: center;background-color: white;position: relative;}#sk-container-id-10 div.sk-item::before, #sk-container-id-10 div.sk-parallel-item::before {content: \"\";position: absolute;border-left: 1px solid gray;box-sizing: border-box;top: 0;bottom: 0;left: 50%;z-index: -1;}#sk-container-id-10 div.sk-parallel-item {display: flex;flex-direction: column;z-index: 1;position: relative;background-color: white;}#sk-container-id-10 div.sk-parallel-item:first-child::after {align-self: flex-end;width: 50%;}#sk-container-id-10 div.sk-parallel-item:last-child::after {align-self: flex-start;width: 50%;}#sk-container-id-10 div.sk-parallel-item:only-child::after {width: 0;}#sk-container-id-10 div.sk-dashed-wrapped {border: 1px dashed gray;margin: 0 0.4em 0.5em 0.4em;box-sizing: border-box;padding-bottom: 0.4em;background-color: white;}#sk-container-id-10 div.sk-label label {font-family: monospace;font-weight: bold;display: inline-block;line-height: 1.2em;}#sk-container-id-10 div.sk-label-container {text-align: center;}#sk-container-id-10 div.sk-container {/* jupyter's `normalize.less` sets `[hidden] { display: none; }` but bootstrap.min.css set `[hidden] { display: none !important; }` so we also need the `!important` here to be able to override the default hidden behavior on the sphinx rendered scikit-learn.org. See: https://github.com/scikit-learn/scikit-learn/issues/21755 */display: inline-block !important;position: relative;}#sk-container-id-10 div.sk-text-repr-fallback {display: none;}</style><div id=\"sk-container-id-10\" class=\"sk-top-container\"><div class=\"sk-text-repr-fallback\"><pre>KNeighborsRegressor(metric=&#x27;manhattan&#x27;, n_neighbors=4, weights=&#x27;distance&#x27;)</pre><b>In a Jupyter environment, please rerun this cell to show the HTML representation or trust the notebook. <br />On GitHub, the HTML representation is unable to render, please try loading this page with nbviewer.org.</b></div><div class=\"sk-container\" hidden><div class=\"sk-item\"><div class=\"sk-estimator sk-toggleable\"><input class=\"sk-toggleable__control sk-hidden--visually\" id=\"sk-estimator-id-14\" type=\"checkbox\" checked><label for=\"sk-estimator-id-14\" class=\"sk-toggleable__label sk-toggleable__label-arrow\">KNeighborsRegressor</label><div class=\"sk-toggleable__content\"><pre>KNeighborsRegressor(metric=&#x27;manhattan&#x27;, n_neighbors=4, weights=&#x27;distance&#x27;)</pre></div></div></div></div></div>"
      ],
      "text/plain": [
       "KNeighborsRegressor(metric='manhattan', n_neighbors=4, weights='distance')"
      ]
     },
     "execution_count": 52,
     "metadata": {},
     "output_type": "execute_result"
    }
   ],
   "source": [
    "knn_reg.fit(X_train_gold, y_train_gold)"
   ]
  },
  {
   "cell_type": "markdown",
   "metadata": {},
   "source": [
    "### Оценка качества модели с улучшенным бейзлайном"
   ]
  },
  {
   "cell_type": "markdown",
   "metadata": {},
   "source": [
    "##### Классификация"
   ]
  },
  {
   "cell_type": "markdown",
   "metadata": {},
   "source": [
    "Оценка качества модели:"
   ]
  },
  {
   "cell_type": "code",
   "execution_count": 53,
   "metadata": {
    "execution": {
     "iopub.execute_input": "2025-01-03T16:50:45.598209Z",
     "iopub.status.busy": "2025-01-03T16:50:45.597792Z",
     "iopub.status.idle": "2025-01-03T16:50:52.432659Z",
     "shell.execute_reply": "2025-01-03T16:50:52.431103Z",
     "shell.execute_reply.started": "2025-01-03T16:50:45.598160Z"
    },
    "trusted": true
   },
   "outputs": [
    {
     "name": "stdout",
     "output_type": "stream",
     "text": [
      "Accuracy: 0.9980216301767344\n",
      "F1 Score: 0.9980216319854016\n"
     ]
    }
   ],
   "source": [
    "y_pred_fraud_improved = knn_clf.predict(X_test_fraud)\n",
    "accuracy_improved = accuracy_score(y_test_fraud, y_pred_fraud)\n",
    "f1_improved = f1_score(y_test_fraud, y_pred_fraud, average='weighted')\n",
    "print(f\"Accuracy: {accuracy_improved}\")\n",
    "print(f\"F1 Score: {f1_improved}\")"
   ]
  },
  {
   "cell_type": "markdown",
   "metadata": {},
   "source": [
    "##### Регрессия"
   ]
  },
  {
   "cell_type": "markdown",
   "metadata": {},
   "source": [
    "Оценка качества модели:"
   ]
  },
  {
   "cell_type": "code",
   "execution_count": 54,
   "metadata": {
    "execution": {
     "iopub.execute_input": "2025-01-03T16:50:52.434088Z",
     "iopub.status.busy": "2025-01-03T16:50:52.433790Z",
     "iopub.status.idle": "2025-01-03T16:50:52.513449Z",
     "shell.execute_reply": "2025-01-03T16:50:52.511620Z",
     "shell.execute_reply.started": "2025-01-03T16:50:52.434062Z"
    },
    "trusted": true
   },
   "outputs": [
    {
     "name": "stdout",
     "output_type": "stream",
     "text": [
      "Mean Absolute Error: 2458516.087850468\n",
      "R-squared: 0.5869693562024589\n"
     ]
    }
   ],
   "source": [
    "y_pred_gold_improved = knn_reg.predict(X_test_gold)\n",
    "mae_improved = mean_absolute_error(y_test_gold, y_pred_gold)\n",
    "r2_improved = r2_score(y_test_gold, y_pred_gold)\n",
    "print(f\"Mean Absolute Error: {mae_improved}\")\n",
    "print(f\"R-squared: {r2_improved}\")"
   ]
  },
  {
   "cell_type": "markdown",
   "metadata": {},
   "source": [
    "### Сравнение результатов первоначального бейзлайна с улучшенным бейзлайном"
   ]
  },
  {
   "cell_type": "markdown",
   "metadata": {},
   "source": [
    "##### Классификация"
   ]
  },
  {
   "cell_type": "markdown",
   "metadata": {},
   "source": [
    "Видим, что результаты улучшились:"
   ]
  },
  {
   "cell_type": "code",
   "execution_count": 55,
   "metadata": {
    "execution": {
     "iopub.execute_input": "2025-01-03T16:50:52.514350Z",
     "iopub.status.busy": "2025-01-03T16:50:52.514075Z",
     "iopub.status.idle": "2025-01-03T16:50:52.523584Z",
     "shell.execute_reply": "2025-01-03T16:50:52.522768Z",
     "shell.execute_reply.started": "2025-01-03T16:50:52.514325Z"
    },
    "trusted": true
   },
   "outputs": [
    {
     "name": "stdout",
     "output_type": "stream",
     "text": [
      "Accuracy difference: -0.0010551305724083582\n",
      "F1 Score difference: -0.0010551269168190824\n"
     ]
    }
   ],
   "source": [
    "print(f\"Accuracy difference: {accuracy_improved-accuracy_origin}\")\n",
    "print(f\"F1 Score difference: {f1_improved-f1_origin}\")"
   ]
  },
  {
   "cell_type": "markdown",
   "metadata": {},
   "source": [
    "##### Регрессия"
   ]
  },
  {
   "cell_type": "markdown",
   "metadata": {},
   "source": [
    "Видим, что результаты улучшились:"
   ]
  },
  {
   "cell_type": "code",
   "execution_count": 56,
   "metadata": {
    "execution": {
     "iopub.execute_input": "2025-01-03T16:50:52.524396Z",
     "iopub.status.busy": "2025-01-03T16:50:52.524156Z",
     "iopub.status.idle": "2025-01-03T16:50:52.545424Z",
     "shell.execute_reply": "2025-01-03T16:50:52.544412Z",
     "shell.execute_reply.started": "2025-01-03T16:50:52.524372Z"
    },
    "trusted": true
   },
   "outputs": [
    {
     "name": "stdout",
     "output_type": "stream",
     "text": [
      "Mean Absolute Error difference: 1146752.6136181564\n",
      "R-squared difference: 0.3267380314086722\n"
     ]
    }
   ],
   "source": [
    "print(f\"Mean Absolute Error difference: {mae_origin-mae_improved}\")\n",
    "print(f\"R-squared difference: {r2_improved-r2_origin}\")"
   ]
  },
  {
   "cell_type": "markdown",
   "metadata": {},
   "source": [
    "### Выводы"
   ]
  },
  {
   "cell_type": "markdown",
   "metadata": {},
   "source": [
    "С улучшенным бейзлайном качество модели возрасло, поэтому можно сделать следующие выводы:\n",
    "1. Масштабирование важно: Методы, такие как K-ближайшие соседи, чувствительны к масштабу признаков. Масштабирование улучшает точность, так как делает все признаки равнозначными.\n",
    "2. Гиперпараметры имеют значение: Оптимальная настройка гиперпараметров, таких как количество соседей (n_neighbors), значительно повышает качество модели, если сравнивать с настройками по умолчанию."
   ]
  },
  {
   "cell_type": "markdown",
   "metadata": {},
   "source": [
    "## Имплементация алгоритма машинного обучения"
   ]
  },
  {
   "cell_type": "markdown",
   "metadata": {},
   "source": [
    "### Самостоятельная имплементация"
   ]
  },
  {
   "cell_type": "markdown",
   "metadata": {},
   "source": [
    "##### Классификация"
   ]
  },
  {
   "cell_type": "markdown",
   "metadata": {},
   "source": [
    "KNN для задачи классификации:\n",
    "\n",
    "1. Расчет расстояний: Для каждого нового примера (точки, которую нужно классифицировать) рассчитать расстояние до всех обучающих примеров.\n",
    "\n",
    "2. Поиск K ближайших соседей: Отсортировать обучающие примеры по расстоянию до нового примера и выбрать K ближайших примеров. Это — ближайшие соседи.\n",
    "\n",
    "3. Голосование: Определить класс, к которому относится новый пример, на основе голосования: класс, наиболее часто встречающийся среди K соседей, становится прогнозируемым классом для нового примера."
   ]
  },
  {
   "cell_type": "code",
   "execution_count": 57,
   "metadata": {
    "execution": {
     "iopub.execute_input": "2025-01-03T16:50:52.546845Z",
     "iopub.status.busy": "2025-01-03T16:50:52.546458Z",
     "iopub.status.idle": "2025-01-03T16:50:52.574236Z",
     "shell.execute_reply": "2025-01-03T16:50:52.572991Z",
     "shell.execute_reply.started": "2025-01-03T16:50:52.546810Z"
    },
    "trusted": true
   },
   "outputs": [],
   "source": [
    "class KNNClassifier:\n",
    "    def __init__(self, k=5):\n",
    "        self.k = k\n",
    "\n",
    "    def fit(self, X_train, y_train):\n",
    "        self.X_train = X_train.to_numpy() if isinstance(X_train, pd.DataFrame) else X_train\n",
    "        self.y_train = y_train.to_numpy() if isinstance(y_train, pd.Series) else y_train\n",
    "\n",
    "    def predict(self, X_test):\n",
    "        X_test = X_test.to_numpy() if isinstance(X_test, pd.DataFrame) else X_test\n",
    "        return np.array([self._predict(x) for x in X_test])\n",
    "\n",
    "    def _predict(self, x):\n",
    "        x = np.array(x).reshape(1, -1)\n",
    "        distances = distance.cdist(self.X_train, x, 'euclidean').flatten()\n",
    "        k_indices = np.argsort(distances)[:self.k]\n",
    "        k_nearest_labels = [self.y_train[i] for i in k_indices]\n",
    "        most_common = Counter(k_nearest_labels).most_common(1)\n",
    "        return most_common[0][0]"
   ]
  },
  {
   "cell_type": "markdown",
   "metadata": {},
   "source": [
    "##### Регрессия"
   ]
  },
  {
   "cell_type": "markdown",
   "metadata": {},
   "source": [
    "KNN для задачи регрессии:\n",
    "\n",
    "1. Расчет расстояний: Аналогично классификации, рассчитать расстояние до всех обучающих примеров.\n",
    "\n",
    "2. Поиск K ближайших соседей: Отсортировать обучающие примеры по расстоянию и выбрать K ближайших.\n",
    "\n",
    "3. Среднее значение: Вместо голосования для задачи регрессии используется среднее значение целевых переменных K соседей."
   ]
  },
  {
   "cell_type": "code",
   "execution_count": 58,
   "metadata": {
    "execution": {
     "iopub.execute_input": "2025-01-03T16:50:52.576078Z",
     "iopub.status.busy": "2025-01-03T16:50:52.575664Z",
     "iopub.status.idle": "2025-01-03T16:50:52.598882Z",
     "shell.execute_reply": "2025-01-03T16:50:52.597846Z",
     "shell.execute_reply.started": "2025-01-03T16:50:52.576046Z"
    },
    "trusted": true
   },
   "outputs": [],
   "source": [
    "class KNNRegressor:\n",
    "    def __init__(self, k=5):\n",
    "        self.k = k\n",
    "\n",
    "    def fit(self, X_train, y_train):\n",
    "        self.X_train = X_train.to_numpy() if isinstance(X_train, pd.DataFrame) else X_train\n",
    "        self.y_train = y_train.to_numpy() if isinstance(y_train, pd.Series) else y_train\n",
    "\n",
    "    def predict(self, X_test):\n",
    "        X_test = X_test.to_numpy() if isinstance(X_test, pd.DataFrame) else X_test\n",
    "        return np.array([self._predict(x) for x in X_test])\n",
    "\n",
    "    def _predict(self, x):\n",
    "        distances = [np.linalg.norm(x - x_train) for x_train in self.X_train]\n",
    "        k_indices = np.argsort(distances)[:self.k]\n",
    "        k_nearest_labels = [self.y_train[i] for i in k_indices]\n",
    "        return np.mean(k_nearest_labels)"
   ]
  },
  {
   "cell_type": "markdown",
   "metadata": {},
   "source": [
    "### Обучение имплементированной модели"
   ]
  },
  {
   "cell_type": "markdown",
   "metadata": {},
   "source": [
    "##### Классификация"
   ]
  },
  {
   "cell_type": "markdown",
   "metadata": {},
   "source": [
    "Подготовка данных:"
   ]
  },
  {
   "cell_type": "code",
   "execution_count": 59,
   "metadata": {
    "execution": {
     "iopub.execute_input": "2025-01-03T16:50:52.600422Z",
     "iopub.status.busy": "2025-01-03T16:50:52.600017Z",
     "iopub.status.idle": "2025-01-03T16:50:52.717238Z",
     "shell.execute_reply": "2025-01-03T16:50:52.716095Z",
     "shell.execute_reply.started": "2025-01-03T16:50:52.600380Z"
    },
    "trusted": true
   },
   "outputs": [],
   "source": [
    "X_train_fraud, X_test_fraud, y_train_fraud, y_test_fraud = train_test_split(X_fraud, y_fraud, test_size=0.2, random_state=42)\n",
    "\n",
    "imputer = SimpleImputer(strategy='mean')\n",
    "X_train_fraud = pd.DataFrame(imputer.fit_transform(X_train_fraud))\n",
    "X_test_fraud = pd.DataFrame(imputer.transform(X_test_fraud))\n",
    "\n",
    "knn_classifier = KNNClassifier(k=5)"
   ]
  },
  {
   "cell_type": "markdown",
   "metadata": {},
   "source": [
    "Обучение модели:"
   ]
  },
  {
   "cell_type": "code",
   "execution_count": 60,
   "metadata": {
    "execution": {
     "iopub.execute_input": "2025-01-03T16:50:52.718856Z",
     "iopub.status.busy": "2025-01-03T16:50:52.718568Z",
     "iopub.status.idle": "2025-01-03T16:50:52.723548Z",
     "shell.execute_reply": "2025-01-03T16:50:52.722592Z",
     "shell.execute_reply.started": "2025-01-03T16:50:52.718833Z"
    },
    "trusted": true
   },
   "outputs": [],
   "source": [
    "knn_classifier.fit(X_train_fraud, y_train_fraud)"
   ]
  },
  {
   "cell_type": "markdown",
   "metadata": {},
   "source": [
    "##### Регрессия"
   ]
  },
  {
   "cell_type": "markdown",
   "metadata": {},
   "source": [
    "Подготовка данных:"
   ]
  },
  {
   "cell_type": "code",
   "execution_count": 61,
   "metadata": {
    "execution": {
     "iopub.execute_input": "2025-01-03T16:50:52.724943Z",
     "iopub.status.busy": "2025-01-03T16:50:52.724424Z",
     "iopub.status.idle": "2025-01-03T16:50:52.769232Z",
     "shell.execute_reply": "2025-01-03T16:50:52.768008Z",
     "shell.execute_reply.started": "2025-01-03T16:50:52.724893Z"
    },
    "trusted": true
   },
   "outputs": [],
   "source": [
    "X_train_gold, X_test_gold, y_train_gold, y_test_gold = train_test_split(X_gold, y_gold, test_size=0.2, random_state=42)\n",
    "\n",
    "imputer = SimpleImputer(strategy='mean')\n",
    "X_train_gold = imputer.fit_transform(X_train_gold)\n",
    "X_test_gold = imputer.transform(X_test_gold)\n",
    "\n",
    "mask = ~np.isnan(y_train_gold)\n",
    "X_train_gold = X_train_gold[mask]\n",
    "y_train_gold = y_train_gold[mask]\n",
    "mask_test = ~np.isnan(y_test_gold)\n",
    "X_test_gold = X_test_gold[mask_test]\n",
    "y_test_gold = y_test_gold[mask_test]\n",
    "\n",
    "knn_regressor = KNNRegressor(k=5)"
   ]
  },
  {
   "cell_type": "markdown",
   "metadata": {},
   "source": [
    "Обучение модели:"
   ]
  },
  {
   "cell_type": "code",
   "execution_count": 62,
   "metadata": {
    "execution": {
     "iopub.execute_input": "2025-01-03T16:50:52.770494Z",
     "iopub.status.busy": "2025-01-03T16:50:52.770210Z",
     "iopub.status.idle": "2025-01-03T16:50:52.774985Z",
     "shell.execute_reply": "2025-01-03T16:50:52.774022Z",
     "shell.execute_reply.started": "2025-01-03T16:50:52.770452Z"
    },
    "trusted": true
   },
   "outputs": [],
   "source": [
    "knn_regressor.fit(X_train_gold, y_train_gold)"
   ]
  },
  {
   "cell_type": "markdown",
   "metadata": {},
   "source": [
    "### Оценка качества имплементированных моделей"
   ]
  },
  {
   "cell_type": "markdown",
   "metadata": {},
   "source": [
    "##### Классификация"
   ]
  },
  {
   "cell_type": "markdown",
   "metadata": {},
   "source": [
    "Оценка качества модели:"
   ]
  },
  {
   "cell_type": "code",
   "execution_count": 63,
   "metadata": {
    "execution": {
     "iopub.execute_input": "2025-01-03T16:50:52.776248Z",
     "iopub.status.busy": "2025-01-03T16:50:52.775891Z",
     "iopub.status.idle": "2025-01-03T16:59:11.123380Z",
     "shell.execute_reply": "2025-01-03T16:59:11.122469Z",
     "shell.execute_reply.started": "2025-01-03T16:50:52.776210Z"
    },
    "trusted": true
   },
   "outputs": [],
   "source": [
    "y_pred_fraud = knn_classifier.predict(X_test_fraud)"
   ]
  },
  {
   "cell_type": "code",
   "execution_count": 64,
   "metadata": {
    "execution": {
     "iopub.execute_input": "2025-01-03T16:59:11.124856Z",
     "iopub.status.busy": "2025-01-03T16:59:11.124458Z",
     "iopub.status.idle": "2025-01-03T16:59:11.147021Z",
     "shell.execute_reply": "2025-01-03T16:59:11.145817Z",
     "shell.execute_reply.started": "2025-01-03T16:59:11.124828Z"
    },
    "trusted": true
   },
   "outputs": [
    {
     "name": "stdout",
     "output_type": "stream",
     "text": [
      "Accuracy: 0.9990767607491428\n",
      "F1 Score: 0.9990767589022207\n"
     ]
    }
   ],
   "source": [
    "accuracy = accuracy_score(y_test_fraud, y_pred_fraud)\n",
    "f1 = f1_score(y_test_fraud, y_pred_fraud, average='weighted')\n",
    "print(f\"Accuracy: {accuracy}\")\n",
    "print(f\"F1 Score: {f1}\")"
   ]
  },
  {
   "cell_type": "markdown",
   "metadata": {},
   "source": [
    "##### Регрессия"
   ]
  },
  {
   "cell_type": "markdown",
   "metadata": {},
   "source": [
    "Оценка качества модели:"
   ]
  },
  {
   "cell_type": "code",
   "execution_count": 65,
   "metadata": {
    "execution": {
     "iopub.execute_input": "2025-01-03T16:59:11.148609Z",
     "iopub.status.busy": "2025-01-03T16:59:11.148153Z",
     "iopub.status.idle": "2025-01-03T16:59:19.217871Z",
     "shell.execute_reply": "2025-01-03T16:59:19.216759Z",
     "shell.execute_reply.started": "2025-01-03T16:59:11.148569Z"
    },
    "trusted": true
   },
   "outputs": [],
   "source": [
    "y_pred_gold = knn_regressor.predict(X_test_gold)"
   ]
  },
  {
   "cell_type": "code",
   "execution_count": 66,
   "metadata": {
    "execution": {
     "iopub.execute_input": "2025-01-03T16:59:19.219189Z",
     "iopub.status.busy": "2025-01-03T16:59:19.218895Z",
     "iopub.status.idle": "2025-01-03T16:59:19.228312Z",
     "shell.execute_reply": "2025-01-03T16:59:19.227112Z",
     "shell.execute_reply.started": "2025-01-03T16:59:19.219166Z"
    },
    "trusted": true
   },
   "outputs": [
    {
     "name": "stdout",
     "output_type": "stream",
     "text": [
      "Mean Absolute Error: 3605268.701468624\n",
      "R-squared: 0.26023132479378674\n"
     ]
    }
   ],
   "source": [
    "mae = mean_absolute_error(y_test_gold, y_pred_gold)\n",
    "r2 = r2_score(y_test_gold, y_pred_gold)\n",
    "print(f\"Mean Absolute Error: {mae}\")\n",
    "print(f\"R-squared: {r2}\")"
   ]
  },
  {
   "cell_type": "markdown",
   "metadata": {},
   "source": [
    "### Сравнение результатов первоначального бейзлайна и имплементированных моделей"
   ]
  },
  {
   "cell_type": "markdown",
   "metadata": {},
   "source": [
    "##### Классификация"
   ]
  },
  {
   "cell_type": "markdown",
   "metadata": {},
   "source": [
    "Видим, что результаты имплементированной модели немного лучше:"
   ]
  },
  {
   "cell_type": "code",
   "execution_count": 67,
   "metadata": {
    "execution": {
     "iopub.execute_input": "2025-01-03T16:59:19.229864Z",
     "iopub.status.busy": "2025-01-03T16:59:19.229276Z",
     "iopub.status.idle": "2025-01-03T16:59:19.255292Z",
     "shell.execute_reply": "2025-01-03T16:59:19.253908Z",
     "shell.execute_reply.started": "2025-01-03T16:59:19.229821Z"
    },
    "trusted": true
   },
   "outputs": [
    {
     "name": "stdout",
     "output_type": "stream",
     "text": [
      "Accuracy difference: 0.0\n",
      "F1 Score difference: 0.0\n"
     ]
    }
   ],
   "source": [
    "print(f\"Accuracy difference: {accuracy-accuracy_origin}\")\n",
    "print(f\"F1 Score difference: {f1-f1_origin}\")"
   ]
  },
  {
   "cell_type": "markdown",
   "metadata": {},
   "source": [
    "##### Регрессия"
   ]
  },
  {
   "cell_type": "markdown",
   "metadata": {},
   "source": [
    "Видим, что результаты идентичны:"
   ]
  },
  {
   "cell_type": "code",
   "execution_count": 68,
   "metadata": {
    "execution": {
     "iopub.execute_input": "2025-01-03T16:59:19.263193Z",
     "iopub.status.busy": "2025-01-03T16:59:19.262832Z",
     "iopub.status.idle": "2025-01-03T16:59:19.280341Z",
     "shell.execute_reply": "2025-01-03T16:59:19.279278Z",
     "shell.execute_reply.started": "2025-01-03T16:59:19.263152Z"
    },
    "trusted": true
   },
   "outputs": [
    {
     "name": "stdout",
     "output_type": "stream",
     "text": [
      "Mean Absolute Error difference: 0.0\n",
      "R-squared difference: 0.0\n"
     ]
    }
   ],
   "source": [
    "print(f\"Mean Absolute Error difference: {mae_origin-mae}\")\n",
    "print(f\"R-squared difference: {r2-r2_origin}\")"
   ]
  },
  {
   "cell_type": "markdown",
   "metadata": {},
   "source": [
    "### Выводы"
   ]
  },
  {
   "cell_type": "markdown",
   "metadata": {},
   "source": [
    "Оценка качества нашей имплементированной регрессионной модели оказалась идентичной встроенной регресионной модели.\n",
    "Оценка качества нашей имплементированной модели для классификации оказалась иной по сравнению со встроенной моделью. Скорей всего из-за того, что в нашей имплементации используется другой алгоритм метрики расстояния."
   ]
  },
  {
   "cell_type": "markdown",
   "metadata": {},
   "source": [
    "### Добавление техник из улучшенного бейзлайна"
   ]
  },
  {
   "cell_type": "markdown",
   "metadata": {},
   "source": [
    "##### Классификация"
   ]
  },
  {
   "cell_type": "markdown",
   "metadata": {},
   "source": [
    "Формирование улучшенного бейзлайна:"
   ]
  },
  {
   "cell_type": "code",
   "execution_count": 69,
   "metadata": {
    "execution": {
     "iopub.execute_input": "2025-01-03T16:59:19.282529Z",
     "iopub.status.busy": "2025-01-03T16:59:19.282091Z",
     "iopub.status.idle": "2025-01-03T16:59:19.429857Z",
     "shell.execute_reply": "2025-01-03T16:59:19.428753Z",
     "shell.execute_reply.started": "2025-01-03T16:59:19.282453Z"
    },
    "trusted": true
   },
   "outputs": [],
   "source": [
    "X_train_fraud, X_test_fraud, y_train_fraud, y_test_fraud = train_test_split(X_fraud, y_fraud, test_size=0.2, random_state=42)\n",
    "\n",
    "imputer = SimpleImputer(strategy='mean')\n",
    "X_train_fraud = pd.DataFrame(imputer.fit_transform(X_train_fraud))\n",
    "X_test_fraud = pd.DataFrame(imputer.transform(X_test_fraud))\n",
    "\n",
    "scaler_fraud = StandardScaler()\n",
    "X_train_fraud = scaler_fraud.fit_transform(X_train_fraud)\n",
    "X_test_fraud = scaler_fraud.transform(X_test_fraud)\n",
    "                                   \n",
    "knn_classifier = KNNClassifier(k=3)"
   ]
  },
  {
   "cell_type": "markdown",
   "metadata": {},
   "source": [
    "##### Регрессия"
   ]
  },
  {
   "cell_type": "markdown",
   "metadata": {},
   "source": [
    "Немного изменим наш класс, добавив в него возможность выбора метрики расстояния и параметра weights:"
   ]
  },
  {
   "cell_type": "code",
   "execution_count": 70,
   "metadata": {
    "execution": {
     "iopub.execute_input": "2025-01-03T16:59:19.431377Z",
     "iopub.status.busy": "2025-01-03T16:59:19.431003Z",
     "iopub.status.idle": "2025-01-03T16:59:19.440333Z",
     "shell.execute_reply": "2025-01-03T16:59:19.439101Z",
     "shell.execute_reply.started": "2025-01-03T16:59:19.431343Z"
    },
    "trusted": true
   },
   "outputs": [],
   "source": [
    "class KNNRegressor:\n",
    "    def __init__(self, k=5, metric='euclidean', weights='uniform'):\n",
    "        self.k = k\n",
    "        self.metric = metric\n",
    "        self.weights = weights\n",
    "\n",
    "    def fit(self, X_train, y_train):\n",
    "        self.X_train = X_train.to_numpy() if isinstance(X_train, pd.DataFrame) else X_train\n",
    "        self.y_train = y_train.to_numpy() if isinstance(y_train, pd.Series) else y_train\n",
    "\n",
    "    def predict(self, X_test):\n",
    "        X_test = X_test.to_numpy() if isinstance(X_test, pd.DataFrame) else X_test\n",
    "        return np.array([self._predict(x) for x in X_test])\n",
    "\n",
    "    def _predict(self, x):\n",
    "        x = np.array(x).reshape(1, -1)\n",
    "        distances = distance.cdist(self.X_train, x, metric=self.metric).flatten()\n",
    "        k_indices = np.argsort(distances)[:self.k]\n",
    "        k_nearest_distances = distances[k_indices]\n",
    "        k_nearest_labels = [self.y_train[i] for i in k_indices]\n",
    "\n",
    "        if self.weights == 'uniform':\n",
    "            return np.mean(k_nearest_labels)\n",
    "        elif self.weights == 'distance':\n",
    "            # Избегаем деления на ноль, если расстояние равно нулю\n",
    "            weights = 1 / (k_nearest_distances + 1e-10)\n",
    "            return np.dot(weights, k_nearest_labels) / np.sum(weights)\n",
    "        else:\n",
    "            raise ValueError(\"Параметр weights должен быть 'uniform' или 'distance'.\")"
   ]
  },
  {
   "cell_type": "markdown",
   "metadata": {},
   "source": [
    "Формирование улучшенного бейзлайна:"
   ]
  },
  {
   "cell_type": "code",
   "execution_count": 71,
   "metadata": {
    "execution": {
     "iopub.execute_input": "2025-01-03T16:59:19.441746Z",
     "iopub.status.busy": "2025-01-03T16:59:19.441361Z",
     "iopub.status.idle": "2025-01-03T16:59:19.485864Z",
     "shell.execute_reply": "2025-01-03T16:59:19.484659Z",
     "shell.execute_reply.started": "2025-01-03T16:59:19.441694Z"
    },
    "trusted": true
   },
   "outputs": [],
   "source": [
    "X_train_gold, X_test_gold, y_train_gold, y_test_gold = train_test_split(X_gold, y_gold, test_size=0.2, random_state=42)\n",
    "\n",
    "imputer = SimpleImputer(strategy='mean')\n",
    "X_train_gold = imputer.fit_transform(X_train_gold)\n",
    "X_test_gold = imputer.transform(X_test_gold)\n",
    "\n",
    "mask = ~np.isnan(y_train_gold)\n",
    "X_train_gold = X_train_gold[mask]\n",
    "y_train_gold = y_train_gold[mask]\n",
    "mask_test = ~np.isnan(y_test_gold)\n",
    "X_test_gold = X_test_gold[mask_test]\n",
    "y_test_gold = y_test_gold[mask_test]\n",
    "\n",
    "scaler_gold = StandardScaler()\n",
    "X_train_gold = scaler_gold.fit_transform(X_train_gold)\n",
    "X_test_gold = scaler_gold.transform(X_test_gold)\n",
    "\n",
    "knn_regressor = KNNRegressor(k=4, weights=\"distance\", metric=\"cityblock\")"
   ]
  },
  {
   "cell_type": "markdown",
   "metadata": {},
   "source": [
    "### Обучение на улучшенном бейзлайне"
   ]
  },
  {
   "cell_type": "markdown",
   "metadata": {},
   "source": [
    "##### Классификация"
   ]
  },
  {
   "cell_type": "code",
   "execution_count": 72,
   "metadata": {
    "execution": {
     "iopub.execute_input": "2025-01-03T16:59:19.487204Z",
     "iopub.status.busy": "2025-01-03T16:59:19.486887Z",
     "iopub.status.idle": "2025-01-03T16:59:19.492324Z",
     "shell.execute_reply": "2025-01-03T16:59:19.491142Z",
     "shell.execute_reply.started": "2025-01-03T16:59:19.487177Z"
    },
    "trusted": true
   },
   "outputs": [],
   "source": [
    "knn_classifier.fit(X_train_fraud, y_train_fraud)"
   ]
  },
  {
   "cell_type": "markdown",
   "metadata": {},
   "source": [
    "##### Регрессия"
   ]
  },
  {
   "cell_type": "code",
   "execution_count": 73,
   "metadata": {
    "execution": {
     "iopub.execute_input": "2025-01-03T16:59:19.493775Z",
     "iopub.status.busy": "2025-01-03T16:59:19.493456Z",
     "iopub.status.idle": "2025-01-03T16:59:19.515365Z",
     "shell.execute_reply": "2025-01-03T16:59:19.514140Z",
     "shell.execute_reply.started": "2025-01-03T16:59:19.493748Z"
    },
    "trusted": true
   },
   "outputs": [],
   "source": [
    "knn_regressor.fit(X_train_gold, y_train_gold)"
   ]
  },
  {
   "cell_type": "markdown",
   "metadata": {},
   "source": [
    "### Оценка качества моделей на улучшенном бейзлайне"
   ]
  },
  {
   "cell_type": "markdown",
   "metadata": {},
   "source": [
    "##### Классификация"
   ]
  },
  {
   "cell_type": "code",
   "execution_count": 74,
   "metadata": {
    "execution": {
     "iopub.execute_input": "2025-01-03T16:59:19.516820Z",
     "iopub.status.busy": "2025-01-03T16:59:19.516331Z",
     "iopub.status.idle": "2025-01-03T17:08:16.200844Z",
     "shell.execute_reply": "2025-01-03T17:08:16.199637Z",
     "shell.execute_reply.started": "2025-01-03T16:59:19.516781Z"
    },
    "trusted": true
   },
   "outputs": [
    {
     "name": "stdout",
     "output_type": "stream",
     "text": [
      "Accuracy: 0.9985052316890882\n",
      "F1 Score: 0.9985052336536835\n"
     ]
    }
   ],
   "source": [
    "y_pred_fraud = knn_classifier.predict(X_test_fraud)\n",
    "accuracy = accuracy_score(y_test_fraud, y_pred_fraud)\n",
    "f1 = f1_score(y_test_fraud, y_pred_fraud, average='weighted')\n",
    "print(f\"Accuracy: {accuracy}\")\n",
    "print(f\"F1 Score: {f1}\")"
   ]
  },
  {
   "cell_type": "markdown",
   "metadata": {},
   "source": [
    "##### Регрессия"
   ]
  },
  {
   "cell_type": "code",
   "execution_count": 75,
   "metadata": {
    "execution": {
     "iopub.execute_input": "2025-01-03T17:08:16.202256Z",
     "iopub.status.busy": "2025-01-03T17:08:16.201940Z",
     "iopub.status.idle": "2025-01-03T17:08:16.561084Z",
     "shell.execute_reply": "2025-01-03T17:08:16.559562Z",
     "shell.execute_reply.started": "2025-01-03T17:08:16.202229Z"
    },
    "trusted": true
   },
   "outputs": [
    {
     "name": "stdout",
     "output_type": "stream",
     "text": [
      "Mean Absolute Error: 2398788.4102571798\n",
      "R-squared: 0.6048118747567031\n"
     ]
    }
   ],
   "source": [
    "y_pred_gold = knn_regressor.predict(X_test_gold)\n",
    "mae = mean_absolute_error(y_test_gold, y_pred_gold)\n",
    "r2 = r2_score(y_test_gold, y_pred_gold)\n",
    "print(f\"Mean Absolute Error: {mae}\")\n",
    "print(f\"R-squared: {r2}\")"
   ]
  },
  {
   "cell_type": "markdown",
   "metadata": {},
   "source": [
    "### Сравнение результатов"
   ]
  },
  {
   "cell_type": "markdown",
   "metadata": {},
   "source": [
    "##### Классификация"
   ]
  },
  {
   "cell_type": "code",
   "execution_count": 76,
   "metadata": {
    "execution": {
     "iopub.execute_input": "2025-01-03T17:08:16.562437Z",
     "iopub.status.busy": "2025-01-03T17:08:16.562131Z",
     "iopub.status.idle": "2025-01-03T17:08:16.568776Z",
     "shell.execute_reply": "2025-01-03T17:08:16.567417Z",
     "shell.execute_reply.started": "2025-01-03T17:08:16.562410Z"
    },
    "trusted": true
   },
   "outputs": [
    {
     "name": "stdout",
     "output_type": "stream",
     "text": [
      "Accuracy difference: 0.0004836015123538262\n",
      "F1 Score difference: 0.00048360166828187445\n"
     ]
    }
   ],
   "source": [
    "print(f\"Accuracy difference: {accuracy-accuracy_improved}\")\n",
    "print(f\"F1 Score difference: {f1-f1_improved}\")"
   ]
  },
  {
   "cell_type": "markdown",
   "metadata": {},
   "source": [
    "##### Регрессия"
   ]
  },
  {
   "cell_type": "code",
   "execution_count": 77,
   "metadata": {
    "execution": {
     "iopub.execute_input": "2025-01-03T17:08:16.570226Z",
     "iopub.status.busy": "2025-01-03T17:08:16.569926Z",
     "iopub.status.idle": "2025-01-03T17:08:16.595005Z",
     "shell.execute_reply": "2025-01-03T17:08:16.594032Z",
     "shell.execute_reply.started": "2025-01-03T17:08:16.570202Z"
    },
    "trusted": true
   },
   "outputs": [
    {
     "name": "stdout",
     "output_type": "stream",
     "text": [
      "Mean Absolute Error difference: -59727.67759328801\n",
      "R-squared difference: 0.017842518554244124\n"
     ]
    }
   ],
   "source": [
    "print(f\"Mean Absolute Error difference: {mae-mae_improved}\")\n",
    "print(f\"R-squared difference: {r2-r2_improved}\")"
   ]
  },
  {
   "cell_type": "markdown",
   "metadata": {},
   "source": [
    "### Выводы"
   ]
  },
  {
   "cell_type": "markdown",
   "metadata": {},
   "source": [
    "Результаты получились следующие: качество наших имплементаций для задач классификации и регрессии оказалось немного выше улучшенного бейзлайна на готовой реализации."
   ]
  }
 ],
 "metadata": {
  "kaggle": {
   "accelerator": "none",
   "dataSources": [
    {
     "datasetId": 3752264,
     "sourceId": 6492730,
     "sourceType": "datasetVersion"
    },
    {
     "datasetId": 5667159,
     "sourceId": 9428891,
     "sourceType": "datasetVersion"
    },
    {
     "datasetId": 5936111,
     "sourceId": 9705963,
     "sourceType": "datasetVersion"
    }
   ],
   "dockerImageVersionId": 30822,
   "isGpuEnabled": false,
   "isInternetEnabled": true,
   "language": "python",
   "sourceType": "notebook"
  },
  "kernelspec": {
   "display_name": "Python 3",
   "language": "python",
   "name": "python3"
  },
  "language_info": {
   "codemirror_mode": {
    "name": "ipython",
    "version": 3
   },
   "file_extension": ".py",
   "mimetype": "text/x-python",
   "name": "python",
   "nbconvert_exporter": "python",
   "pygments_lexer": "ipython3",
   "version": "3.10.12"
  }
 },
 "nbformat": 4,
 "nbformat_minor": 4
}
